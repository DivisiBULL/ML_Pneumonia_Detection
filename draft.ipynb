{
 "cells": [
  {
   "cell_type": "markdown",
   "metadata": {
    "toc": true
   },
   "source": [
    "<h1>Table of Contents<span class=\"tocSkip\"></span></h1>\n",
    "<div class=\"toc\"><ul class=\"toc-item\"><li><span><a href=\"#Experimenting\" data-toc-modified-id=\"Experimenting-1\"><span class=\"toc-item-num\">1&nbsp;&nbsp;</span>Experimenting</a></span></li><li><span><a href=\"#Main_draft\" data-toc-modified-id=\"Main_draft-2\"><span class=\"toc-item-num\">2&nbsp;&nbsp;</span>Main_draft</a></span><ul class=\"toc-item\"><li><span><a href=\"#Introduction\" data-toc-modified-id=\"Introduction-2.1\"><span class=\"toc-item-num\">2.1&nbsp;&nbsp;</span>Introduction</a></span><ul class=\"toc-item\"><li><span><a href=\"#Dataset\" data-toc-modified-id=\"Dataset-2.1.1\"><span class=\"toc-item-num\">2.1.1&nbsp;&nbsp;</span>Dataset</a></span></li><li><span><a href=\"#Modeling\" data-toc-modified-id=\"Modeling-2.1.2\"><span class=\"toc-item-num\">2.1.2&nbsp;&nbsp;</span>Modeling</a></span></li></ul></li><li><span><a href=\"#Imports\" data-toc-modified-id=\"Imports-2.2\"><span class=\"toc-item-num\">2.2&nbsp;&nbsp;</span>Imports</a></span></li><li><span><a href=\"#Visualizing-Data\" data-toc-modified-id=\"Visualizing-Data-2.3\"><span class=\"toc-item-num\">2.3&nbsp;&nbsp;</span>Visualizing Data</a></span></li><li><span><a href=\"#Data-Preprocessing-&amp;-Augmentation\" data-toc-modified-id=\"Data-Preprocessing-&amp;-Augmentation-2.4\"><span class=\"toc-item-num\">2.4&nbsp;&nbsp;</span>Data Preprocessing &amp; Augmentation</a></span></li><li><span><a href=\"#Modeling\" data-toc-modified-id=\"Modeling-2.5\"><span class=\"toc-item-num\">2.5&nbsp;&nbsp;</span>Modeling</a></span><ul class=\"toc-item\"><li><span><a href=\"#Baseline-Model\" data-toc-modified-id=\"Baseline-Model-2.5.1\"><span class=\"toc-item-num\">2.5.1&nbsp;&nbsp;</span>Baseline Model</a></span></li><li><span><a href=\"#Weighted-Model\" data-toc-modified-id=\"Weighted-Model-2.5.2\"><span class=\"toc-item-num\">2.5.2&nbsp;&nbsp;</span>Weighted Model</a></span></li><li><span><a href=\"#Models-with-different-optimizers\" data-toc-modified-id=\"Models-with-different-optimizers-2.5.3\"><span class=\"toc-item-num\">2.5.3&nbsp;&nbsp;</span>Models with different optimizers</a></span><ul class=\"toc-item\"><li><span><a href=\"#Del\" data-toc-modified-id=\"Del-2.5.3.1\"><span class=\"toc-item-num\">2.5.3.1&nbsp;&nbsp;</span>Del</a></span></li></ul></li></ul></li><li><span><a href=\"#Transfer-Learning\" data-toc-modified-id=\"Transfer-Learning-2.6\"><span class=\"toc-item-num\">2.6&nbsp;&nbsp;</span>Transfer Learning</a></span><ul class=\"toc-item\"><li><span><a href=\"#VGG16\" data-toc-modified-id=\"VGG16-2.6.1\"><span class=\"toc-item-num\">2.6.1&nbsp;&nbsp;</span>VGG16</a></span><ul class=\"toc-item\"><li><span><a href=\"#Fine-Tuning\" data-toc-modified-id=\"Fine-Tuning-2.6.1.1\"><span class=\"toc-item-num\">2.6.1.1&nbsp;&nbsp;</span>Fine Tuning</a></span></li><li><span><a href=\"#temp\" data-toc-modified-id=\"temp-2.6.1.2\"><span class=\"toc-item-num\">2.6.1.2&nbsp;&nbsp;</span>temp</a></span></li></ul></li><li><span><a href=\"#VGG19\" data-toc-modified-id=\"VGG19-2.6.2\"><span class=\"toc-item-num\">2.6.2&nbsp;&nbsp;</span>VGG19</a></span></li><li><span><a href=\"#Xception\" data-toc-modified-id=\"Xception-2.6.3\"><span class=\"toc-item-num\">2.6.3&nbsp;&nbsp;</span>Xception</a></span></li></ul></li><li><span><a href=\"#Evaluation\" data-toc-modified-id=\"Evaluation-2.7\"><span class=\"toc-item-num\">2.7&nbsp;&nbsp;</span>Evaluation</a></span></li><li><span><a href=\"#Conclusion\" data-toc-modified-id=\"Conclusion-2.8\"><span class=\"toc-item-num\">2.8&nbsp;&nbsp;</span>Conclusion</a></span></li><li><span><a href=\"#Future-Work\" data-toc-modified-id=\"Future-Work-2.9\"><span class=\"toc-item-num\">2.9&nbsp;&nbsp;</span>Future Work</a></span></li></ul></li></ul></div>"
   ]
  },
  {
   "cell_type": "markdown",
   "metadata": {
    "heading_collapsed": true
   },
   "source": [
    "# Experimenting"
   ]
  },
  {
   "cell_type": "code",
   "execution_count": 1,
   "metadata": {
    "ExecuteTime": {
     "end_time": "2023-01-18T00:10:36.195317Z",
     "start_time": "2023-01-18T00:10:35.399327Z"
    },
    "hidden": true
   },
   "outputs": [],
   "source": [
    "from pathlib import Path # Loading in the data\n",
    "import pandas as pd"
   ]
  },
  {
   "cell_type": "code",
   "execution_count": 2,
   "metadata": {
    "ExecuteTime": {
     "end_time": "2023-01-18T00:10:36.210824Z",
     "start_time": "2023-01-18T00:10:36.198326Z"
    },
    "hidden": true
   },
   "outputs": [],
   "source": [
    "data_dir = Path.cwd().parent / \"Test_Data\""
   ]
  },
  {
   "cell_type": "code",
   "execution_count": 3,
   "metadata": {
    "ExecuteTime": {
     "end_time": "2023-01-18T00:10:36.226325Z",
     "start_time": "2023-01-18T00:10:36.214324Z"
    },
    "hidden": true
   },
   "outputs": [],
   "source": [
    "# Define path to the data directory\n",
    "# data_dir = Path('../input/chest-xray-pneumonia/chest_xray/chest_xray')\n",
    "data_dir = Path.cwd().parent / \"Test_Data\"\n",
    "\n",
    "# Path to train directory (Fancy pathlib...no more os.path!!)\n",
    "train_dir = data_dir / 'train'\n",
    "\n",
    "# Path to validation directory\n",
    "val_dir = data_dir / 'val'\n",
    "\n",
    "# Path to test directory\n",
    "test_dir = data_dir / 'test'"
   ]
  },
  {
   "cell_type": "code",
   "execution_count": 4,
   "metadata": {
    "ExecuteTime": {
     "end_time": "2023-01-18T00:10:36.257318Z",
     "start_time": "2023-01-18T00:10:36.229325Z"
    },
    "hidden": true
   },
   "outputs": [
    {
     "data": {
      "text/plain": [
       "WindowsPath('C:/Users/aiden.local/Documents/Flatiron/Course-Material/phase_4/project_phase_4/Test_Data')"
      ]
     },
     "execution_count": 4,
     "metadata": {},
     "output_type": "execute_result"
    }
   ],
   "source": [
    "data_dir"
   ]
  },
  {
   "cell_type": "code",
   "execution_count": 5,
   "metadata": {
    "ExecuteTime": {
     "end_time": "2023-01-18T00:10:36.272818Z",
     "start_time": "2023-01-18T00:10:36.259824Z"
    },
    "hidden": true
   },
   "outputs": [
    {
     "data": {
      "text/plain": [
       "WindowsPath('C:/Users/aiden.local/Documents/Flatiron/Course-Material/phase_4/project_phase_4/Test_Data/train')"
      ]
     },
     "execution_count": 5,
     "metadata": {},
     "output_type": "execute_result"
    }
   ],
   "source": [
    "train_dir"
   ]
  },
  {
   "cell_type": "code",
   "execution_count": 6,
   "metadata": {
    "ExecuteTime": {
     "end_time": "2023-01-18T00:10:36.288318Z",
     "start_time": "2023-01-18T00:10:36.275320Z"
    },
    "hidden": true
   },
   "outputs": [
    {
     "data": {
      "text/plain": [
       "WindowsPath('C:/Users/aiden.local/Documents/Flatiron/Course-Material/phase_4/project_phase_4/Test_Data/val')"
      ]
     },
     "execution_count": 6,
     "metadata": {},
     "output_type": "execute_result"
    }
   ],
   "source": [
    "val_dir"
   ]
  },
  {
   "cell_type": "code",
   "execution_count": 7,
   "metadata": {
    "ExecuteTime": {
     "end_time": "2023-01-18T00:10:36.303820Z",
     "start_time": "2023-01-18T00:10:36.290821Z"
    },
    "hidden": true
   },
   "outputs": [
    {
     "data": {
      "text/plain": [
       "WindowsPath('C:/Users/aiden.local/Documents/Flatiron/Course-Material/phase_4/project_phase_4/Test_Data/test')"
      ]
     },
     "execution_count": 7,
     "metadata": {},
     "output_type": "execute_result"
    }
   ],
   "source": [
    "test_dir"
   ]
  },
  {
   "cell_type": "code",
   "execution_count": 8,
   "metadata": {
    "ExecuteTime": {
     "end_time": "2023-01-18T00:10:36.706835Z",
     "start_time": "2023-01-18T00:10:36.308317Z"
    },
    "hidden": true
   },
   "outputs": [
    {
     "ename": "NameError",
     "evalue": "name 'normal_cases_dir' is not defined",
     "output_type": "error",
     "traceback": [
      "\u001b[1;31m---------------------------------------------------------------------------\u001b[0m",
      "\u001b[1;31mNameError\u001b[0m                                 Traceback (most recent call last)",
      "\u001b[1;32m<ipython-input-8-78356ce183f7>\u001b[0m in \u001b[0;36m<module>\u001b[1;34m\u001b[0m\n\u001b[1;32m----> 1\u001b[1;33m \u001b[0mnormal_cases_dir\u001b[0m\u001b[1;33m\u001b[0m\u001b[1;33m\u001b[0m\u001b[0m\n\u001b[0m",
      "\u001b[1;31mNameError\u001b[0m: name 'normal_cases_dir' is not defined"
     ]
    }
   ],
   "source": [
    "normal_cases_dir"
   ]
  },
  {
   "cell_type": "code",
   "execution_count": null,
   "metadata": {
    "ExecuteTime": {
     "end_time": "2023-01-18T00:10:36.725322Z",
     "start_time": "2023-01-18T00:10:35.446Z"
    },
    "hidden": true
   },
   "outputs": [],
   "source": [
    "pneumonia_cases_dir"
   ]
  },
  {
   "cell_type": "code",
   "execution_count": null,
   "metadata": {
    "hidden": true
   },
   "outputs": [],
   "source": []
  },
  {
   "cell_type": "code",
   "execution_count": null,
   "metadata": {
    "ExecuteTime": {
     "end_time": "2023-01-18T00:10:36.727321Z",
     "start_time": "2023-01-18T00:10:35.454Z"
    },
    "hidden": true
   },
   "outputs": [],
   "source": [
    "import glob\n",
    "# Get the path to the normal and pneumonia sub-directories\n",
    "normal_cases_dir = train_dir / 'NORMAL'\n",
    "pneumonia_cases_dir = train_dir / 'PNEUMONIA'\n",
    "\n",
    "# Get the list of all the images\n",
    "# normal_cases = normal_cases_dir.glob('*.jpeg')\n",
    "# pneumonia_cases = pneumonia_cases_dir.glob('*.jpeg')\n",
    "\n",
    "#########\n",
    "normal_cases = train_dir.glob(\"*\")\n",
    "pneumonia_cases = pneumonia_cases_dir.glob('*')\n",
    "#########\n",
    "\n",
    "# An empty list. We will insert the data into this list in (img_path, label) format\n",
    "train_data = []\n",
    "\n",
    "# Go through all the normal cases. The label for these cases will be 0\n",
    "for img in normal_cases:\n",
    "    train_data.append((img,0))\n",
    "    print('test1')\n",
    "\n",
    "# Go through all the pneumonia cases. The label for these cases will be 1\n",
    "for img in pneumonia_cases:\n",
    "    train_data.append((img, 1))\n",
    "    print('test2')\n",
    "\n",
    "# Get a pandas dataframe from the data we have in our list \n",
    "train_data = pd.DataFrame(train_data, columns=['image', 'label'],index=None)\n",
    "\n",
    "# Shuffle the data \n",
    "# train_data = train_data.sample(frac=1.).reset_index(drop=True)\n",
    "\n",
    "# Previewing the df\n",
    "print('test3')\n",
    "train_data.head()"
   ]
  },
  {
   "cell_type": "code",
   "execution_count": null,
   "metadata": {
    "ExecuteTime": {
     "end_time": "2023-01-18T00:10:36.728823Z",
     "start_time": "2023-01-18T00:10:35.458Z"
    },
    "hidden": true
   },
   "outputs": [],
   "source": [
    "os.listdir()"
   ]
  },
  {
   "cell_type": "code",
   "execution_count": null,
   "metadata": {
    "ExecuteTime": {
     "end_time": "2023-01-18T00:10:36.730320Z",
     "start_time": "2023-01-18T00:10:35.463Z"
    },
    "hidden": true
   },
   "outputs": [],
   "source": [
    "normal_cases"
   ]
  },
  {
   "cell_type": "code",
   "execution_count": null,
   "metadata": {
    "ExecuteTime": {
     "end_time": "2023-01-18T00:10:36.732319Z",
     "start_time": "2023-01-18T00:10:35.467Z"
    },
    "hidden": true
   },
   "outputs": [],
   "source": [
    "train_data.info()"
   ]
  },
  {
   "cell_type": "code",
   "execution_count": null,
   "metadata": {
    "ExecuteTime": {
     "end_time": "2023-01-18T00:10:36.733820Z",
     "start_time": "2023-01-18T00:10:35.472Z"
    },
    "hidden": true
   },
   "outputs": [],
   "source": [
    "############################################################################"
   ]
  },
  {
   "cell_type": "code",
   "execution_count": null,
   "metadata": {
    "ExecuteTime": {
     "end_time": "2023-01-18T00:10:36.735322Z",
     "start_time": "2023-01-18T00:10:35.476Z"
    },
    "hidden": true
   },
   "outputs": [],
   "source": [
    "# This Python 3 environment comes with many helpful analytics libraries installed\n",
    "# It is defined by the kaggle/python docker image: https://github.com/kaggle/docker-python\n",
    "# For example, here's several helpful packages to load in \n",
    "\n",
    "import numpy as np # linear algebra\n",
    "import pandas as pd # data processing, CSV file I/O (e.g. pd.read_csv)\n",
    "\n",
    "# Input data files are available in the \"../input/\" directory.\n",
    "# For example, running this (by clicking run or pressing Shift+Enter) will list all files under the input directory\n",
    "\n",
    "import os\n",
    "for dirname, _, filenames in os.walk('/kaggle/input'):\n",
    "    for filename in filenames:\n",
    "        print(os.path.join(dirname, filename))\n",
    "\n",
    "# Any results you write to the current directory are saved as output."
   ]
  },
  {
   "cell_type": "code",
   "execution_count": null,
   "metadata": {
    "ExecuteTime": {
     "end_time": "2023-01-18T00:10:36.736820Z",
     "start_time": "2023-01-18T00:10:35.479Z"
    },
    "hidden": true
   },
   "outputs": [],
   "source": [
    "import matplotlib.pyplot as plt\n",
    "import seaborn as sns\n",
    "import keras\n",
    "from keras.models import Sequential\n",
    "from keras.layers import Dense, Conv2D , MaxPool2D , Flatten , Dropout , BatchNormalization\n",
    "from keras.preprocessing.image import ImageDataGenerator\n",
    "from sklearn.model_selection import train_test_split\n",
    "from sklearn.metrics import classification_report,confusion_matrix\n",
    "from keras.callbacks import ReduceLROnPlateau\n",
    "import cv2\n",
    "import os"
   ]
  },
  {
   "cell_type": "code",
   "execution_count": null,
   "metadata": {
    "ExecuteTime": {
     "end_time": "2023-01-18T00:10:36.738323Z",
     "start_time": "2023-01-18T00:10:35.483Z"
    },
    "hidden": true
   },
   "outputs": [],
   "source": [
    "labels = ['PNEUMONIA', 'NORMAL']\n",
    "img_size = 150\n",
    "def get_training_data(data_dir):\n",
    "    data = [] \n",
    "    for label in labels: \n",
    "        path = os.path.join(data_dir, label)\n",
    "        class_num = labels.index(label)\n",
    "        for img in os.listdir(path):\n",
    "            try:\n",
    "                img_arr = cv2.imread(os.path.join(path, img), cv2.IMREAD_GRAYSCALE)\n",
    "                resized_arr = cv2.resize(img_arr, (img_size, img_size)) # Reshaping images to preferred size\n",
    "                data.append([resized_arr, class_num])\n",
    "            except Exception as e:\n",
    "                print(e)\n",
    "    return np.array(data)"
   ]
  },
  {
   "cell_type": "code",
   "execution_count": null,
   "metadata": {
    "ExecuteTime": {
     "end_time": "2023-01-18T00:10:36.740322Z",
     "start_time": "2023-01-18T00:10:35.487Z"
    },
    "hidden": true
   },
   "outputs": [],
   "source": [
    "data_dir = Path.cwd().parent / \"Test_Data\"\n",
    "train_dir = data_dir / 'train'"
   ]
  },
  {
   "cell_type": "code",
   "execution_count": null,
   "metadata": {
    "ExecuteTime": {
     "end_time": "2023-01-18T00:10:36.741819Z",
     "start_time": "2023-01-18T00:10:35.492Z"
    },
    "hidden": true
   },
   "outputs": [],
   "source": [
    "train = get_training_data('../Data/train')\n"
   ]
  },
  {
   "cell_type": "code",
   "execution_count": null,
   "metadata": {
    "ExecuteTime": {
     "end_time": "2023-01-18T00:10:36.743320Z",
     "start_time": "2023-01-18T00:10:35.497Z"
    },
    "hidden": true
   },
   "outputs": [],
   "source": [
    "train = get_training_data('../input/chest-xray-pneumonia/chest_xray/chest_xray/train')\n",
    "test = get_training_data('../input/chest-xray-pneumonia/chest_xray/chest_xray/test')\n",
    "val = get_training_data('../input/chest-xray-pneumonia/chest_xray/chest_xray/val')"
   ]
  },
  {
   "cell_type": "code",
   "execution_count": null,
   "metadata": {
    "ExecuteTime": {
     "end_time": "2023-01-18T00:10:36.745321Z",
     "start_time": "2023-01-18T00:10:35.502Z"
    },
    "hidden": true
   },
   "outputs": [],
   "source": [
    "############################################################################"
   ]
  },
  {
   "cell_type": "code",
   "execution_count": null,
   "metadata": {
    "ExecuteTime": {
     "end_time": "2023-01-18T00:10:36.747323Z",
     "start_time": "2023-01-18T00:10:35.507Z"
    },
    "hidden": true
   },
   "outputs": [],
   "source": [
    "import numpy as np # forlinear algebra\n",
    "import matplotlib.pyplot as plt #for plotting things\n",
    "import os\n",
    "from PIL import Image\n",
    "\n",
    "# Keras Libraries\n",
    "import keras\n",
    "from keras.models import Sequential\n",
    "from keras.layers import Conv2D\n",
    "from keras.layers import MaxPooling2D\n",
    "from keras.layers import Flatten\n",
    "from keras.layers import Dense\n",
    "from keras.preprocessing.image import ImageDataGenerator, load_img\n",
    "from sklearn.metrics import classification_report, confusion_matrix"
   ]
  },
  {
   "cell_type": "code",
   "execution_count": null,
   "metadata": {
    "ExecuteTime": {
     "end_time": "2023-01-18T00:10:36.748819Z",
     "start_time": "2023-01-18T00:10:35.511Z"
    },
    "hidden": true
   },
   "outputs": [],
   "source": [
    "# print(os.listdir(\"../input\"))\n",
    "# print(os.listdir())\n",
    "mainDIR = os.listdir('/Users/aiden.local/Documents/Flatiron/Course-Material/phase_4/project_phase_4/draft/Test_Data/archive/chest_xray/chest_xray')\n",
    "\n",
    "# sub_dir = main_dir / 'archive'\n",
    "# print(os.listdir('../Test_Data'))"
   ]
  },
  {
   "cell_type": "code",
   "execution_count": null,
   "metadata": {
    "ExecuteTime": {
     "end_time": "2023-01-18T00:10:36.750817Z",
     "start_time": "2023-01-18T00:10:35.515Z"
    },
    "hidden": true
   },
   "outputs": [],
   "source": [
    "mainDIR"
   ]
  },
  {
   "cell_type": "code",
   "execution_count": null,
   "metadata": {
    "ExecuteTime": {
     "end_time": "2023-01-18T00:10:36.751819Z",
     "start_time": "2023-01-18T00:10:35.519Z"
    },
    "hidden": true
   },
   "outputs": [],
   "source": [
    "# mainDIR = os.listdir('../input/chest_xray/chest_xray')\n",
    "# print(mainDIR)"
   ]
  },
  {
   "cell_type": "code",
   "execution_count": null,
   "metadata": {
    "ExecuteTime": {
     "end_time": "2023-01-18T00:10:36.752819Z",
     "start_time": "2023-01-18T00:10:35.524Z"
    },
    "hidden": true
   },
   "outputs": [],
   "source": [
    "train_folder = os.listdir('/Users/aiden.local/Documents/Flatiron/Course-Material/phase_4/project_phase_4/draft/Test_Data/archive/chest_xray/chest_xray/train')\n",
    "val_folder = os.listdir('/Users/aiden.local/Documents/Flatiron/Course-Material/phase_4/project_phase_4/draft/Test_Data/archive/chest_xray/chest_xray/val')\n",
    "test_folder = os.listdir('/Users/aiden.local/Documents/Flatiron/Course-Material/phase_4/project_phase_4/draft/Test_Data/archive/chest_xray/chest_xray/test')"
   ]
  },
  {
   "cell_type": "code",
   "execution_count": null,
   "metadata": {
    "ExecuteTime": {
     "end_time": "2023-01-18T00:10:36.754324Z",
     "start_time": "2023-01-18T00:10:35.528Z"
    },
    "hidden": true
   },
   "outputs": [],
   "source": [
    "train_folder"
   ]
  },
  {
   "cell_type": "code",
   "execution_count": null,
   "metadata": {
    "ExecuteTime": {
     "end_time": "2023-01-18T00:10:36.755819Z",
     "start_time": "2023-01-18T00:10:35.532Z"
    },
    "hidden": true
   },
   "outputs": [],
   "source": [
    "val_folder"
   ]
  },
  {
   "cell_type": "code",
   "execution_count": null,
   "metadata": {
    "ExecuteTime": {
     "end_time": "2023-01-18T00:10:36.756820Z",
     "start_time": "2023-01-18T00:10:35.536Z"
    },
    "hidden": true
   },
   "outputs": [],
   "source": [
    "# train_folder = '../input/chest_xray/chest_xray/train/'\n",
    "# val_folder = '../input/chest_xray/chest_xray/val/'\n",
    "# test_folder = '../input/chest_xray/chest_xray/test/'"
   ]
  },
  {
   "cell_type": "code",
   "execution_count": null,
   "metadata": {
    "ExecuteTime": {
     "end_time": "2023-01-18T00:10:36.758322Z",
     "start_time": "2023-01-18T00:10:35.540Z"
    },
    "hidden": true
   },
   "outputs": [],
   "source": [
    "train_folder"
   ]
  },
  {
   "cell_type": "code",
   "execution_count": null,
   "metadata": {
    "ExecuteTime": {
     "end_time": "2023-01-18T00:10:36.759321Z",
     "start_time": "2023-01-18T00:10:35.544Z"
    },
    "hidden": true
   },
   "outputs": [],
   "source": [
    "# # train \n",
    "# os.listdir(train_folder)\n",
    "# train_n = train_folder+'NORMAL/'\n",
    "# train_p = train_folder+'PNEUMONIA/'"
   ]
  },
  {
   "cell_type": "code",
   "execution_count": null,
   "metadata": {
    "ExecuteTime": {
     "end_time": "2023-01-18T00:10:36.761317Z",
     "start_time": "2023-01-18T00:10:35.548Z"
    },
    "hidden": true
   },
   "outputs": [],
   "source": [
    "train_n = '/Users/aiden.local/Documents/Flatiron/Course-Material/phase_4/project_phase_4/draft/Test_Data/archive/chest_xray/chest_xray/train/NORMAL'\n",
    "train_p = '/Users/aiden.local/Documents/Flatiron/Course-Material/phase_4/project_phase_4/draft/Test_Data/archive/chest_xray/chest_xray/train/PNEUMONIA'"
   ]
  },
  {
   "cell_type": "code",
   "execution_count": null,
   "metadata": {
    "ExecuteTime": {
     "end_time": "2023-01-18T00:10:36.762319Z",
     "start_time": "2023-01-18T00:10:35.552Z"
    },
    "hidden": true
   },
   "outputs": [],
   "source": [
    "train_n"
   ]
  },
  {
   "cell_type": "code",
   "execution_count": null,
   "metadata": {
    "hidden": true
   },
   "outputs": [],
   "source": []
  },
  {
   "cell_type": "code",
   "execution_count": null,
   "metadata": {
    "hidden": true
   },
   "outputs": [],
   "source": []
  },
  {
   "cell_type": "code",
   "execution_count": null,
   "metadata": {
    "hidden": true
   },
   "outputs": [],
   "source": []
  },
  {
   "cell_type": "code",
   "execution_count": null,
   "metadata": {
    "ExecuteTime": {
     "end_time": "2023-01-18T00:10:36.763820Z",
     "start_time": "2023-01-18T00:10:35.565Z"
    },
    "hidden": true
   },
   "outputs": [],
   "source": [
    "testing_train_n = os.listdir('/Users/aiden.local/Documents/Flatiron/Course-Material/phase_4/project_phase_4/draft/Test_Data/archive/chest_xray/chest_xray/train/NORMAL')\n",
    "testing_train_p = os.listdir('/Users/aiden.local/Documents/Flatiron/Course-Material/phase_4/project_phase_4/draft/Test_Data/archive/chest_xray/chest_xray/train/PNEUMONIA')"
   ]
  },
  {
   "cell_type": "code",
   "execution_count": null,
   "metadata": {
    "ExecuteTime": {
     "end_time": "2023-01-18T00:10:36.765320Z",
     "start_time": "2023-01-18T00:10:35.570Z"
    },
    "hidden": true
   },
   "outputs": [],
   "source": [
    "testing_train_n"
   ]
  },
  {
   "cell_type": "code",
   "execution_count": null,
   "metadata": {
    "ExecuteTime": {
     "end_time": "2023-01-18T00:10:36.766819Z",
     "start_time": "2023-01-18T00:10:35.574Z"
    },
    "hidden": true
   },
   "outputs": [],
   "source": [
    "train_imgs_n = [file for file in testing_train_n if file.endswith('.jpeg')]"
   ]
  },
  {
   "cell_type": "code",
   "execution_count": null,
   "metadata": {
    "ExecuteTime": {
     "end_time": "2023-01-18T00:10:36.767823Z",
     "start_time": "2023-01-18T00:10:35.578Z"
    },
    "hidden": true
   },
   "outputs": [],
   "source": [
    "train_imgs_n"
   ]
  },
  {
   "cell_type": "code",
   "execution_count": null,
   "metadata": {
    "ExecuteTime": {
     "end_time": "2023-01-18T00:10:36.769320Z",
     "start_time": "2023-01-18T00:10:35.583Z"
    },
    "hidden": true
   },
   "outputs": [],
   "source": [
    "df_testing = pd.DataFrame(train_imgs_n, columns=['test'])\n",
    "df_testing"
   ]
  },
  {
   "cell_type": "code",
   "execution_count": null,
   "metadata": {
    "ExecuteTime": {
     "end_time": "2023-01-18T00:10:36.770819Z",
     "start_time": "2023-01-18T00:10:35.587Z"
    },
    "hidden": true
   },
   "outputs": [],
   "source": [
    "df_testing = pd.DataFrame(train_imgs_n, columns=['img'])\n",
    "df_testing"
   ]
  },
  {
   "cell_type": "code",
   "execution_count": null,
   "metadata": {
    "ExecuteTime": {
     "end_time": "2023-01-18T00:10:36.771819Z",
     "start_time": "2023-01-18T00:10:35.592Z"
    },
    "hidden": true
   },
   "outputs": [],
   "source": [
    "df_testing['label'] = 0"
   ]
  },
  {
   "cell_type": "code",
   "execution_count": null,
   "metadata": {
    "ExecuteTime": {
     "end_time": "2023-01-18T00:10:36.773320Z",
     "start_time": "2023-01-18T00:10:35.596Z"
    },
    "hidden": true
   },
   "outputs": [],
   "source": [
    "df_testing"
   ]
  },
  {
   "cell_type": "code",
   "execution_count": null,
   "metadata": {
    "hidden": true
   },
   "outputs": [],
   "source": []
  },
  {
   "cell_type": "code",
   "execution_count": null,
   "metadata": {
    "ExecuteTime": {
     "end_time": "2023-01-18T00:10:36.774817Z",
     "start_time": "2023-01-18T00:10:35.604Z"
    },
    "hidden": true
   },
   "outputs": [],
   "source": [
    "train_df = pd.concat()"
   ]
  },
  {
   "cell_type": "code",
   "execution_count": null,
   "metadata": {
    "hidden": true
   },
   "outputs": [],
   "source": []
  },
  {
   "cell_type": "code",
   "execution_count": null,
   "metadata": {
    "ExecuteTime": {
     "end_time": "2023-01-18T00:10:36.776319Z",
     "start_time": "2023-01-18T00:10:35.613Z"
    },
    "hidden": true
   },
   "outputs": [],
   "source": [
    "################################\n",
    "# Visualizing"
   ]
  },
  {
   "cell_type": "code",
   "execution_count": null,
   "metadata": {
    "ExecuteTime": {
     "end_time": "2023-01-18T00:10:36.779322Z",
     "start_time": "2023-01-18T00:10:35.619Z"
    },
    "hidden": true
   },
   "outputs": [],
   "source": [
    "img = plt.imread(train_imgs_n[1])"
   ]
  },
  {
   "cell_type": "code",
   "execution_count": null,
   "metadata": {
    "ExecuteTime": {
     "end_time": "2023-01-18T00:10:36.782817Z",
     "start_time": "2023-01-18T00:10:35.623Z"
    },
    "hidden": true
   },
   "outputs": [],
   "source": [
    "plt.figure(figsize = (5,5))\n",
    "plt.imshow(train_imgs_n[1], cmap='gray')"
   ]
  },
  {
   "cell_type": "code",
   "execution_count": null,
   "metadata": {
    "ExecuteTime": {
     "end_time": "2023-01-18T00:10:36.784319Z",
     "start_time": "2023-01-18T00:10:35.627Z"
    },
    "hidden": true
   },
   "outputs": [],
   "source": [
    "test = '/Users/aiden.local/Documents/Flatiron/Course-Material/phase_4/project_phase_4/draft/Test_Data/archive/chest_xray/chest_xray/train/NORMAL/IM-0117-0001.jpeg'\n",
    "plt.imread(test)"
   ]
  },
  {
   "cell_type": "code",
   "execution_count": null,
   "metadata": {
    "ExecuteTime": {
     "end_time": "2023-01-18T00:10:36.785817Z",
     "start_time": "2023-01-18T00:10:35.632Z"
    },
    "hidden": true
   },
   "outputs": [],
   "source": [
    "test = '/Users/aiden.local/Documents/Flatiron/Course-Material/phase_4/project_phase_4/draft/Test_Data/archive/chest_xray/chest_xray/train/NORMAL/IM-0117-0001.jpeg'\n",
    "plt.imshow(test)"
   ]
  },
  {
   "cell_type": "code",
   "execution_count": null,
   "metadata": {
    "ExecuteTime": {
     "end_time": "2023-01-18T00:10:36.787316Z",
     "start_time": "2023-01-18T00:10:35.636Z"
    },
    "hidden": true
   },
   "outputs": [],
   "source": [
    "from PIL import Image\n",
    "test = '/Users/aiden.local/Documents/Flatiron/Course-Material/phase_4/project_phase_4/draft/Test_Data/archive/chest_xray/chest_xray/train/NORMAL/IM-0117-0001.jpeg'\n",
    "norm_load = Image.open(test)\n",
    "plt.imshow(norm_load, cmap='gray');"
   ]
  },
  {
   "cell_type": "code",
   "execution_count": null,
   "metadata": {
    "ExecuteTime": {
     "end_time": "2023-01-18T00:10:36.788817Z",
     "start_time": "2023-01-18T00:10:35.640Z"
    },
    "hidden": true
   },
   "outputs": [],
   "source": [
    "######################"
   ]
  },
  {
   "cell_type": "code",
   "execution_count": null,
   "metadata": {
    "ExecuteTime": {
     "end_time": "2023-01-18T00:10:36.790317Z",
     "start_time": "2023-01-18T00:10:35.645Z"
    },
    "hidden": true
   },
   "outputs": [],
   "source": [
    "train_imgs_n"
   ]
  },
  {
   "cell_type": "code",
   "execution_count": null,
   "metadata": {
    "ExecuteTime": {
     "end_time": "2023-01-18T00:10:36.792318Z",
     "start_time": "2023-01-18T00:10:35.650Z"
    },
    "hidden": true
   },
   "outputs": [],
   "source": [
    "test = '/Users/aiden.local/Documents/Flatiron/Course-Material/phase_4/project_phase_4/draft/Test_Data/archive/chest_xray/chest_xray/train/NORMAL/'"
   ]
  },
  {
   "cell_type": "code",
   "execution_count": null,
   "metadata": {
    "ExecuteTime": {
     "end_time": "2023-01-18T00:10:36.793818Z",
     "start_time": "2023-01-18T00:10:35.654Z"
    },
    "hidden": true
   },
   "outputs": [],
   "source": [
    "test2 = test + 'IM-0117-0001.jpeg'\n",
    "test2"
   ]
  },
  {
   "cell_type": "code",
   "execution_count": null,
   "metadata": {
    "ExecuteTime": {
     "end_time": "2023-01-18T00:10:36.795316Z",
     "start_time": "2023-01-18T00:10:35.658Z"
    },
    "hidden": true
   },
   "outputs": [],
   "source": [
    "test_list = []\n",
    "for img in train_imgs_n:\n",
    "    test_list.append(test + img)"
   ]
  },
  {
   "cell_type": "code",
   "execution_count": null,
   "metadata": {
    "ExecuteTime": {
     "end_time": "2023-01-18T00:10:36.796817Z",
     "start_time": "2023-01-18T00:10:35.663Z"
    },
    "hidden": true
   },
   "outputs": [],
   "source": [
    "test_list"
   ]
  },
  {
   "cell_type": "code",
   "execution_count": null,
   "metadata": {
    "ExecuteTime": {
     "end_time": "2023-01-18T00:10:36.798317Z",
     "start_time": "2023-01-18T00:10:35.668Z"
    },
    "hidden": true
   },
   "outputs": [],
   "source": [
    "norm_load = Image.open(test_list[1])\n",
    "plt.imshow(norm_load, cmap='gray');"
   ]
  },
  {
   "cell_type": "code",
   "execution_count": null,
   "metadata": {
    "ExecuteTime": {
     "end_time": "2023-01-18T00:10:36.799816Z",
     "start_time": "2023-01-18T00:10:35.673Z"
    },
    "hidden": true
   },
   "outputs": [],
   "source": [
    "test_test_list = test_list[:10]"
   ]
  },
  {
   "cell_type": "code",
   "execution_count": null,
   "metadata": {
    "ExecuteTime": {
     "end_time": "2023-01-18T00:10:36.801324Z",
     "start_time": "2023-01-18T00:10:35.678Z"
    },
    "hidden": true
   },
   "outputs": [],
   "source": [
    "for img in test_test_list:\n",
    "    print('test')\n",
    "    norm_load = Image.open(img)\n",
    "    plt.imshow(norm_load, cmap='gray');"
   ]
  },
  {
   "cell_type": "code",
   "execution_count": null,
   "metadata": {
    "ExecuteTime": {
     "end_time": "2023-01-18T00:10:36.803324Z",
     "start_time": "2023-01-18T00:10:35.683Z"
    },
    "hidden": true
   },
   "outputs": [],
   "source": [
    "############################################################################"
   ]
  },
  {
   "cell_type": "code",
   "execution_count": null,
   "metadata": {
    "ExecuteTime": {
     "end_time": "2023-01-18T00:10:36.804819Z",
     "start_time": "2023-01-18T00:10:35.687Z"
    },
    "hidden": true
   },
   "outputs": [],
   "source": [
    "# plt.figure(figsize = (5,5))\n",
    "# plt.imshow(train[0][0], cmap='gray')\n",
    "# plt.title(labels[train[0][1]])\n",
    "\n",
    "# plt.figure(figsize = (5,5))\n",
    "# plt.imshow(train[-1][0], cmap='gray')\n",
    "# plt.title(labels[train[-1][1]])"
   ]
  },
  {
   "cell_type": "code",
   "execution_count": null,
   "metadata": {
    "hidden": true
   },
   "outputs": [],
   "source": []
  },
  {
   "cell_type": "code",
   "execution_count": null,
   "metadata": {
    "ExecuteTime": {
     "end_time": "2023-01-18T00:10:36.806318Z",
     "start_time": "2023-01-18T00:10:35.695Z"
    },
    "hidden": true
   },
   "outputs": [],
   "source": [
    "train_n"
   ]
  },
  {
   "cell_type": "code",
   "execution_count": null,
   "metadata": {
    "ExecuteTime": {
     "end_time": "2023-01-18T00:10:36.807820Z",
     "start_time": "2023-01-18T00:10:35.700Z"
    },
    "hidden": true
   },
   "outputs": [],
   "source": [
    "#Normal pic \n",
    "print(len(os.listdir(train_n)))\n",
    "rand_norm= np.random.randint(0,len(os.listdir(train_n)))\n",
    "norm_pic = os.listdir(train_n)[rand_norm]\n",
    "print('normal picture title: ',norm_pic)\n",
    "\n",
    "norm_pic_address = train_n+norm_pic\n",
    "\n",
    "#Pneumonia\n",
    "rand_p = np.random.randint(0,len(os.listdir(train_p)))\n",
    "\n",
    "sic_pic =  os.listdir(train_p)[rand_norm]\n",
    "sic_address = train_p+sic_pic\n",
    "print('pneumonia picture title:', sic_pic)\n",
    "\n",
    "# Load the images\n",
    "norm_load = Image.open(norm_pic_address)\n",
    "sic_load = Image.open(sic_address)\n",
    "\n",
    "#Let's plt these images\n",
    "f = plt.figure(figsize= (10,6))\n",
    "a1 = f.add_subplot(1,2,1)\n",
    "img_plot = plt.imshow(norm_load)\n",
    "a1.set_title('Normal')\n",
    "\n",
    "a2 = f.add_subplot(1, 2, 2)\n",
    "img_plot = plt.imshow(sic_load)\n",
    "a2.set_title('Pneumonia')"
   ]
  },
  {
   "cell_type": "code",
   "execution_count": null,
   "metadata": {
    "ExecuteTime": {
     "end_time": "2023-01-18T00:10:36.809321Z",
     "start_time": "2023-01-18T00:10:35.704Z"
    },
    "hidden": true
   },
   "outputs": [],
   "source": [
    "#############"
   ]
  },
  {
   "cell_type": "code",
   "execution_count": null,
   "metadata": {
    "ExecuteTime": {
     "end_time": "2023-01-18T00:10:36.811324Z",
     "start_time": "2023-01-18T00:10:35.709Z"
    },
    "hidden": true
   },
   "outputs": [],
   "source": [
    "test_train_n"
   ]
  },
  {
   "cell_type": "code",
   "execution_count": null,
   "metadata": {
    "ExecuteTime": {
     "end_time": "2023-01-18T00:10:36.812816Z",
     "start_time": "2023-01-18T00:10:35.713Z"
    },
    "hidden": true
   },
   "outputs": [],
   "source": [
    "# Get few samples for both the classes\n",
    "pneumonia_samples = (train_data[train_data['label']==1]['image'].iloc[:5]).tolist()\n",
    "normal_samples = (train_data[train_data['label']==0]['image'].iloc[:5]).tolist()\n",
    "\n",
    "# Concat the data in a single list and del the above two list\n",
    "samples = pneumonia_samples + normal_samples\n",
    "del pneumonia_samples, normal_samples\n",
    "\n",
    "# Plot the data \n",
    "f, ax = plt.subplots(2,5, figsize=(30,10))\n",
    "for i in range(10):\n",
    "    img = imread(samples[i])\n",
    "    ax[i//5, i%5].imshow(img, cmap='gray')\n",
    "    if i<5:\n",
    "        ax[i//5, i%5].set_title(\"Pneumonia\")\n",
    "    else:\n",
    "        ax[i//5, i%5].set_title(\"Normal\")\n",
    "    ax[i//5, i%5].axis('off')\n",
    "    ax[i//5, i%5].set_aspect('auto')\n",
    "plt.show()"
   ]
  },
  {
   "cell_type": "code",
   "execution_count": null,
   "metadata": {
    "ExecuteTime": {
     "end_time": "2023-01-18T00:10:36.814319Z",
     "start_time": "2023-01-18T00:10:35.718Z"
    },
    "hidden": true
   },
   "outputs": [],
   "source": [
    "# from skimage.io import imread\n",
    "# img = imread(test_train_n[1])\n",
    "# ax[i//5, i%5].imshow(img, cmap='gray')\n",
    "\n",
    "from skimage.io import imread\n",
    "img = imread(test_train_n[1])\n",
    "img.imshow(img, cmap='gray')"
   ]
  },
  {
   "cell_type": "code",
   "execution_count": null,
   "metadata": {
    "ExecuteTime": {
     "end_time": "2023-01-18T00:10:36.815819Z",
     "start_time": "2023-01-18T00:10:35.722Z"
    },
    "hidden": true
   },
   "outputs": [],
   "source": [
    "########################"
   ]
  },
  {
   "cell_type": "code",
   "execution_count": null,
   "metadata": {
    "ExecuteTime": {
     "end_time": "2023-01-18T00:10:36.817323Z",
     "start_time": "2023-01-18T00:10:35.727Z"
    },
    "hidden": true
   },
   "outputs": [],
   "source": [
    "import os\n",
    "import cv2\n",
    "import pickle\n",
    "import numpy as np\n",
    "import matplotlib.pyplot as plt\n",
    "import seaborn as sns\n",
    "from tqdm import tqdm\n",
    "from sklearn.preprocessing import OneHotEncoder\n",
    "from sklearn.metrics import confusion_matrix\n",
    "from keras.models import Model, load_model\n",
    "from keras.layers import Dense, Input, Conv2D, MaxPool2D, Flatten\n",
    "from keras.preprocessing.image import ImageDataGenerator\n",
    "np.random.seed(22)"
   ]
  },
  {
   "cell_type": "code",
   "execution_count": null,
   "metadata": {
    "ExecuteTime": {
     "end_time": "2023-01-18T00:10:36.819321Z",
     "start_time": "2023-01-18T00:10:35.731Z"
    },
    "hidden": true
   },
   "outputs": [],
   "source": [
    "# Do not forget to include the last slash\n",
    "def load_normal(norm_path):\n",
    "    norm_files = np.array(os.listdir(norm_path))\n",
    "#     norm_labels = np.array(['normal']*len(norm_files))\n",
    "    \n",
    "    norm_images = []\n",
    "    for image in tqdm(norm_files):\n",
    "        image = cv2.imread(norm_path + image)\n",
    "        image = cv2.resize(image, dsize=(200,200))\n",
    "        image = cv2.cvtColor(image, cv2.COLOR_BGR2GRAY)\n",
    "        norm_images.append(image)\n",
    "        \n",
    "    norm_images = np.array(norm_images)\n",
    "    \n",
    "    return norm_images, norm_labels\n",
    "\n",
    "def load_pneumonia(pneu_path):\n",
    "    pneu_files = np.array(os.listdir(pneu_path))\n",
    "#     pneu_labels = np.array([pneu_file.split('_')[1] for pneu_file in pneu_files])\n",
    "    \n",
    "    pneu_images = []\n",
    "    for image in tqdm(pneu_files):\n",
    "        image = cv2.imread(pneu_path + image)\n",
    "        image = cv2.resize(image, dsize=(200,200))\n",
    "        image = cv2.cvtColor(image, cv2.COLOR_BGR2GRAY)\n",
    "        pneu_images.append(image)\n",
    "        \n",
    "    pneu_images = np.array(pneu_images)\n",
    "    \n",
    "    return pneu_images, pneu_labels"
   ]
  },
  {
   "cell_type": "code",
   "execution_count": null,
   "metadata": {
    "ExecuteTime": {
     "end_time": "2023-01-18T00:10:36.820817Z",
     "start_time": "2023-01-18T00:10:35.736Z"
    },
    "hidden": true
   },
   "outputs": [],
   "source": [
    "# norm_images, norm_labels = load_normal('/kaggle/input/chest-xray-pneumonia/chest_xray/train/NORMAL/')\n",
    "# pneu_images, pneu_labels = load_pneumonia('/kaggle/input/chest-xray-pneumonia/chest_xray/train/PNEUMONIA/')"
   ]
  },
  {
   "cell_type": "code",
   "execution_count": null,
   "metadata": {
    "ExecuteTime": {
     "end_time": "2023-01-18T00:10:36.822319Z",
     "start_time": "2023-01-18T00:10:35.742Z"
    },
    "hidden": true
   },
   "outputs": [],
   "source": [
    "train_n\n",
    "norm_images = load_normal(train_n)\n",
    "# pneu_images, pneu_labels = load_pneumonia('/kaggle/input/chest-xray-pneumonia/chest_xray/train/PNEUMONIA/')"
   ]
  },
  {
   "cell_type": "code",
   "execution_count": null,
   "metadata": {
    "ExecuteTime": {
     "end_time": "2023-01-18T00:10:36.823823Z",
     "start_time": "2023-01-18T00:10:35.746Z"
    },
    "hidden": true
   },
   "outputs": [],
   "source": [
    "#################"
   ]
  },
  {
   "cell_type": "code",
   "execution_count": null,
   "metadata": {
    "ExecuteTime": {
     "end_time": "2023-01-18T00:10:36.825321Z",
     "start_time": "2023-01-18T00:10:35.751Z"
    },
    "hidden": true
   },
   "outputs": [],
   "source": [
    "import os\n",
    "import cv2\n",
    "import pickle\n",
    "import numpy as np\n",
    "import matplotlib.pyplot as plt\n",
    "import seaborn as sns\n",
    "from tqdm import tqdm\n",
    "from sklearn.preprocessing import OneHotEncoder\n",
    "from sklearn.metrics import confusion_matrix\n",
    "from keras.models import Model, load_model\n",
    "from keras.layers import Dense, Input, Conv2D, MaxPool2D, Flatten\n",
    "from keras.preprocessing.image import ImageDataGenerator\n",
    "np.random.seed(22)"
   ]
  },
  {
   "cell_type": "code",
   "execution_count": null,
   "metadata": {
    "ExecuteTime": {
     "end_time": "2023-01-18T00:10:36.826820Z",
     "start_time": "2023-01-18T00:10:35.755Z"
    },
    "hidden": true
   },
   "outputs": [],
   "source": [
    "# Do not forget to include the last slash\n",
    "def load_normal(norm_path):\n",
    "    norm_files = np.array(os.listdir(norm_path))\n",
    "    norm_labels = np.array(['normal']*len(norm_files))\n",
    "    \n",
    "    norm_images = []\n",
    "    for image in tqdm(norm_files):\n",
    "        image = cv2.imread(norm_path + image)\n",
    "        image = cv2.resize(image, dsize=(200,200))\n",
    "        image = cv2.cvtColor(image, cv2.COLOR_BGR2GRAY)\n",
    "        norm_images.append(image)\n",
    "        \n",
    "    norm_images = np.array(norm_images)\n",
    "    \n",
    "    return norm_images, norm_labels\n",
    "\n",
    "def load_pneumonia(pneu_path):\n",
    "    pneu_files = np.array(os.listdir(pneu_path))\n",
    "    pneu_labels = np.array([pneu_file.split('_')[1] for pneu_file in pneu_files])\n",
    "    \n",
    "    pneu_images = []\n",
    "    for image in tqdm(pneu_files):\n",
    "        image = cv2.imread(pneu_path + image)\n",
    "        image = cv2.resize(image, dsize=(200,200))\n",
    "        image = cv2.cvtColor(image, cv2.COLOR_BGR2GRAY)\n",
    "        pneu_images.append(image)\n",
    "        \n",
    "    pneu_images = np.array(pneu_images)\n",
    "    \n",
    "    return pneu_images, pneu_labels"
   ]
  },
  {
   "cell_type": "code",
   "execution_count": null,
   "metadata": {
    "ExecuteTime": {
     "end_time": "2023-01-18T00:10:36.828817Z",
     "start_time": "2023-01-18T00:10:35.759Z"
    },
    "hidden": true
   },
   "outputs": [],
   "source": [
    "norm_images = load_normal(train_n)"
   ]
  },
  {
   "cell_type": "code",
   "execution_count": null,
   "metadata": {
    "ExecuteTime": {
     "end_time": "2023-01-18T00:10:36.830820Z",
     "start_time": "2023-01-18T00:10:35.764Z"
    },
    "hidden": true
   },
   "outputs": [],
   "source": [
    "#######################################################\n",
    "# Model"
   ]
  },
  {
   "cell_type": "code",
   "execution_count": null,
   "metadata": {
    "ExecuteTime": {
     "end_time": "2023-01-18T00:10:36.832819Z",
     "start_time": "2023-01-18T00:10:35.769Z"
    },
    "hidden": true
   },
   "outputs": [],
   "source": [
    "# let's build the CNN model\n",
    "\n",
    "cnn = Sequential()\n",
    "\n",
    "#Convolution\n",
    "cnn.add(Conv2D(32, (3, 3), activation=\"relu\", input_shape=(64, 64, 3)))\n",
    "\n",
    "#Pooling\n",
    "cnn.add(MaxPooling2D(pool_size = (2, 2)))\n",
    "\n",
    "# 2nd Convolution\n",
    "cnn.add(Conv2D(32, (3, 3), activation=\"relu\"))\n",
    "\n",
    "# 2nd Pooling layer\n",
    "cnn.add(MaxPooling2D(pool_size = (2, 2)))\n",
    "\n",
    "# Flatten the layer\n",
    "cnn.add(Flatten())\n",
    "\n",
    "# Fully Connected Layers\n",
    "cnn.add(Dense(activation = 'relu', units = 128))\n",
    "cnn.add(Dense(activation = 'sigmoid', units = 1))\n",
    "\n",
    "# Compile the Neural network\n",
    "cnn.compile(optimizer = 'adam', loss = 'binary_crossentropy', metrics = ['accuracy'])"
   ]
  },
  {
   "cell_type": "code",
   "execution_count": null,
   "metadata": {
    "ExecuteTime": {
     "end_time": "2023-01-18T00:10:36.834319Z",
     "start_time": "2023-01-18T00:10:35.775Z"
    },
    "hidden": true
   },
   "outputs": [],
   "source": [
    "num_of_test_samples = 600\n",
    "batch_size = 32"
   ]
  },
  {
   "cell_type": "code",
   "execution_count": null,
   "metadata": {
    "ExecuteTime": {
     "end_time": "2023-01-18T00:10:36.835819Z",
     "start_time": "2023-01-18T00:10:35.780Z"
    },
    "hidden": true
   },
   "outputs": [],
   "source": [
    "train_path = '/Users/aiden.local/Documents/Flatiron/Course-Material/phase_4/project_phase_4/draft/Test_Data/archive/chest_xray/chest_xray/train/'\n",
    "val_path = '/Users/aiden.local/Documents/Flatiron/Course-Material/phase_4/project_phase_4/draft/Test_Data/archive/chest_xray/chest_xray/val/'\n",
    "test_path = '/Users/aiden.local/Documents/Flatiron/Course-Material/phase_4/project_phase_4/draft/Test_Data/archive/chest_xray/chest_xray/test/'"
   ]
  },
  {
   "cell_type": "code",
   "execution_count": null,
   "metadata": {
    "ExecuteTime": {
     "end_time": "2023-01-18T00:10:36.837823Z",
     "start_time": "2023-01-18T00:10:35.785Z"
    },
    "hidden": true
   },
   "outputs": [],
   "source": [
    "# #  Fitting the CNN to the images\n",
    "# # The function ImageDataGenerator augments your image by iterating through image as your CNN is getting ready to process that image\n",
    "\n",
    "# train_datagen = ImageDataGenerator(rescale = 1./255,\n",
    "#                                    shear_range = 0.2,\n",
    "#                                    zoom_range = 0.2,\n",
    "#                                    horizontal_flip = True)\n",
    "\n",
    "# test_datagen = ImageDataGenerator(rescale = 1./255)  #Image normalization.\n",
    "\n",
    "# training_set = train_datagen.flow_from_directory('../input/chest_xray/chest_xray/train',\n",
    "#                                                  target_size = (64, 64),\n",
    "#                                                  batch_size = 32,\n",
    "#                                                  class_mode = 'binary')\n",
    "\n",
    "# validation_generator = test_datagen.flow_from_directory('../input/chest_xray/chest_xray/val/',\n",
    "#     target_size=(64, 64),\n",
    "#     batch_size=32,\n",
    "#     class_mode='binary')\n",
    "\n",
    "# test_set = test_datagen.flow_from_directory('../input/chest_xray/chest_xray/test',\n",
    "#                                             target_size = (64, 64),\n",
    "#                                             batch_size = 32,\n",
    "#                                             class_mode = 'binary')"
   ]
  },
  {
   "cell_type": "code",
   "execution_count": null,
   "metadata": {
    "ExecuteTime": {
     "end_time": "2023-01-18T00:10:36.839323Z",
     "start_time": "2023-01-18T00:10:35.789Z"
    },
    "hidden": true
   },
   "outputs": [],
   "source": [
    "#  Fitting the CNN to the images\n",
    "# The function ImageDataGenerator augments your image by iterating through image as your CNN is getting ready to process that image\n",
    "\n",
    "train_datagen = ImageDataGenerator(rescale = 1./255,\n",
    "                                   shear_range = 0.2,\n",
    "                                   zoom_range = 0.2,\n",
    "                                   horizontal_flip = True)\n",
    "\n",
    "test_datagen = ImageDataGenerator(rescale = 1./255)  #Image normalization.\n",
    "\n",
    "training_set = train_datagen.flow_from_directory(train_path,\n",
    "                                                 target_size = (64, 64),\n",
    "                                                 batch_size = 32,\n",
    "                                                 class_mode = 'binary')\n",
    "\n",
    "validation_generator = test_datagen.flow_from_directory(val_path,\n",
    "    target_size=(64, 64),\n",
    "    batch_size=32,\n",
    "    class_mode='binary')\n",
    "\n",
    "test_set = test_datagen.flow_from_directory(test_path,\n",
    "                                            target_size = (64, 64),\n",
    "                                            batch_size = 32,\n",
    "                                            class_mode = 'binary')"
   ]
  },
  {
   "cell_type": "code",
   "execution_count": null,
   "metadata": {
    "ExecuteTime": {
     "end_time": "2023-01-18T00:10:36.840820Z",
     "start_time": "2023-01-18T00:10:35.793Z"
    },
    "hidden": true
   },
   "outputs": [],
   "source": [
    "cnn.summary()"
   ]
  },
  {
   "cell_type": "code",
   "execution_count": null,
   "metadata": {
    "ExecuteTime": {
     "end_time": "2023-01-18T00:10:36.842320Z",
     "start_time": "2023-01-18T00:10:35.798Z"
    },
    "hidden": true
   },
   "outputs": [],
   "source": [
    "cnn_model = cnn.fit_generator(training_set,\n",
    "                         steps_per_epoch = 163,\n",
    "                         epochs = 1,\n",
    "                         validation_data = validation_generator,\n",
    "                         validation_steps = 624)"
   ]
  },
  {
   "cell_type": "code",
   "execution_count": null,
   "metadata": {
    "ExecuteTime": {
     "end_time": "2023-01-18T00:10:36.843823Z",
     "start_time": "2023-01-18T00:10:35.803Z"
    },
    "hidden": true
   },
   "outputs": [],
   "source": [
    "test_accu = cnn.evaluate_generator(test_set,steps=624)"
   ]
  },
  {
   "cell_type": "code",
   "execution_count": null,
   "metadata": {
    "ExecuteTime": {
     "end_time": "2023-01-18T00:10:36.845824Z",
     "start_time": "2023-01-18T00:10:35.807Z"
    },
    "hidden": true
   },
   "outputs": [],
   "source": [
    "print('The testing accuracy is :',test_accu[1]*100, '%')"
   ]
  },
  {
   "cell_type": "code",
   "execution_count": null,
   "metadata": {
    "ExecuteTime": {
     "end_time": "2023-01-18T00:10:36.847818Z",
     "start_time": "2023-01-18T00:10:35.812Z"
    },
    "hidden": true
   },
   "outputs": [],
   "source": [
    "import os\n",
    "import cv2\n",
    "import pickle\n",
    "import numpy as np\n",
    "import matplotlib.pyplot as plt\n",
    "import seaborn as sns\n",
    "from tqdm import tqdm\n",
    "from sklearn.preprocessing import OneHotEncoder\n",
    "from sklearn.metrics import confusion_matrix\n",
    "from keras.models import Model, load_model\n",
    "from keras.layers import Dense, Input, Conv2D, MaxPool2D, Flatten\n",
    "from keras.preprocessing.image import ImageDataGenerator\n",
    "np.random.seed(22)"
   ]
  },
  {
   "cell_type": "code",
   "execution_count": null,
   "metadata": {
    "ExecuteTime": {
     "end_time": "2023-01-18T00:10:36.849323Z",
     "start_time": "2023-01-18T00:10:35.817Z"
    },
    "hidden": true
   },
   "outputs": [],
   "source": [
    "##########################################################################################################"
   ]
  },
  {
   "cell_type": "markdown",
   "metadata": {},
   "source": [
    "# Main_draft"
   ]
  },
  {
   "cell_type": "markdown",
   "metadata": {},
   "source": [
    "## Introduction\n",
    "\n",
    "**Disclaimer**\n",
    "\n",
    "**This project was completed for educational purposes only. Do not consider any of this as medical advice**\n",
    "\n",
    "My objective with this project was to be able to use X-rays from pediatric patients to be able to identify whether or not the patient has pneumonia. I accomplished this task using deep learning and transfer models\n",
    "\n",
    "As this was run on my personal work computer, some elements (such as number of epochs) have been reduced in some models to reduce time spent modeling. This can reduce model accuracy in some cases.\n"
   ]
  },
  {
   "cell_type": "markdown",
   "metadata": {},
   "source": [
    "### Dataset\n",
    "The data is not included in my github repository as it exceeds upload limits. To download the dataset you can visit [Kaggle](https://www.kaggle.com/datasets/paultimothymooney/chest-xray-pneumonia) \n",
    "Or for a larger version of the dataset visit [Mendeley](https://data.mendeley.com/datasets/rscbjbr9sj/3) \n",
    "\n",
    "If you want to run the notebook you will need to change the download paths to where your files are located (this is mentioned in the notebook where you need to change it)\n",
    "\n",
    "The dataset contains 5,863 X-Ray images (JPEG) that are split into 2 categories (Pneumonia/Normal), the dataset is highly unbalanced with more normal cases being represented. For each category the images are split into 3 folders (train, test, val) with Pneumonia/Normal cases appearing in all folders\n",
    "Chest X-ray images (anterior-posterior) were selected from retrospective cohorts of pediatric patients of one to five years old from Guangzhou Women and Children’s Medical Center, Guangzhou. All chest X-ray imaging was performed as part of patients’ routine clinical care.\n",
    "For the analysis of chest x-ray images, all chest radiographs were initially screened for quality control by removing all low quality or unreadable scans. The diagnoses for the images were then graded by two expert physicians before being cleared for training the AI system. In order to account for any grading errors, the evaluation set was also checked by a third expert.\n"
   ]
  },
  {
   "cell_type": "markdown",
   "metadata": {},
   "source": [
    "### Modeling\n",
    "As there was limited data my main focus was on transfer models. I did some baseline models and experimented with a few things but quickly moved onto testing three transfer models (VGG16, VGG19, and Xception). All of these models were created for the Imagenet classification competition. For more information visit this [link](https://dl.acm.org/doi/10.1145/3065386) "
   ]
  },
  {
   "cell_type": "markdown",
   "metadata": {},
   "source": [
    "## Imports"
   ]
  },
  {
   "cell_type": "code",
   "execution_count": null,
   "metadata": {},
   "outputs": [],
   "source": []
  },
  {
   "cell_type": "code",
   "execution_count": 1,
   "metadata": {
    "ExecuteTime": {
     "end_time": "2023-01-19T23:26:59.264003Z",
     "start_time": "2023-01-19T23:26:51.934462Z"
    }
   },
   "outputs": [],
   "source": [
    "# Imports\n",
    "# visualization \n",
    "from PIL import Image\n",
    "import os\n",
    "import matplotlib.pyplot as plt\n",
    "\n",
    "# Model\n",
    "from keras.models import Sequential\n",
    "from keras.layers import Dense, Input, Conv2D, MaxPooling2D, Flatten\n",
    "from keras.preprocessing.image import ImageDataGenerator\n",
    "\n",
    "# Transfer\n",
    "# from keras.applications import VGG19\n",
    "\n",
    "# DS genreal\n",
    "import numpy as np\n",
    "import tensorflow as tf\n",
    "import keras\n",
    "\n",
    "# Eval\n",
    "from sklearn.metrics import confusion_matrix, classification_report"
   ]
  },
  {
   "cell_type": "markdown",
   "metadata": {},
   "source": [
    "## Visualizing Data"
   ]
  },
  {
   "cell_type": "markdown",
   "metadata": {},
   "source": [
    "**Note:** If you are running this code yourself you will need to download the data from [kaggle](https://www.kaggle.com/datasets/paultimothymooney/chest-xray-pneumonia) and change all of the paths to your local download path"
   ]
  },
  {
   "cell_type": "code",
   "execution_count": 3,
   "metadata": {
    "ExecuteTime": {
     "end_time": "2023-01-18T00:11:24.275635Z",
     "start_time": "2023-01-18T00:11:24.248138Z"
    }
   },
   "outputs": [],
   "source": [
    "# Create a list containing the names of the files in the directory\n",
    "# If running yourself change all of the paths to your local download path\n",
    "temp_train_n = os.listdir('/Users/aiden.local/Documents/Flatiron/Course-Material/phase_4/project_phase_4/draft/Test_Data/archive/chest_xray/chest_xray/train/NORMAL')\n",
    "temp_train_p = os.listdir('/Users/aiden.local/Documents/Flatiron/Course-Material/phase_4/project_phase_4/draft/Test_Data/archive/chest_xray/chest_xray/train/PNEUMONIA')\n",
    " \n",
    "# Select only images from temp_train_n\n",
    "train_imgs_n = [file for file in temp_train_n if file.endswith('.jpeg')]\n",
    "train_imgs_p = [file for file in temp_train_p if file.endswith('.jpeg')]"
   ]
  },
  {
   "cell_type": "code",
   "execution_count": 4,
   "metadata": {
    "ExecuteTime": {
     "end_time": "2023-01-18T00:11:24.291137Z",
     "start_time": "2023-01-18T00:11:24.279138Z"
    }
   },
   "outputs": [],
   "source": [
    "# Path of training NORMAL and PNEUMONIA cases\n",
    "# If running yourself change all of the paths to your local download path\n",
    "path_train_n = '/Users/aiden.local/Documents/Flatiron/Course-Material/phase_4/project_phase_4/draft/Test_Data/archive/chest_xray/chest_xray/train/NORMAL/'\n",
    "path_train_p = '/Users/aiden.local/Documents/Flatiron/Course-Material/phase_4/project_phase_4/draft/Test_Data/archive/chest_xray/chest_xray/train/PNEUMONIA/'"
   ]
  },
  {
   "cell_type": "code",
   "execution_count": 5,
   "metadata": {
    "ExecuteTime": {
     "end_time": "2023-01-18T00:11:24.306637Z",
     "start_time": "2023-01-18T00:11:24.293640Z"
    }
   },
   "outputs": [],
   "source": [
    "# Loop through and create a path to each individual NORMAL image\n",
    "list_train_n = []\n",
    "for img in train_imgs_n:\n",
    "    list_train_n.append(path_train_n + img)\n",
    "\n",
    "# Loop through and create a path to each individual PNEUMONIA image\n",
    "list_train_p = []\n",
    "for img in train_imgs_p:\n",
    "    list_train_p.append(path_train_p + img)"
   ]
  },
  {
   "cell_type": "code",
   "execution_count": 6,
   "metadata": {
    "ExecuteTime": {
     "end_time": "2023-01-18T00:11:25.097132Z",
     "start_time": "2023-01-18T00:11:24.309638Z"
    }
   },
   "outputs": [
    {
     "data": {
      "image/png": "[encoded data removed]",
      "text/plain": [
       "<Figure size 432x288 with 1 Axes>"
      ]
     },
     "metadata": {
      "needs_background": "light"
     },
     "output_type": "display_data"
    }
   ],
   "source": [
    "# Visualize the first NORMAL case\n",
    "norm_load = Image.open(list_train_n[0])\n",
    "plt.imshow(norm_load, cmap='gray');"
   ]
  },
  {
   "cell_type": "code",
   "execution_count": 7,
   "metadata": {
    "ExecuteTime": {
     "end_time": "2023-01-18T00:11:25.623984Z",
     "start_time": "2023-01-18T00:11:25.100137Z"
    }
   },
   "outputs": [
    {
     "data": {
      "image/png": "[encoded data removed]",
      "text/plain": [
       "<Figure size 432x288 with 1 Axes>"
      ]
     },
     "metadata": {
      "needs_background": "light"
     },
     "output_type": "display_data"
    }
   ],
   "source": [
    "# Visualize the last NORMAL case\n",
    "norm_load = Image.open(list_train_n[-1])\n",
    "plt.imshow(norm_load, cmap='gray');"
   ]
  },
  {
   "cell_type": "code",
   "execution_count": 8,
   "metadata": {
    "ExecuteTime": {
     "end_time": "2023-01-18T00:11:26.073478Z",
     "start_time": "2023-01-18T00:11:25.633983Z"
    }
   },
   "outputs": [
    {
     "data": {
      "image/png": "[encoded data removed]",
      "text/plain": [
       "<Figure size 432x288 with 1 Axes>"
      ]
     },
     "metadata": {
      "needs_background": "light"
     },
     "output_type": "display_data"
    }
   ],
   "source": [
    "# Visualize the first PNEUMONIA case\n",
    "norm_load = Image.open(list_train_p[0])\n",
    "plt.imshow(norm_load, cmap='gray');"
   ]
  },
  {
   "cell_type": "code",
   "execution_count": 9,
   "metadata": {
    "ExecuteTime": {
     "end_time": "2023-01-18T00:11:26.522978Z",
     "start_time": "2023-01-18T00:11:26.077973Z"
    }
   },
   "outputs": [
    {
     "data": {
      "image/png": "[encoded data removed]",
      "text/plain": [
       "<Figure size 432x288 with 1 Axes>"
      ]
     },
     "metadata": {
      "needs_background": "light"
     },
     "output_type": "display_data"
    }
   ],
   "source": [
    "# Visualize the last PNEUMONIA case\n",
    "norm_load = Image.open(list_train_p[-1])\n",
    "plt.imshow(norm_load, cmap='gray');"
   ]
  },
  {
   "cell_type": "markdown",
   "metadata": {},
   "source": [
    "Looking at the differences between the normal and pneumonia cases, the pneumonia cases seems to be \"foggier\" but if I was shown the imgs without knowing their labels it would be hard for me to guess for each img in the list. Let's see if our model can do better than me (not a doctor)"
   ]
  },
  {
   "cell_type": "markdown",
   "metadata": {},
   "source": [
    "## Data Preprocessing & Augmentation "
   ]
  },
  {
   "cell_type": "markdown",
   "metadata": {},
   "source": [
    "The RGB channel values are in the [0, 255] range. This is not ideal for a neural network; in general you should seek to make your input values small. Here, you will standardize values to be in the [0, 1] range by using ImageDataGenerator(rescale = 1./255)\n",
    "\n",
    "The function [ImageDataGenerator](https://studymachinelearning.com/keras-imagedatagenerator-with-flow_from_directory/) class allows the users to perform image augmentation while training the model\n",
    " \n",
    "For more info on Data Augmentation visit the above link or this [tutorial](https://www.tensorflow.org/tutorials/images/data_augmentation) from TensorFlow"
   ]
  },
  {
   "cell_type": "code",
   "execution_count": 2,
   "metadata": {
    "ExecuteTime": {
     "end_time": "2023-01-19T23:26:59.279498Z",
     "start_time": "2023-01-19T23:26:59.272501Z"
    }
   },
   "outputs": [],
   "source": [
    "# Setting paths\n",
    "# If running yourself change all of the paths to your local download path\n",
    "train_path = '/Users/aiden.local/Documents/Flatiron/Course-Material/phase_4/project_phase_4/draft/Test_Data/archive/chest_xray/chest_xray/train/'\n",
    "val_path = '/Users/aiden.local/Documents/Flatiron/Course-Material/phase_4/project_phase_4/draft/Test_Data/archive/chest_xray/chest_xray/val/'\n",
    "test_path = '/Users/aiden.local/Documents/Flatiron/Course-Material/phase_4/project_phase_4/draft/Test_Data/archive/chest_xray/chest_xray/test/'"
   ]
  },
  {
   "cell_type": "code",
   "execution_count": 3,
   "metadata": {
    "ExecuteTime": {
     "end_time": "2023-01-19T23:27:00.379997Z",
     "start_time": "2023-01-19T23:26:59.282501Z"
    }
   },
   "outputs": [
    {
     "name": "stdout",
     "output_type": "stream",
     "text": [
      "Found 5216 images belonging to 2 classes.\n",
      "Found 624 images belonging to 2 classes.\n",
      "Found 16 images belonging to 2 classes.\n"
     ]
    }
   ],
   "source": [
    "# Data augmentation\n",
    "\n",
    "# Train augmentation\n",
    "train_generator = ImageDataGenerator(\n",
    "    rescale = 1./255, # rgb range to [0,1]\n",
    "    # Several steps of augmentation \n",
    "    # (shearing, zooming and flipping)\n",
    "    shear_range = 0.2,\n",
    "    zoom_range = 0.2,\n",
    "    horizontal_flip = True)\n",
    "\n",
    "# Apply train_generator to train data\n",
    "training_set = train_generator.flow_from_directory(\n",
    "    train_path,\n",
    "    # resize images to 64x64\n",
    "    target_size = (64, 64),\n",
    "    class_mode = 'binary')\n",
    "\n",
    "# Test and val augmentation\n",
    "# Scale normalization rgb [0, 255] range to [0,1]\n",
    "test_generator = ImageDataGenerator(rescale = 1./255)  \n",
    "\n",
    "# Apply test_generator to test data\n",
    "test_set = test_generator.flow_from_directory(\n",
    "    test_path,\n",
    "    # resize images to 64x64\n",
    "    target_size = (64, 64),\n",
    "    class_mode = 'binary')\n",
    "# Uses same generator as test\n",
    "# Apply test_generator to val data\n",
    "validation_set = test_generator.flow_from_directory(\n",
    "    val_path,\n",
    "    # resize images to 64x64\n",
    "    target_size=(64, 64),\n",
    "    class_mode='binary')"
   ]
  },
  {
   "cell_type": "code",
   "execution_count": 12,
   "metadata": {
    "ExecuteTime": {
     "end_time": "2023-01-18T00:11:27.638726Z",
     "start_time": "2023-01-18T00:11:27.626725Z"
    }
   },
   "outputs": [],
   "source": [
    "# Found 5216 images belonging to 2 classes. - From training\n",
    "# Found 16 images belonging to 2 classes. - From validation\n",
    "# Found 624 images belonging to 2 classes. - From testing"
   ]
  },
  {
   "cell_type": "code",
   "execution_count": 48,
   "metadata": {
    "ExecuteTime": {
     "end_time": "2023-01-19T22:08:23.321297Z",
     "start_time": "2023-01-19T22:08:23.292301Z"
    }
   },
   "outputs": [
    {
     "ename": "AttributeError",
     "evalue": "module 'tensorflow.keras.utils' has no attribute 'image_dataset_from_directory'",
     "output_type": "error",
     "traceback": [
      "\u001b[1;31m---------------------------------------------------------------------------\u001b[0m",
      "\u001b[1;31mAttributeError\u001b[0m                            Traceback (most recent call last)",
      "\u001b[1;32m<ipython-input-48-8c9a34e8da22>\u001b[0m in \u001b[0;36m<module>\u001b[1;34m\u001b[0m\n\u001b[0;32m     20\u001b[0m \u001b[1;31m# import tensorflow_datasets as tfds\u001b[0m\u001b[1;33m\u001b[0m\u001b[1;33m\u001b[0m\u001b[1;33m\u001b[0m\u001b[0m\n\u001b[0;32m     21\u001b[0m \u001b[1;33m\u001b[0m\u001b[0m\n\u001b[1;32m---> 22\u001b[1;33m \u001b[0mtrain_ds\u001b[0m \u001b[1;33m=\u001b[0m \u001b[0mtf\u001b[0m\u001b[1;33m.\u001b[0m\u001b[0mkeras\u001b[0m\u001b[1;33m.\u001b[0m\u001b[0mutils\u001b[0m\u001b[1;33m.\u001b[0m\u001b[0mimage_dataset_from_directory\u001b[0m\u001b[1;33m(\u001b[0m\u001b[0mtrain_path\u001b[0m\u001b[1;33m)\u001b[0m\u001b[1;33m\u001b[0m\u001b[1;33m\u001b[0m\u001b[0m\n\u001b[0m",
      "\u001b[1;31mAttributeError\u001b[0m: module 'tensorflow.keras.utils' has no attribute 'image_dataset_from_directory'"
     ]
    }
   ],
   "source": [
    "# # # from keras import image_dataset_from_directory\n",
    "# # import matplotlib.pyplot as plt\n",
    "# # import numpy as np\n",
    "# # import PIL\n",
    "# # import tensorflow as tf\n",
    "\n",
    "# # from tensorflow import keras\n",
    "# # from tensorflow.keras import layers\n",
    "# # from tensorflow.keras.models import Sequential\n",
    "# # # tf.keras.utils.image_dataset_from_directory()\n",
    "# # image_dataset_from_directory()\n",
    "\n",
    "\n",
    "# import pathlib\n",
    "# import numpy as np\n",
    "# import os\n",
    "# import PIL\n",
    "# import PIL.Image\n",
    "# import tensorflow as tf\n",
    "# # import tensorflow_datasets as tfds\n",
    "\n",
    "# train_ds = tf.keras.utils.image_dataset_from_directory(train_path)"
   ]
  },
  {
   "cell_type": "markdown",
   "metadata": {},
   "source": [
    "**Note** The validation set from Kaggle is extremely small with only 16 images in total (from the 2 classes). I attempted to fix this by moving a selection of the images from the train directory to the val directory but could not get them to load properly. For the sake of time I chose to move on with the original data from Kaggle. This will make it difficult to gain meaningful results from the validation set analytics later on.\n",
    "\n",
    "You can visit this [link](https://data.mendeley.com/datasets/rscbjbr9sj/3) for a larger scale of this dataset that is not from Kaggle. But it has a different structure so other preprocessing steps would likely be necessary"
   ]
  },
  {
   "cell_type": "code",
   "execution_count": 13,
   "metadata": {
    "ExecuteTime": {
     "end_time": "2023-01-18T00:11:27.654215Z",
     "start_time": "2023-01-18T00:11:27.641720Z"
    }
   },
   "outputs": [
    {
     "name": "stdout",
     "output_type": "stream",
     "text": [
      "Unique values: [0 1]\n",
      "Counts: [1341 3875]\n"
     ]
    }
   ],
   "source": [
    "# get unique values and counts\n",
    "ar_unique, i = np.unique(training_set.classes, return_counts=True)\n",
    "# display the returned array\n",
    "print(\"Unique values:\", ar_unique)\n",
    "# display the counts\n",
    "print(\"Counts:\", i)\n",
    "\n",
    "# 0 is number of imgs in train NORMAL\n",
    "# 1 is number of imgs in train PNEUMONIA"
   ]
  },
  {
   "cell_type": "markdown",
   "metadata": {},
   "source": [
    "Our dataset is highly unbalanced. We will be using label weights with our model. But there are other strategies like downsampling or upsampling the data. You can read more about these techniques [here](https://towardsdatascience.com/how-to-deal-with-imbalanced-data-in-python-f9b71aba53eb) (Medium members only link, you get access to 3 free posts a month)"
   ]
  },
  {
   "cell_type": "markdown",
   "metadata": {},
   "source": [
    "## Modeling"
   ]
  },
  {
   "cell_type": "markdown",
   "metadata": {},
   "source": [
    "### Baseline Model"
   ]
  },
  {
   "cell_type": "markdown",
   "metadata": {},
   "source": [
    "Our baseline model is a relatively simple CNN that I will be using to judge model performance against more complex models"
   ]
  },
  {
   "cell_type": "code",
   "execution_count": 50,
   "metadata": {
    "ExecuteTime": {
     "end_time": "2023-01-19T22:11:55.079626Z",
     "start_time": "2023-01-19T22:11:55.002624Z"
    }
   },
   "outputs": [],
   "source": [
    "# Initialize model\n",
    "model_baseline = Sequential()\n",
    "\n",
    "# First hidden layer\n",
    "model_baseline.add(Conv2D(32, (3, 3), activation=\"relu\", input_shape=(64, 64, 3)))\n",
    "\n",
    "# Second hidden layer\n",
    "model_baseline.add(Conv2D(32, (3, 3), activation=\"relu\"))\n",
    "\n",
    "# Flatten\n",
    "model_baseline.add(Flatten())\n",
    "\n",
    "# Output layer\n",
    "model_baseline.add(Dense(1, activation = 'sigmoid'))\n",
    "\n",
    "# Compile the model\n",
    "model_baseline.compile(optimizer = 'adam',\n",
    "                       loss = 'binary_crossentropy',\n",
    "                       metrics = ['accuracy'])"
   ]
  },
  {
   "cell_type": "code",
   "execution_count": 51,
   "metadata": {
    "ExecuteTime": {
     "end_time": "2023-01-19T22:21:12.802561Z",
     "start_time": "2023-01-19T22:11:58.152017Z"
    }
   },
   "outputs": [
    {
     "name": "stdout",
     "output_type": "stream",
     "text": [
      "Epoch 1/5\n",
      "163/163 [==============================] - 105s 646ms/step - loss: 0.3774 - accuracy: 0.8426 - val_loss: 0.4277 - val_accuracy: 0.7500\n",
      "Epoch 2/5\n",
      "163/163 [==============================] - 108s 662ms/step - loss: 0.2696 - accuracy: 0.8911 - val_loss: 0.5881 - val_accuracy: 0.6875\n",
      "Epoch 3/5\n",
      "163/163 [==============================] - 112s 685ms/step - loss: 0.2204 - accuracy: 0.9091 - val_loss: 0.4483 - val_accuracy: 0.8750\n",
      "Epoch 4/5\n",
      "163/163 [==============================] - 112s 684ms/step - loss: 0.1874 - accuracy: 0.9239 - val_loss: 0.5398 - val_accuracy: 0.6875\n",
      "Epoch 5/5\n",
      "163/163 [==============================] - 113s 690ms/step - loss: 0.1721 - accuracy: 0.9333 - val_loss: 0.2865 - val_accuracy: 0.9375\n"
     ]
    }
   ],
   "source": [
    "# Fit model on training set\n",
    "# Save to history in order to more easily visualize later on\n",
    "history1 = model_baseline.fit(\n",
    "    training_set, \n",
    "    epochs = 5, \n",
    "    validation_data = validation_set)"
   ]
  },
  {
   "cell_type": "code",
   "execution_count": 16,
   "metadata": {
    "ExecuteTime": {
     "end_time": "2023-01-18T00:20:31.531242Z",
     "start_time": "2023-01-18T00:20:31.519243Z"
    }
   },
   "outputs": [
    {
     "data": {
      "text/plain": [
       "{'loss': [0.39233842492103577,\n",
       "  0.2591768205165863,\n",
       "  0.2273959368467331,\n",
       "  0.20276711881160736,\n",
       "  0.18296130001544952],\n",
       " 'accuracy': [0.8274539709091187,\n",
       "  0.893980085849762,\n",
       "  0.910467803478241,\n",
       "  0.9177530407905579,\n",
       "  0.925613522529602],\n",
       " 'val_loss': [0.46781429648399353,\n",
       "  0.4031175673007965,\n",
       "  0.5655519962310791,\n",
       "  0.46265554428100586,\n",
       "  0.35817453265190125],\n",
       " 'val_accuracy': [0.8125, 0.875, 0.75, 0.75, 0.8125]}"
      ]
     },
     "execution_count": 16,
     "metadata": {},
     "output_type": "execute_result"
    }
   ],
   "source": [
    "# history1.history"
   ]
  },
  {
   "cell_type": "markdown",
   "metadata": {},
   "source": [
    "### Weighted Model"
   ]
  },
  {
   "cell_type": "markdown",
   "metadata": {},
   "source": [
    "Our model architecture is actually the same as our baseline model we just impose weights to the labels as our data is highly unbalanced."
   ]
  },
  {
   "cell_type": "code",
   "execution_count": 37,
   "metadata": {
    "ExecuteTime": {
     "end_time": "2023-01-19T21:59:43.555999Z",
     "start_time": "2023-01-19T21:59:43.474475Z"
    }
   },
   "outputs": [],
   "source": [
    "# Initialize model\n",
    "model_weighted = Sequential()\n",
    "\n",
    "# First hidden layer\n",
    "model_weighted.add(Conv2D(32, (3, 3), activation=\"relu\", input_shape=(64, 64, 3)))\n",
    "\n",
    "# Second hidden layer\n",
    "model_weighted.add(Conv2D(32, (3, 3), activation=\"relu\"))\n",
    "\n",
    "# Flatten\n",
    "model_weighted.add(Flatten())\n",
    "\n",
    "# Output layer\n",
    "model_weighted.add(Dense(1, activation = 'sigmoid'))\n",
    "\n",
    "# Compile the model\n",
    "model_weighted.compile(optimizer = 'adam',\n",
    "                       loss = 'binary_crossentropy',\n",
    "                       metrics = ['accuracy'])"
   ]
  },
  {
   "cell_type": "code",
   "execution_count": 38,
   "metadata": {
    "ExecuteTime": {
     "end_time": "2023-01-19T22:03:27.989864Z",
     "start_time": "2023-01-19T21:59:44.779929Z"
    }
   },
   "outputs": [
    {
     "name": "stdout",
     "output_type": "stream",
     "text": [
      "Epoch 1/2\n",
      "163/163 [==============================] - 111s 681ms/step - loss: 0.7185 - accuracy: 0.7801 - val_loss: 0.6192 - val_accuracy: 0.6250\n",
      "Epoch 2/2\n",
      "163/163 [==============================] - 109s 669ms/step - loss: 0.4252 - accuracy: 0.8771 - val_loss: 0.4253 - val_accuracy: 0.8125\n"
     ]
    }
   ],
   "source": [
    "# Fit model on training set\n",
    "history2 = model_weighted.fit(\n",
    "    training_set, \n",
    "    epochs = 2,\n",
    "    validation_data = validation_set,\n",
    "    # model weight. Calculated from level of unbalance in data\n",
    "    class_weight={0:2.8 , 1:1}) "
   ]
  },
  {
   "cell_type": "code",
   "execution_count": 19,
   "metadata": {
    "ExecuteTime": {
     "end_time": "2023-01-18T00:24:16.420217Z",
     "start_time": "2023-01-18T00:24:16.409713Z"
    }
   },
   "outputs": [
    {
     "data": {
      "text/plain": [
       "{'loss': [0.7412524819374084, 0.4445553123950958],\n",
       " 'accuracy': [0.7561349868774414, 0.8698236346244812],\n",
       " 'val_loss': [0.35773786902427673, 0.33488529920578003],\n",
       " 'val_accuracy': [0.9375, 0.8125]}"
      ]
     },
     "execution_count": 19,
     "metadata": {},
     "output_type": "execute_result"
    }
   ],
   "source": [
    "history2.history"
   ]
  },
  {
   "cell_type": "code",
   "execution_count": 20,
   "metadata": {
    "ExecuteTime": {
     "end_time": "2023-01-18T00:24:16.435718Z",
     "start_time": "2023-01-18T00:24:16.423214Z"
    }
   },
   "outputs": [],
   "source": [
    "# # Fit model on training set\n",
    "# history2 = model_weighted.fit(\n",
    "#     training_set, \n",
    "#     steps_per_epoch = 163,\n",
    "#     epochs = 5,\n",
    "#     validation_data = validation_set,\n",
    "#     validation_steps = 50,\n",
    "#     class_weight={0:2.8 , 1:1}) # model weight"
   ]
  },
  {
   "cell_type": "code",
   "execution_count": 21,
   "metadata": {
    "ExecuteTime": {
     "end_time": "2023-01-18T00:24:16.823210Z",
     "start_time": "2023-01-18T00:24:16.439712Z"
    }
   },
   "outputs": [
    {
     "data": {
      "image/png": "[encoded data removed]",
      "text/plain": [
       "<Figure size 432x288 with 1 Axes>"
      ]
     },
     "metadata": {
      "needs_background": "light"
     },
     "output_type": "display_data"
    }
   ],
   "source": [
    "# Accuracy graphing\n",
    "plt.plot(history2.history['accuracy'])\n",
    "plt.plot(history2.history['val_accuracy'])\n",
    "plt.title('Model Accuracy')\n",
    "plt.ylabel('Accuracy')\n",
    "plt.xlabel('Epoch')\n",
    "plt.legend(['Training set', 'Validation set'], loc='upper left')\n",
    "plt.show()"
   ]
  },
  {
   "cell_type": "code",
   "execution_count": 22,
   "metadata": {
    "ExecuteTime": {
     "end_time": "2023-01-18T00:24:17.210212Z",
     "start_time": "2023-01-18T00:24:16.826209Z"
    }
   },
   "outputs": [
    {
     "data": {
      "image/png": "[encoded data removed]",
      "text/plain": [
       "<Figure size 432x288 with 1 Axes>"
      ]
     },
     "metadata": {
      "needs_background": "light"
     },
     "output_type": "display_data"
    }
   ],
   "source": [
    "# Loss graphing\n",
    "plt.plot(history2.history['val_loss'])\n",
    "plt.plot(history2.history['loss'])\n",
    "plt.title('Model Loss')\n",
    "plt.ylabel('Loss')\n",
    "plt.xlabel('Epoch')\n",
    "plt.legend(['Training set', 'Validation set'], loc='upper left')\n",
    "plt.show()"
   ]
  },
  {
   "cell_type": "markdown",
   "metadata": {},
   "source": [
    "### Models with different optimizers"
   ]
  },
  {
   "cell_type": "markdown",
   "metadata": {},
   "source": [
    "Adam is currently one of the most popular and powerful optimizers. Here we will quickly try a few others with the same architecture as our previous models to act as a baseline.\n",
    "\n",
    "For more details on these optimizers check out the [documentation](https://keras.io/api/optimizers/)"
   ]
  },
  {
   "cell_type": "code",
   "execution_count": 23,
   "metadata": {
    "ExecuteTime": {
     "end_time": "2023-01-18T00:24:17.287715Z",
     "start_time": "2023-01-18T00:24:17.219713Z"
    }
   },
   "outputs": [],
   "source": [
    "# Initialize model\n",
    "model_rmsprop = Sequential()\n",
    "\n",
    "# First hidden layer\n",
    "model_rmsprop.add(Conv2D(32, (3, 3), activation=\"relu\", input_shape=(64, 64, 3)))\n",
    "\n",
    "# Second hidden layer\n",
    "model_rmsprop.add(Conv2D(32, (3, 3), activation=\"relu\"))\n",
    "\n",
    "# Flatten\n",
    "model_rmsprop.add(Flatten())\n",
    "\n",
    "# Output layer\n",
    "model_rmsprop.add(Dense(1, activation = 'sigmoid'))"
   ]
  },
  {
   "cell_type": "code",
   "execution_count": 24,
   "metadata": {
    "ExecuteTime": {
     "end_time": "2023-01-18T01:09:34.166439Z",
     "start_time": "2023-01-18T00:24:17.294712Z"
    }
   },
   "outputs": [
    {
     "name": "stdout",
     "output_type": "stream",
     "text": [
      "Epoch 1/25\n",
      "163/163 [==============================] - 110s 673ms/step - loss: 0.8869 - accuracy: 0.7345 - val_loss: 0.4500 - val_accuracy: 0.7500\n",
      "Epoch 2/25\n",
      "163/163 [==============================] - 110s 677ms/step - loss: 0.4869 - accuracy: 0.8602 - val_loss: 0.3422 - val_accuracy: 0.8750\n",
      "Epoch 3/25\n",
      "163/163 [==============================] - 109s 670ms/step - loss: 0.4277 - accuracy: 0.8785 - val_loss: 0.4237 - val_accuracy: 0.7500\n",
      "Epoch 4/25\n",
      "163/163 [==============================] - 111s 678ms/step - loss: 0.3790 - accuracy: 0.8934 - val_loss: 0.3193 - val_accuracy: 0.8750\n",
      "Epoch 5/25\n",
      "163/163 [==============================] - 107s 656ms/step - loss: 0.3658 - accuracy: 0.9041 - val_loss: 0.3074 - val_accuracy: 0.8750\n",
      "Epoch 6/25\n",
      "163/163 [==============================] - 106s 652ms/step - loss: 0.3506 - accuracy: 0.9093 - val_loss: 0.2831 - val_accuracy: 0.8750\n",
      "Epoch 7/25\n",
      "163/163 [==============================] - 108s 660ms/step - loss: 0.3442 - accuracy: 0.9084 - val_loss: 0.2035 - val_accuracy: 0.9375\n",
      "Epoch 8/25\n",
      "163/163 [==============================] - 108s 660ms/step - loss: 0.3151 - accuracy: 0.9151 - val_loss: 0.2327 - val_accuracy: 0.9375\n",
      "Epoch 9/25\n",
      "163/163 [==============================] - 107s 659ms/step - loss: 0.2830 - accuracy: 0.9229 - val_loss: 0.3843 - val_accuracy: 0.7500\n",
      "Epoch 10/25\n",
      "163/163 [==============================] - 108s 661ms/step - loss: 0.2743 - accuracy: 0.9314 - val_loss: 0.2025 - val_accuracy: 1.0000\n",
      "Epoch 11/25\n",
      "163/163 [==============================] - 108s 662ms/step - loss: 0.2695 - accuracy: 0.9279 - val_loss: 0.3600 - val_accuracy: 0.8125\n",
      "Epoch 12/25\n",
      "163/163 [==============================] - 107s 659ms/step - loss: 0.2871 - accuracy: 0.9262 - val_loss: 0.1991 - val_accuracy: 0.9375\n",
      "Epoch 13/25\n",
      "163/163 [==============================] - 107s 659ms/step - loss: 0.2632 - accuracy: 0.9289 - val_loss: 0.3030 - val_accuracy: 0.8125\n",
      "Epoch 14/25\n",
      "163/163 [==============================] - 108s 665ms/step - loss: 0.2516 - accuracy: 0.9365 - val_loss: 0.2765 - val_accuracy: 0.9375\n",
      "Epoch 15/25\n",
      "163/163 [==============================] - 108s 661ms/step - loss: 0.2623 - accuracy: 0.9371 - val_loss: 0.4626 - val_accuracy: 0.6875\n",
      "Epoch 16/25\n",
      "163/163 [==============================] - 108s 663ms/step - loss: 0.2443 - accuracy: 0.9360 - val_loss: 0.2380 - val_accuracy: 0.9375\n",
      "Epoch 17/25\n",
      "163/163 [==============================] - 108s 662ms/step - loss: 0.2568 - accuracy: 0.9327 - val_loss: 0.1694 - val_accuracy: 1.0000\n",
      "Epoch 18/25\n",
      "163/163 [==============================] - 107s 654ms/step - loss: 0.2345 - accuracy: 0.9394 - val_loss: 0.1640 - val_accuracy: 0.9375\n",
      "Epoch 19/25\n",
      "163/163 [==============================] - 106s 653ms/step - loss: 0.2445 - accuracy: 0.9415 - val_loss: 0.2782 - val_accuracy: 0.8125\n",
      "Epoch 20/25\n",
      "163/163 [==============================] - 107s 656ms/step - loss: 0.2425 - accuracy: 0.9388 - val_loss: 0.1735 - val_accuracy: 0.9375\n",
      "Epoch 21/25\n",
      "163/163 [==============================] - 107s 659ms/step - loss: 0.2319 - accuracy: 0.9417 - val_loss: 0.3222 - val_accuracy: 0.8750\n",
      "Epoch 22/25\n",
      "163/163 [==============================] - 108s 661ms/step - loss: 0.2267 - accuracy: 0.9459 - val_loss: 0.2680 - val_accuracy: 0.9375\n",
      "Epoch 23/25\n",
      "163/163 [==============================] - 107s 655ms/step - loss: 0.2025 - accuracy: 0.9500 - val_loss: 0.2308 - val_accuracy: 0.8750\n",
      "Epoch 24/25\n",
      "163/163 [==============================] - 107s 658ms/step - loss: 0.2291 - accuracy: 0.9457 - val_loss: 0.1313 - val_accuracy: 0.9375\n",
      "Epoch 25/25\n",
      "163/163 [==============================] - 108s 661ms/step - loss: 0.2102 - accuracy: 0.9503 - val_loss: 0.2059 - val_accuracy: 0.8125\n"
     ]
    }
   ],
   "source": [
    "# Compile the model with RMSprop optimizer\n",
    "model_rmsprop.compile(optimizer = 'RMSprop',\n",
    "                       loss = 'binary_crossentropy',\n",
    "                       metrics = ['accuracy'])\n",
    "\n",
    "# Fit the model\n",
    "history3 = model_rmsprop.fit(\n",
    "    training_set, \n",
    "    epochs = 25,\n",
    "    validation_data = validation_set,\n",
    "    class_weight={0:2.8 , 1:1}) # model weight "
   ]
  },
  {
   "cell_type": "code",
   "execution_count": 25,
   "metadata": {
    "ExecuteTime": {
     "end_time": "2023-01-18T01:09:34.181936Z",
     "start_time": "2023-01-18T01:09:34.169439Z"
    }
   },
   "outputs": [],
   "source": [
    "# # Compile the model with a different optimizer\n",
    "# model_rmsprop.compile(optimizer = 'RMSprop',\n",
    "#                        loss = 'binary_crossentropy',\n",
    "#                        metrics = ['accuracy'])\n",
    "\n",
    "\n",
    "# history3 = model_rmsprop.fit(\n",
    "#     training_set, \n",
    "#     epochs = 25,\n",
    "#     validation_data = validation_set,\n",
    "#     class_weight={0:2.8 , 1:1}) # model weight "
   ]
  },
  {
   "cell_type": "code",
   "execution_count": 26,
   "metadata": {
    "ExecuteTime": {
     "end_time": "2023-01-18T01:09:34.243941Z",
     "start_time": "2023-01-18T01:09:34.185436Z"
    }
   },
   "outputs": [],
   "source": [
    "# Initialize model\n",
    "model_sgd = Sequential()\n",
    "\n",
    "# First hidden layer\n",
    "model_sgd.add(Conv2D(32, (3, 3), activation=\"relu\", input_shape=(64, 64, 3)))\n",
    "\n",
    "# Second hidden layer\n",
    "model_sgd.add(Conv2D(32, (3, 3), activation=\"relu\"))\n",
    "\n",
    "# Flatten\n",
    "model_sgd.add(Flatten())\n",
    "\n",
    "# Output layer\n",
    "model_sgd.add(Dense(1, activation = 'sigmoid'))"
   ]
  },
  {
   "cell_type": "code",
   "execution_count": 27,
   "metadata": {
    "ExecuteTime": {
     "end_time": "2023-01-18T20:14:09.511049Z",
     "start_time": "2023-01-18T01:09:34.247436Z"
    }
   },
   "outputs": [
    {
     "name": "stdout",
     "output_type": "stream",
     "text": [
      "Epoch 1/25\n",
      "163/163 [==============================] - 106s 652ms/step - loss: 0.8925 - accuracy: 0.6580 - val_loss: 0.5667 - val_accuracy: 0.7500\n",
      "Epoch 2/25\n",
      "163/163 [==============================] - 106s 649ms/step - loss: 0.5193 - accuracy: 0.8332 - val_loss: 0.5404 - val_accuracy: 0.8750\n",
      "Epoch 3/25\n",
      "163/163 [==============================] - 107s 657ms/step - loss: 0.5237 - accuracy: 0.8390 - val_loss: 0.5676 - val_accuracy: 0.8750\n",
      "Epoch 4/25\n",
      "163/163 [==============================] - 106s 650ms/step - loss: 0.4854 - accuracy: 0.8526 - val_loss: 0.6463 - val_accuracy: 0.6250\n",
      "Epoch 5/25\n",
      "163/163 [==============================] - 107s 657ms/step - loss: 0.4351 - accuracy: 0.8727 - val_loss: 0.5796 - val_accuracy: 0.8750\n",
      "Epoch 6/25\n",
      "163/163 [==============================] - 107s 659ms/step - loss: 0.4195 - accuracy: 0.8871 - val_loss: 0.5784 - val_accuracy: 0.8750\n",
      "Epoch 7/25\n",
      "163/163 [==============================] - 108s 665ms/step - loss: 0.4026 - accuracy: 0.8861 - val_loss: 0.6998 - val_accuracy: 0.6875\n",
      "Epoch 8/25\n",
      "163/163 [==============================] - 107s 654ms/step - loss: 0.3886 - accuracy: 0.8877 - val_loss: 0.5907 - val_accuracy: 0.7500\n",
      "Epoch 9/25\n",
      "163/163 [==============================] - 107s 659ms/step - loss: 0.3867 - accuracy: 0.8930 - val_loss: 0.5628 - val_accuracy: 0.8125\n",
      "Epoch 10/25\n",
      "163/163 [==============================] - 107s 657ms/step - loss: 0.3793 - accuracy: 0.8919 - val_loss: 0.5431 - val_accuracy: 0.7500\n",
      "Epoch 11/25\n",
      "163/163 [==============================] - 107s 656ms/step - loss: 0.3807 - accuracy: 0.8976 - val_loss: 0.7974 - val_accuracy: 0.6250\n",
      "Epoch 12/25\n",
      "163/163 [==============================] - 108s 660ms/step - loss: 0.3567 - accuracy: 0.9015 - val_loss: 0.5419 - val_accuracy: 0.7500\n",
      "Epoch 13/25\n",
      "163/163 [==============================] - 66031s 405s/step - loss: 0.3452 - accuracy: 0.9080 - val_loss: 0.5253 - val_accuracy: 0.8125\n",
      "Epoch 14/25\n",
      "163/163 [==============================] - 134s 822ms/step - loss: 0.3493 - accuracy: 0.9034 - val_loss: 0.5452 - val_accuracy: 0.8125\n",
      "Epoch 15/25\n",
      "163/163 [==============================] - 130s 797ms/step - loss: 0.3295 - accuracy: 0.9132 - val_loss: 0.5864 - val_accuracy: 0.6875\n",
      "Epoch 16/25\n",
      "163/163 [==============================] - 110s 677ms/step - loss: 0.3267 - accuracy: 0.9130 - val_loss: 0.4967 - val_accuracy: 0.8125\n",
      "Epoch 17/25\n",
      "163/163 [==============================] - 110s 672ms/step - loss: 0.3325 - accuracy: 0.9055 - val_loss: 0.6384 - val_accuracy: 0.6875\n",
      "Epoch 18/25\n",
      "163/163 [==============================] - 109s 668ms/step - loss: 0.3311 - accuracy: 0.9062 - val_loss: 0.6819 - val_accuracy: 0.6250\n",
      "Epoch 19/25\n",
      "163/163 [==============================] - 105s 644ms/step - loss: 0.3178 - accuracy: 0.9151 - val_loss: 0.5076 - val_accuracy: 0.8125\n",
      "Epoch 20/25\n",
      "163/163 [==============================] - 105s 646ms/step - loss: 0.2908 - accuracy: 0.9191 - val_loss: 0.5439 - val_accuracy: 0.7500\n",
      "Epoch 21/25\n",
      "163/163 [==============================] - 105s 643ms/step - loss: 0.3164 - accuracy: 0.9183 - val_loss: 0.5146 - val_accuracy: 0.6875\n",
      "Epoch 22/25\n",
      "163/163 [==============================] - 109s 668ms/step - loss: 0.2951 - accuracy: 0.9176 - val_loss: 0.5316 - val_accuracy: 0.6250\n",
      "Epoch 23/25\n",
      "163/163 [==============================] - 109s 668ms/step - loss: 0.3030 - accuracy: 0.9181 - val_loss: 0.6559 - val_accuracy: 0.6875\n",
      "Epoch 24/25\n",
      "163/163 [==============================] - 105s 646ms/step - loss: 0.2932 - accuracy: 0.9252 - val_loss: 0.4892 - val_accuracy: 0.8125\n",
      "Epoch 25/25\n",
      "163/163 [==============================] - 108s 665ms/step - loss: 0.2955 - accuracy: 0.9218 - val_loss: 0.4864 - val_accuracy: 0.7500\n"
     ]
    }
   ],
   "source": [
    "# Compile the model with SGD optimizer\n",
    "model_sgd.compile(optimizer = 'SGD',\n",
    "                       loss = 'binary_crossentropy',\n",
    "                       metrics = ['accuracy'])\n",
    "\n",
    "# Fit the model\n",
    "history4 = model_sgd.fit(\n",
    "    training_set, \n",
    "    epochs = 25,\n",
    "    validation_data = validation_set,\n",
    "    class_weight={0:2.8 , 1:1}) # model weight "
   ]
  },
  {
   "cell_type": "code",
   "execution_count": 28,
   "metadata": {
    "ExecuteTime": {
     "end_time": "2023-01-18T20:14:09.526539Z",
     "start_time": "2023-01-18T20:14:09.515039Z"
    }
   },
   "outputs": [],
   "source": [
    "# # let's build the CNN model\n",
    "\n",
    "# cnn = Sequential()\n",
    "\n",
    "# # Convolution\n",
    "# cnn.add(Conv2D(32, (3, 3), activation=\"relu\", input_shape=(64, 64, 3)))\n",
    "\n",
    "# # Pooling\n",
    "# cnn.add(MaxPooling2D(pool_size = (2, 2)))\n",
    "\n",
    "# # 2nd Convolution\n",
    "# cnn.add(Conv2D(32, (3, 3), activation=\"relu\"))\n",
    "\n",
    "# # 2nd Pooling layer\n",
    "# cnn.add(MaxPooling2D(pool_size = (2, 2)))\n",
    "\n",
    "# # Flatten the layer\n",
    "# cnn.add(Flatten())\n",
    "\n",
    "# # Fully Connected Layers\n",
    "# cnn.add(Dense(activation = 'relu', units = 128))\n",
    "# cnn.add(Dense(activation = 'sigmoid', units = 1))\n",
    "\n",
    "# # Compile the Neural network\n",
    "# cnn.compile(optimizer = 'adam', \n",
    "#             loss = 'binary_crossentropy', \n",
    "#             metrics = ['accuracy'])"
   ]
  },
  {
   "cell_type": "code",
   "execution_count": 29,
   "metadata": {
    "ExecuteTime": {
     "end_time": "2023-01-18T20:14:09.542041Z",
     "start_time": "2023-01-18T20:14:09.530041Z"
    }
   },
   "outputs": [],
   "source": [
    "# cnn.summary()"
   ]
  },
  {
   "cell_type": "code",
   "execution_count": 30,
   "metadata": {
    "ExecuteTime": {
     "end_time": "2023-01-18T20:14:09.557539Z",
     "start_time": "2023-01-18T20:14:09.545541Z"
    }
   },
   "outputs": [],
   "source": [
    "# history3 = cnn.fit(training_set, \n",
    "#                     steps_per_epoch = 163,\n",
    "#                     epochs = 25,\n",
    "#                     validation_data = validation_generator,\n",
    "#                     validation_steps = 624)"
   ]
  },
  {
   "cell_type": "markdown",
   "metadata": {},
   "source": [
    "#### Del"
   ]
  },
  {
   "cell_type": "code",
   "execution_count": 31,
   "metadata": {
    "ExecuteTime": {
     "end_time": "2023-01-18T20:14:09.573056Z",
     "start_time": "2023-01-18T20:14:09.560542Z"
    }
   },
   "outputs": [],
   "source": [
    "# test_acc = cnn.evaluate(test_set, steps=624)"
   ]
  },
  {
   "cell_type": "code",
   "execution_count": 32,
   "metadata": {
    "ExecuteTime": {
     "end_time": "2023-01-18T20:14:09.588541Z",
     "start_time": "2023-01-18T20:14:09.577541Z"
    }
   },
   "outputs": [],
   "source": [
    "# print('The testing accuracy is :', test_acc[1]*100, '%')"
   ]
  },
  {
   "cell_type": "markdown",
   "metadata": {},
   "source": [
    "The optimizer Adam in this case is able to be the best optimizer. To be more thorough it would be better to test different optimizers with the upcoming transfer models but I am going to skip this for the sake of resources and time. Adam is currently one of the most powerful optimizers so it would likely be the case it outperforms on upcoming models as well."
   ]
  },
  {
   "cell_type": "code",
   "execution_count": null,
   "metadata": {},
   "outputs": [],
   "source": []
  },
  {
   "cell_type": "markdown",
   "metadata": {},
   "source": [
    "## Transfer Learning"
   ]
  },
  {
   "cell_type": "markdown",
   "metadata": {},
   "source": [
    "For more information on transfer learning visit the [Keras Guide](https://keras.io/guides/transfer_learning/)"
   ]
  },
  {
   "cell_type": "code",
   "execution_count": 33,
   "metadata": {
    "ExecuteTime": {
     "end_time": "2023-01-18T20:14:09.604037Z",
     "start_time": "2023-01-18T20:14:09.592040Z"
    }
   },
   "outputs": [],
   "source": [
    "################\n",
    "# Dosent work"
   ]
  },
  {
   "cell_type": "code",
   "execution_count": 34,
   "metadata": {
    "ExecuteTime": {
     "end_time": "2023-01-18T20:14:09.619537Z",
     "start_time": "2023-01-18T20:14:09.607041Z"
    }
   },
   "outputs": [],
   "source": [
    "# from keras.applications import VGG19\n",
    "\n",
    "# cnn_base = VGG19(weights='imagenet', \n",
    "#                  include_top=False, \n",
    "#                  input_shape=(64, 64, 3))"
   ]
  },
  {
   "cell_type": "code",
   "execution_count": 35,
   "metadata": {
    "ExecuteTime": {
     "end_time": "2023-01-18T20:14:09.635037Z",
     "start_time": "2023-01-18T20:14:09.622541Z"
    }
   },
   "outputs": [],
   "source": [
    "# cnn_base.summary()"
   ]
  },
  {
   "cell_type": "code",
   "execution_count": 36,
   "metadata": {
    "ExecuteTime": {
     "end_time": "2023-01-18T20:14:09.650545Z",
     "start_time": "2023-01-18T20:14:09.638043Z"
    }
   },
   "outputs": [],
   "source": [
    "# from keras import models\n",
    "# from keras import layers\n",
    "# from keras import optimizers\n",
    "\n",
    "# model = models.Sequential()\n",
    "# model.add(layers.Dense(256, activation='relu', input_dim=2*2*512))\n",
    "# model.add(layers.Dense(1, activation='sigmoid'))\n",
    "\n",
    "# model.compile(optimizer=optimizers.RMSprop(lr=1e-4),\n",
    "#               loss='binary_crossentropy',\n",
    "#               metrics=['acc'])\n",
    "\n",
    "# history = model.fit(training_set, \n",
    "#                     steps_per_epoch = 163,\n",
    "#                              epochs = 20,\n",
    "#                              validation_data = validation_set,\n",
    "#                              class_weight={0:2.8 , 1:1})"
   ]
  },
  {
   "cell_type": "code",
   "execution_count": 37,
   "metadata": {
    "ExecuteTime": {
     "end_time": "2023-01-18T20:14:09.666039Z",
     "start_time": "2023-01-18T20:14:09.654046Z"
    }
   },
   "outputs": [],
   "source": [
    "# # Accuracy \n",
    "# plt.plot(history.history['accuracy'])\n",
    "# plt.plot(history.history['val_accuracy'])\n",
    "# plt.title('Model Accuracy')\n",
    "# plt.ylabel('Accuracy')\n",
    "# plt.xlabel('Epoch')\n",
    "# plt.legend(['Training set', 'Validation set'], loc='upper left')\n",
    "# plt.show()"
   ]
  },
  {
   "cell_type": "code",
   "execution_count": 38,
   "metadata": {
    "ExecuteTime": {
     "end_time": "2023-01-18T20:14:09.681541Z",
     "start_time": "2023-01-18T20:14:09.669041Z"
    }
   },
   "outputs": [],
   "source": [
    "# # Loss \n",
    "\n",
    "# plt.plot(history.history['val_loss'])\n",
    "# plt.plot(history.history['loss'])\n",
    "# plt.title('Model Loss')\n",
    "# plt.ylabel('Loss')\n",
    "# plt.xlabel('Epoch')\n",
    "# plt.legend(['Training set', 'Validation set'], loc='upper left')\n",
    "# plt.show()"
   ]
  },
  {
   "cell_type": "code",
   "execution_count": 39,
   "metadata": {
    "ExecuteTime": {
     "end_time": "2023-01-18T20:14:09.697038Z",
     "start_time": "2023-01-18T20:14:09.685041Z"
    }
   },
   "outputs": [],
   "source": [
    "# Doesnt work\n",
    "##########################\n",
    "# Doesnt work"
   ]
  },
  {
   "cell_type": "code",
   "execution_count": 40,
   "metadata": {
    "ExecuteTime": {
     "end_time": "2023-01-18T20:14:09.712541Z",
     "start_time": "2023-01-18T20:14:09.700042Z"
    }
   },
   "outputs": [],
   "source": [
    "# from keras.applications import Xception\n",
    "# cnn_base = Xception(weights='imagenet', \n",
    "#                     include_top=False)"
   ]
  },
  {
   "cell_type": "code",
   "execution_count": 41,
   "metadata": {
    "ExecuteTime": {
     "end_time": "2023-01-18T20:14:09.728039Z",
     "start_time": "2023-01-18T20:14:09.715541Z"
    }
   },
   "outputs": [],
   "source": [
    "# cnn_base.summary()"
   ]
  },
  {
   "cell_type": "code",
   "execution_count": 42,
   "metadata": {
    "ExecuteTime": {
     "end_time": "2023-01-18T20:14:09.743539Z",
     "start_time": "2023-01-18T20:14:09.730539Z"
    }
   },
   "outputs": [],
   "source": [
    "# from keras import models\n",
    "# from keras import layers\n",
    "# from keras import optimizers\n",
    "\n",
    "# model = models.Sequential()\n",
    "# model.add(layers.Dense(32, activation='relu'))\n",
    "# model.add(layers.Dense(1, activation='sigmoid'))\n",
    "\n",
    "# # model.compile(optimizer=optimizers.RMSprop(lr=1e-4),\n",
    "# #               loss='binary_crossentropy',\n",
    "# #               metrics=['acc'])\n",
    "\n",
    "# model.compile(optimizer = 'adam',\n",
    "#                        loss = 'binary_crossentropy',\n",
    "#                        metrics = ['accuracy'])\n",
    "\n",
    "# history = model.fit(training_set, \n",
    "#                              steps_per_epoch = 163,\n",
    "#                              epochs = 20,\n",
    "#                              validation_data = validation_set,\n",
    "#                              class_weight={0:2.8 , 1:1})"
   ]
  },
  {
   "cell_type": "code",
   "execution_count": 43,
   "metadata": {
    "ExecuteTime": {
     "end_time": "2023-01-18T20:14:09.759039Z",
     "start_time": "2023-01-18T20:14:09.746538Z"
    }
   },
   "outputs": [],
   "source": [
    "# # Accuracy \n",
    "# plt.plot(history.history['accuracy'])\n",
    "# plt.plot(history.history['val_accuracy'])\n",
    "# plt.title('Model Accuracy')\n",
    "# plt.ylabel('Accuracy')\n",
    "# plt.xlabel('Epoch')\n",
    "# plt.legend(['Training set', 'Validation set'], loc='upper left')\n",
    "# plt.show()"
   ]
  },
  {
   "cell_type": "code",
   "execution_count": 44,
   "metadata": {
    "ExecuteTime": {
     "end_time": "2023-01-18T20:14:09.774539Z",
     "start_time": "2023-01-18T20:14:09.762041Z"
    }
   },
   "outputs": [],
   "source": [
    "# # Loss \n",
    "\n",
    "# plt.plot(history.history['val_loss'])\n",
    "# plt.plot(history.history['loss'])\n",
    "# plt.title('Model Loss')\n",
    "# plt.ylabel('Loss')\n",
    "# plt.xlabel('Epoch')\n",
    "# plt.legend(['Training set', 'Validation set'], loc='upper left')\n",
    "# plt.show()"
   ]
  },
  {
   "cell_type": "code",
   "execution_count": 45,
   "metadata": {
    "ExecuteTime": {
     "end_time": "2023-01-18T20:14:09.790039Z",
     "start_time": "2023-01-18T20:14:09.777539Z"
    }
   },
   "outputs": [],
   "source": [
    "# Above dosent work\n",
    "#############"
   ]
  },
  {
   "cell_type": "code",
   "execution_count": 46,
   "metadata": {
    "ExecuteTime": {
     "end_time": "2023-01-18T20:14:09.805542Z",
     "start_time": "2023-01-18T20:14:09.794540Z"
    }
   },
   "outputs": [],
   "source": [
    "############################################################################"
   ]
  },
  {
   "cell_type": "code",
   "execution_count": 47,
   "metadata": {
    "ExecuteTime": {
     "end_time": "2023-01-18T20:14:09.821039Z",
     "start_time": "2023-01-18T20:14:09.808542Z"
    }
   },
   "outputs": [],
   "source": []
  },
  {
   "cell_type": "code",
   "execution_count": 48,
   "metadata": {
    "ExecuteTime": {
     "end_time": "2023-01-18T20:14:13.772622Z",
     "start_time": "2023-01-18T20:14:09.824541Z"
    }
   },
   "outputs": [],
   "source": [
    "transfer_model = keras.applications.Xception(\n",
    "    weights='imagenet',  # Load weights pre-trained on ImageNet.\n",
    "    input_shape=(150, 150, 3),\n",
    "    include_top=False)  # Do not include the ImageNet classifier at the top."
   ]
  },
  {
   "cell_type": "code",
   "execution_count": 49,
   "metadata": {
    "ExecuteTime": {
     "end_time": "2023-01-18T20:14:13.874620Z",
     "start_time": "2023-01-18T20:14:13.776623Z"
    }
   },
   "outputs": [
    {
     "name": "stdout",
     "output_type": "stream",
     "text": [
      "Model: \"xception\"\n",
      "__________________________________________________________________________________________________\n",
      "Layer (type)                    Output Shape         Param #     Connected to                     \n",
      "==================================================================================================\n",
      "input_1 (InputLayer)            [(None, 150, 150, 3) 0                                            \n",
      "__________________________________________________________________________________________________\n",
      "block1_conv1 (Conv2D)           (None, 74, 74, 32)   864         input_1[0][0]                    \n",
      "__________________________________________________________________________________________________\n",
      "block1_conv1_bn (BatchNormaliza (None, 74, 74, 32)   128         block1_conv1[0][0]               \n",
      "__________________________________________________________________________________________________\n",
      "block1_conv1_act (Activation)   (None, 74, 74, 32)   0           block1_conv1_bn[0][0]            \n",
      "__________________________________________________________________________________________________\n",
      "block1_conv2 (Conv2D)           (None, 72, 72, 64)   18432       block1_conv1_act[0][0]           \n",
      "__________________________________________________________________________________________________\n",
      "block1_conv2_bn (BatchNormaliza (None, 72, 72, 64)   256         block1_conv2[0][0]               \n",
      "__________________________________________________________________________________________________\n",
      "block1_conv2_act (Activation)   (None, 72, 72, 64)   0           block1_conv2_bn[0][0]            \n",
      "__________________________________________________________________________________________________\n",
      "block2_sepconv1 (SeparableConv2 (None, 72, 72, 128)  8768        block1_conv2_act[0][0]           \n",
      "__________________________________________________________________________________________________\n",
      "block2_sepconv1_bn (BatchNormal (None, 72, 72, 128)  512         block2_sepconv1[0][0]            \n",
      "__________________________________________________________________________________________________\n",
      "block2_sepconv2_act (Activation (None, 72, 72, 128)  0           block2_sepconv1_bn[0][0]         \n",
      "__________________________________________________________________________________________________\n",
      "block2_sepconv2 (SeparableConv2 (None, 72, 72, 128)  17536       block2_sepconv2_act[0][0]        \n",
      "__________________________________________________________________________________________________\n",
      "block2_sepconv2_bn (BatchNormal (None, 72, 72, 128)  512         block2_sepconv2[0][0]            \n",
      "__________________________________________________________________________________________________\n",
      "conv2d_8 (Conv2D)               (None, 36, 36, 128)  8192        block1_conv2_act[0][0]           \n",
      "__________________________________________________________________________________________________\n",
      "block2_pool (MaxPooling2D)      (None, 36, 36, 128)  0           block2_sepconv2_bn[0][0]         \n",
      "__________________________________________________________________________________________________\n",
      "batch_normalization (BatchNorma (None, 36, 36, 128)  512         conv2d_8[0][0]                   \n",
      "__________________________________________________________________________________________________\n",
      "add (Add)                       (None, 36, 36, 128)  0           block2_pool[0][0]                \n",
      "                                                                 batch_normalization[0][0]        \n",
      "__________________________________________________________________________________________________\n",
      "block3_sepconv1_act (Activation (None, 36, 36, 128)  0           add[0][0]                        \n",
      "__________________________________________________________________________________________________\n",
      "block3_sepconv1 (SeparableConv2 (None, 36, 36, 256)  33920       block3_sepconv1_act[0][0]        \n",
      "__________________________________________________________________________________________________\n",
      "block3_sepconv1_bn (BatchNormal (None, 36, 36, 256)  1024        block3_sepconv1[0][0]            \n",
      "__________________________________________________________________________________________________\n",
      "block3_sepconv2_act (Activation (None, 36, 36, 256)  0           block3_sepconv1_bn[0][0]         \n",
      "__________________________________________________________________________________________________\n",
      "block3_sepconv2 (SeparableConv2 (None, 36, 36, 256)  67840       block3_sepconv2_act[0][0]        \n",
      "__________________________________________________________________________________________________\n",
      "block3_sepconv2_bn (BatchNormal (None, 36, 36, 256)  1024        block3_sepconv2[0][0]            \n",
      "__________________________________________________________________________________________________\n",
      "conv2d_9 (Conv2D)               (None, 18, 18, 256)  32768       add[0][0]                        \n",
      "__________________________________________________________________________________________________\n",
      "block3_pool (MaxPooling2D)      (None, 18, 18, 256)  0           block3_sepconv2_bn[0][0]         \n",
      "__________________________________________________________________________________________________\n",
      "batch_normalization_1 (BatchNor (None, 18, 18, 256)  1024        conv2d_9[0][0]                   \n",
      "__________________________________________________________________________________________________\n",
      "add_1 (Add)                     (None, 18, 18, 256)  0           block3_pool[0][0]                \n",
      "                                                                 batch_normalization_1[0][0]      \n",
      "__________________________________________________________________________________________________\n",
      "block4_sepconv1_act (Activation (None, 18, 18, 256)  0           add_1[0][0]                      \n",
      "__________________________________________________________________________________________________\n",
      "block4_sepconv1 (SeparableConv2 (None, 18, 18, 728)  188672      block4_sepconv1_act[0][0]        \n",
      "__________________________________________________________________________________________________\n",
      "block4_sepconv1_bn (BatchNormal (None, 18, 18, 728)  2912        block4_sepconv1[0][0]            \n",
      "__________________________________________________________________________________________________\n",
      "block4_sepconv2_act (Activation (None, 18, 18, 728)  0           block4_sepconv1_bn[0][0]         \n",
      "__________________________________________________________________________________________________\n",
      "block4_sepconv2 (SeparableConv2 (None, 18, 18, 728)  536536      block4_sepconv2_act[0][0]        \n",
      "__________________________________________________________________________________________________\n",
      "block4_sepconv2_bn (BatchNormal (None, 18, 18, 728)  2912        block4_sepconv2[0][0]            \n",
      "__________________________________________________________________________________________________\n",
      "conv2d_10 (Conv2D)              (None, 9, 9, 728)    186368      add_1[0][0]                      \n",
      "__________________________________________________________________________________________________\n",
      "block4_pool (MaxPooling2D)      (None, 9, 9, 728)    0           block4_sepconv2_bn[0][0]         \n",
      "__________________________________________________________________________________________________\n",
      "batch_normalization_2 (BatchNor (None, 9, 9, 728)    2912        conv2d_10[0][0]                  \n",
      "__________________________________________________________________________________________________\n",
      "add_2 (Add)                     (None, 9, 9, 728)    0           block4_pool[0][0]                \n",
      "                                                                 batch_normalization_2[0][0]      \n",
      "__________________________________________________________________________________________________\n",
      "block5_sepconv1_act (Activation (None, 9, 9, 728)    0           add_2[0][0]                      \n",
      "__________________________________________________________________________________________________\n",
      "block5_sepconv1 (SeparableConv2 (None, 9, 9, 728)    536536      block5_sepconv1_act[0][0]        \n",
      "__________________________________________________________________________________________________\n",
      "block5_sepconv1_bn (BatchNormal (None, 9, 9, 728)    2912        block5_sepconv1[0][0]            \n",
      "__________________________________________________________________________________________________\n",
      "block5_sepconv2_act (Activation (None, 9, 9, 728)    0           block5_sepconv1_bn[0][0]         \n",
      "__________________________________________________________________________________________________\n",
      "block5_sepconv2 (SeparableConv2 (None, 9, 9, 728)    536536      block5_sepconv2_act[0][0]        \n",
      "__________________________________________________________________________________________________\n",
      "block5_sepconv2_bn (BatchNormal (None, 9, 9, 728)    2912        block5_sepconv2[0][0]            \n",
      "__________________________________________________________________________________________________\n",
      "block5_sepconv3_act (Activation (None, 9, 9, 728)    0           block5_sepconv2_bn[0][0]         \n",
      "__________________________________________________________________________________________________\n",
      "block5_sepconv3 (SeparableConv2 (None, 9, 9, 728)    536536      block5_sepconv3_act[0][0]        \n",
      "__________________________________________________________________________________________________\n",
      "block5_sepconv3_bn (BatchNormal (None, 9, 9, 728)    2912        block5_sepconv3[0][0]            \n",
      "__________________________________________________________________________________________________\n",
      "add_3 (Add)                     (None, 9, 9, 728)    0           block5_sepconv3_bn[0][0]         \n",
      "                                                                 add_2[0][0]                      \n",
      "__________________________________________________________________________________________________\n",
      "block6_sepconv1_act (Activation (None, 9, 9, 728)    0           add_3[0][0]                      \n",
      "__________________________________________________________________________________________________\n",
      "block6_sepconv1 (SeparableConv2 (None, 9, 9, 728)    536536      block6_sepconv1_act[0][0]        \n",
      "__________________________________________________________________________________________________\n",
      "block6_sepconv1_bn (BatchNormal (None, 9, 9, 728)    2912        block6_sepconv1[0][0]            \n",
      "__________________________________________________________________________________________________\n",
      "block6_sepconv2_act (Activation (None, 9, 9, 728)    0           block6_sepconv1_bn[0][0]         \n",
      "__________________________________________________________________________________________________\n",
      "block6_sepconv2 (SeparableConv2 (None, 9, 9, 728)    536536      block6_sepconv2_act[0][0]        \n",
      "__________________________________________________________________________________________________\n",
      "block6_sepconv2_bn (BatchNormal (None, 9, 9, 728)    2912        block6_sepconv2[0][0]            \n",
      "__________________________________________________________________________________________________\n",
      "block6_sepconv3_act (Activation (None, 9, 9, 728)    0           block6_sepconv2_bn[0][0]         \n",
      "__________________________________________________________________________________________________\n",
      "block6_sepconv3 (SeparableConv2 (None, 9, 9, 728)    536536      block6_sepconv3_act[0][0]        \n",
      "__________________________________________________________________________________________________\n",
      "block6_sepconv3_bn (BatchNormal (None, 9, 9, 728)    2912        block6_sepconv3[0][0]            \n",
      "__________________________________________________________________________________________________\n",
      "add_4 (Add)                     (None, 9, 9, 728)    0           block6_sepconv3_bn[0][0]         \n",
      "                                                                 add_3[0][0]                      \n",
      "__________________________________________________________________________________________________\n",
      "block7_sepconv1_act (Activation (None, 9, 9, 728)    0           add_4[0][0]                      \n",
      "__________________________________________________________________________________________________\n",
      "block7_sepconv1 (SeparableConv2 (None, 9, 9, 728)    536536      block7_sepconv1_act[0][0]        \n",
      "__________________________________________________________________________________________________\n",
      "block7_sepconv1_bn (BatchNormal (None, 9, 9, 728)    2912        block7_sepconv1[0][0]            \n",
      "__________________________________________________________________________________________________\n",
      "block7_sepconv2_act (Activation (None, 9, 9, 728)    0           block7_sepconv1_bn[0][0]         \n",
      "__________________________________________________________________________________________________\n",
      "block7_sepconv2 (SeparableConv2 (None, 9, 9, 728)    536536      block7_sepconv2_act[0][0]        \n",
      "__________________________________________________________________________________________________\n",
      "block7_sepconv2_bn (BatchNormal (None, 9, 9, 728)    2912        block7_sepconv2[0][0]            \n",
      "__________________________________________________________________________________________________\n",
      "block7_sepconv3_act (Activation (None, 9, 9, 728)    0           block7_sepconv2_bn[0][0]         \n",
      "__________________________________________________________________________________________________\n",
      "block7_sepconv3 (SeparableConv2 (None, 9, 9, 728)    536536      block7_sepconv3_act[0][0]        \n",
      "__________________________________________________________________________________________________\n",
      "block7_sepconv3_bn (BatchNormal (None, 9, 9, 728)    2912        block7_sepconv3[0][0]            \n",
      "__________________________________________________________________________________________________\n",
      "add_5 (Add)                     (None, 9, 9, 728)    0           block7_sepconv3_bn[0][0]         \n",
      "                                                                 add_4[0][0]                      \n",
      "__________________________________________________________________________________________________\n",
      "block8_sepconv1_act (Activation (None, 9, 9, 728)    0           add_5[0][0]                      \n",
      "__________________________________________________________________________________________________\n",
      "block8_sepconv1 (SeparableConv2 (None, 9, 9, 728)    536536      block8_sepconv1_act[0][0]        \n",
      "__________________________________________________________________________________________________\n",
      "block8_sepconv1_bn (BatchNormal (None, 9, 9, 728)    2912        block8_sepconv1[0][0]            \n",
      "__________________________________________________________________________________________________\n",
      "block8_sepconv2_act (Activation (None, 9, 9, 728)    0           block8_sepconv1_bn[0][0]         \n",
      "__________________________________________________________________________________________________\n",
      "block8_sepconv2 (SeparableConv2 (None, 9, 9, 728)    536536      block8_sepconv2_act[0][0]        \n",
      "__________________________________________________________________________________________________\n",
      "block8_sepconv2_bn (BatchNormal (None, 9, 9, 728)    2912        block8_sepconv2[0][0]            \n",
      "__________________________________________________________________________________________________\n",
      "block8_sepconv3_act (Activation (None, 9, 9, 728)    0           block8_sepconv2_bn[0][0]         \n",
      "__________________________________________________________________________________________________\n",
      "block8_sepconv3 (SeparableConv2 (None, 9, 9, 728)    536536      block8_sepconv3_act[0][0]        \n",
      "__________________________________________________________________________________________________\n",
      "block8_sepconv3_bn (BatchNormal (None, 9, 9, 728)    2912        block8_sepconv3[0][0]            \n",
      "__________________________________________________________________________________________________\n",
      "add_6 (Add)                     (None, 9, 9, 728)    0           block8_sepconv3_bn[0][0]         \n",
      "                                                                 add_5[0][0]                      \n",
      "__________________________________________________________________________________________________\n",
      "block9_sepconv1_act (Activation (None, 9, 9, 728)    0           add_6[0][0]                      \n",
      "__________________________________________________________________________________________________\n",
      "block9_sepconv1 (SeparableConv2 (None, 9, 9, 728)    536536      block9_sepconv1_act[0][0]        \n",
      "__________________________________________________________________________________________________\n",
      "block9_sepconv1_bn (BatchNormal (None, 9, 9, 728)    2912        block9_sepconv1[0][0]            \n",
      "__________________________________________________________________________________________________\n",
      "block9_sepconv2_act (Activation (None, 9, 9, 728)    0           block9_sepconv1_bn[0][0]         \n",
      "__________________________________________________________________________________________________\n",
      "block9_sepconv2 (SeparableConv2 (None, 9, 9, 728)    536536      block9_sepconv2_act[0][0]        \n",
      "__________________________________________________________________________________________________\n",
      "block9_sepconv2_bn (BatchNormal (None, 9, 9, 728)    2912        block9_sepconv2[0][0]            \n",
      "__________________________________________________________________________________________________\n",
      "block9_sepconv3_act (Activation (None, 9, 9, 728)    0           block9_sepconv2_bn[0][0]         \n",
      "__________________________________________________________________________________________________\n",
      "block9_sepconv3 (SeparableConv2 (None, 9, 9, 728)    536536      block9_sepconv3_act[0][0]        \n",
      "__________________________________________________________________________________________________\n",
      "block9_sepconv3_bn (BatchNormal (None, 9, 9, 728)    2912        block9_sepconv3[0][0]            \n",
      "__________________________________________________________________________________________________\n",
      "add_7 (Add)                     (None, 9, 9, 728)    0           block9_sepconv3_bn[0][0]         \n",
      "                                                                 add_6[0][0]                      \n",
      "__________________________________________________________________________________________________\n",
      "block10_sepconv1_act (Activatio (None, 9, 9, 728)    0           add_7[0][0]                      \n",
      "__________________________________________________________________________________________________\n",
      "block10_sepconv1 (SeparableConv (None, 9, 9, 728)    536536      block10_sepconv1_act[0][0]       \n",
      "__________________________________________________________________________________________________\n",
      "block10_sepconv1_bn (BatchNorma (None, 9, 9, 728)    2912        block10_sepconv1[0][0]           \n",
      "__________________________________________________________________________________________________\n",
      "block10_sepconv2_act (Activatio (None, 9, 9, 728)    0           block10_sepconv1_bn[0][0]        \n",
      "__________________________________________________________________________________________________\n",
      "block10_sepconv2 (SeparableConv (None, 9, 9, 728)    536536      block10_sepconv2_act[0][0]       \n",
      "__________________________________________________________________________________________________\n",
      "block10_sepconv2_bn (BatchNorma (None, 9, 9, 728)    2912        block10_sepconv2[0][0]           \n",
      "__________________________________________________________________________________________________\n",
      "block10_sepconv3_act (Activatio (None, 9, 9, 728)    0           block10_sepconv2_bn[0][0]        \n",
      "__________________________________________________________________________________________________\n",
      "block10_sepconv3 (SeparableConv (None, 9, 9, 728)    536536      block10_sepconv3_act[0][0]       \n",
      "__________________________________________________________________________________________________\n",
      "block10_sepconv3_bn (BatchNorma (None, 9, 9, 728)    2912        block10_sepconv3[0][0]           \n",
      "__________________________________________________________________________________________________\n",
      "add_8 (Add)                     (None, 9, 9, 728)    0           block10_sepconv3_bn[0][0]        \n",
      "                                                                 add_7[0][0]                      \n",
      "__________________________________________________________________________________________________\n",
      "block11_sepconv1_act (Activatio (None, 9, 9, 728)    0           add_8[0][0]                      \n",
      "__________________________________________________________________________________________________\n",
      "block11_sepconv1 (SeparableConv (None, 9, 9, 728)    536536      block11_sepconv1_act[0][0]       \n",
      "__________________________________________________________________________________________________\n",
      "block11_sepconv1_bn (BatchNorma (None, 9, 9, 728)    2912        block11_sepconv1[0][0]           \n",
      "__________________________________________________________________________________________________\n",
      "block11_sepconv2_act (Activatio (None, 9, 9, 728)    0           block11_sepconv1_bn[0][0]        \n",
      "__________________________________________________________________________________________________\n",
      "block11_sepconv2 (SeparableConv (None, 9, 9, 728)    536536      block11_sepconv2_act[0][0]       \n",
      "__________________________________________________________________________________________________\n",
      "block11_sepconv2_bn (BatchNorma (None, 9, 9, 728)    2912        block11_sepconv2[0][0]           \n",
      "__________________________________________________________________________________________________\n",
      "block11_sepconv3_act (Activatio (None, 9, 9, 728)    0           block11_sepconv2_bn[0][0]        \n",
      "__________________________________________________________________________________________________\n",
      "block11_sepconv3 (SeparableConv (None, 9, 9, 728)    536536      block11_sepconv3_act[0][0]       \n",
      "__________________________________________________________________________________________________\n",
      "block11_sepconv3_bn (BatchNorma (None, 9, 9, 728)    2912        block11_sepconv3[0][0]           \n",
      "__________________________________________________________________________________________________\n",
      "add_9 (Add)                     (None, 9, 9, 728)    0           block11_sepconv3_bn[0][0]        \n",
      "                                                                 add_8[0][0]                      \n",
      "__________________________________________________________________________________________________\n",
      "block12_sepconv1_act (Activatio (None, 9, 9, 728)    0           add_9[0][0]                      \n",
      "__________________________________________________________________________________________________\n",
      "block12_sepconv1 (SeparableConv (None, 9, 9, 728)    536536      block12_sepconv1_act[0][0]       \n",
      "__________________________________________________________________________________________________\n",
      "block12_sepconv1_bn (BatchNorma (None, 9, 9, 728)    2912        block12_sepconv1[0][0]           \n",
      "__________________________________________________________________________________________________\n",
      "block12_sepconv2_act (Activatio (None, 9, 9, 728)    0           block12_sepconv1_bn[0][0]        \n",
      "__________________________________________________________________________________________________\n",
      "block12_sepconv2 (SeparableConv (None, 9, 9, 728)    536536      block12_sepconv2_act[0][0]       \n",
      "__________________________________________________________________________________________________\n",
      "block12_sepconv2_bn (BatchNorma (None, 9, 9, 728)    2912        block12_sepconv2[0][0]           \n",
      "__________________________________________________________________________________________________\n",
      "block12_sepconv3_act (Activatio (None, 9, 9, 728)    0           block12_sepconv2_bn[0][0]        \n",
      "__________________________________________________________________________________________________\n",
      "block12_sepconv3 (SeparableConv (None, 9, 9, 728)    536536      block12_sepconv3_act[0][0]       \n",
      "__________________________________________________________________________________________________\n",
      "block12_sepconv3_bn (BatchNorma (None, 9, 9, 728)    2912        block12_sepconv3[0][0]           \n",
      "__________________________________________________________________________________________________\n",
      "add_10 (Add)                    (None, 9, 9, 728)    0           block12_sepconv3_bn[0][0]        \n",
      "                                                                 add_9[0][0]                      \n",
      "__________________________________________________________________________________________________\n",
      "block13_sepconv1_act (Activatio (None, 9, 9, 728)    0           add_10[0][0]                     \n",
      "__________________________________________________________________________________________________\n",
      "block13_sepconv1 (SeparableConv (None, 9, 9, 728)    536536      block13_sepconv1_act[0][0]       \n",
      "__________________________________________________________________________________________________\n",
      "block13_sepconv1_bn (BatchNorma (None, 9, 9, 728)    2912        block13_sepconv1[0][0]           \n",
      "__________________________________________________________________________________________________\n",
      "block13_sepconv2_act (Activatio (None, 9, 9, 728)    0           block13_sepconv1_bn[0][0]        \n",
      "__________________________________________________________________________________________________\n",
      "block13_sepconv2 (SeparableConv (None, 9, 9, 1024)   752024      block13_sepconv2_act[0][0]       \n",
      "__________________________________________________________________________________________________\n",
      "block13_sepconv2_bn (BatchNorma (None, 9, 9, 1024)   4096        block13_sepconv2[0][0]           \n",
      "__________________________________________________________________________________________________\n",
      "conv2d_11 (Conv2D)              (None, 5, 5, 1024)   745472      add_10[0][0]                     \n",
      "__________________________________________________________________________________________________\n",
      "block13_pool (MaxPooling2D)     (None, 5, 5, 1024)   0           block13_sepconv2_bn[0][0]        \n",
      "__________________________________________________________________________________________________\n",
      "batch_normalization_3 (BatchNor (None, 5, 5, 1024)   4096        conv2d_11[0][0]                  \n",
      "__________________________________________________________________________________________________\n",
      "add_11 (Add)                    (None, 5, 5, 1024)   0           block13_pool[0][0]               \n",
      "                                                                 batch_normalization_3[0][0]      \n",
      "__________________________________________________________________________________________________\n",
      "block14_sepconv1 (SeparableConv (None, 5, 5, 1536)   1582080     add_11[0][0]                     \n",
      "__________________________________________________________________________________________________\n",
      "block14_sepconv1_bn (BatchNorma (None, 5, 5, 1536)   6144        block14_sepconv1[0][0]           \n",
      "__________________________________________________________________________________________________\n",
      "block14_sepconv1_act (Activatio (None, 5, 5, 1536)   0           block14_sepconv1_bn[0][0]        \n",
      "__________________________________________________________________________________________________\n",
      "block14_sepconv2 (SeparableConv (None, 5, 5, 2048)   3159552     block14_sepconv1_act[0][0]       \n",
      "__________________________________________________________________________________________________\n",
      "block14_sepconv2_bn (BatchNorma (None, 5, 5, 2048)   8192        block14_sepconv2[0][0]           \n",
      "__________________________________________________________________________________________________\n",
      "block14_sepconv2_act (Activatio (None, 5, 5, 2048)   0           block14_sepconv2_bn[0][0]        \n",
      "==================================================================================================\n",
      "Total params: 20,861,480\n",
      "Trainable params: 20,806,952\n",
      "Non-trainable params: 54,528\n",
      "__________________________________________________________________________________________________\n"
     ]
    }
   ],
   "source": [
    "transfer_model.summary()"
   ]
  },
  {
   "cell_type": "code",
   "execution_count": 50,
   "metadata": {
    "ExecuteTime": {
     "end_time": "2023-01-18T20:14:13.912133Z",
     "start_time": "2023-01-18T20:14:13.884622Z"
    }
   },
   "outputs": [],
   "source": [
    "transfer_model.trainable = False"
   ]
  },
  {
   "cell_type": "code",
   "execution_count": 51,
   "metadata": {
    "ExecuteTime": {
     "end_time": "2023-01-18T20:14:14.578628Z",
     "start_time": "2023-01-18T20:14:13.925623Z"
    }
   },
   "outputs": [],
   "source": [
    "inputs = keras.Input(shape=(150, 150, 3))\n",
    "#  transfer_model is running in inference mode by passing `training=False`. \n",
    "x = transfer_model(inputs, training=False)\n",
    "# Convert features of shape `transfer_model.output_shape[1:]` to vectors\n",
    "x = keras.layers.GlobalAveragePooling2D()(x)\n",
    "# A Dense classifier with a single unit (binary classification)\n",
    "outputs = keras.layers.Dense(1)(x)\n",
    "model = keras.Model(inputs, outputs)"
   ]
  },
  {
   "cell_type": "code",
   "execution_count": 52,
   "metadata": {
    "ExecuteTime": {
     "end_time": "2023-01-18T20:14:14.609619Z",
     "start_time": "2023-01-18T20:14:14.582123Z"
    }
   },
   "outputs": [],
   "source": [
    "# Compile the model\n",
    "model.compile(\n",
    "    optimizer = 'adam',\n",
    "    loss = 'binary_crossentropy',\n",
    "    metrics = ['accuracy'])"
   ]
  },
  {
   "cell_type": "code",
   "execution_count": 54,
   "metadata": {
    "ExecuteTime": {
     "end_time": "2023-01-18T21:03:11.735568Z",
     "start_time": "2023-01-18T20:14:36.717360Z"
    }
   },
   "outputs": [
    {
     "name": "stdout",
     "output_type": "stream",
     "text": [
      "Epoch 1/25\n",
      "163/163 [==============================] - 116s 711ms/step - loss: 1.6527 - accuracy: 0.6476 - val_loss: 0.4670 - val_accuracy: 0.7500\n",
      "Epoch 2/25\n",
      "163/163 [==============================] - 115s 705ms/step - loss: 0.9523 - accuracy: 0.7303 - val_loss: 1.2753 - val_accuracy: 0.7500\n",
      "Epoch 3/25\n",
      "163/163 [==============================] - 113s 694ms/step - loss: 0.8101 - accuracy: 0.8046 - val_loss: 1.3431 - val_accuracy: 0.8125\n",
      "Epoch 4/25\n",
      "163/163 [==============================] - 113s 693ms/step - loss: 9.2203 - accuracy: 0.3612 - val_loss: 7.7125 - val_accuracy: 0.5000\n",
      "Epoch 5/25\n",
      "163/163 [==============================] - 115s 708ms/step - loss: 8.9830 - accuracy: 0.3357 - val_loss: 4.0275 - val_accuracy: 0.6250\n",
      "Epoch 6/25\n",
      "163/163 [==============================] - 113s 692ms/step - loss: 3.8619 - accuracy: 0.6863 - val_loss: 3.3209 - val_accuracy: 0.5000\n",
      "Epoch 7/25\n",
      "163/163 [==============================] - 115s 707ms/step - loss: 3.1452 - accuracy: 0.8033 - val_loss: 0.2636 - val_accuracy: 0.8125\n",
      "Epoch 8/25\n",
      "163/163 [==============================] - 114s 698ms/step - loss: 1.8512 - accuracy: 0.8280 - val_loss: 0.2481 - val_accuracy: 0.8125\n",
      "Epoch 9/25\n",
      "163/163 [==============================] - 114s 698ms/step - loss: 1.4894 - accuracy: 0.8328 - val_loss: 0.2580 - val_accuracy: 0.8125\n",
      "Epoch 10/25\n",
      "163/163 [==============================] - 113s 696ms/step - loss: 1.5480 - accuracy: 0.8447 - val_loss: 1.0719 - val_accuracy: 0.8750\n",
      "Epoch 11/25\n",
      "163/163 [==============================] - 113s 695ms/step - loss: 1.2202 - accuracy: 0.8585 - val_loss: 0.2259 - val_accuracy: 0.8750\n",
      "Epoch 12/25\n",
      "163/163 [==============================] - 112s 687ms/step - loss: 2.4829 - accuracy: 0.7431 - val_loss: 7.7125 - val_accuracy: 0.5000\n",
      "Epoch 13/25\n",
      "163/163 [==============================] - 112s 684ms/step - loss: 11.4593 - accuracy: 0.2571 - val_loss: 7.7125 - val_accuracy: 0.5000\n",
      "Epoch 14/25\n",
      "163/163 [==============================] - 111s 681ms/step - loss: 11.4593 - accuracy: 0.2571 - val_loss: 7.7125 - val_accuracy: 0.5000\n",
      "Epoch 15/25\n",
      "163/163 [==============================] - 147s 904ms/step - loss: 11.4593 - accuracy: 0.2571 - val_loss: 7.7125 - val_accuracy: 0.5000\n",
      "Epoch 16/25\n",
      "163/163 [==============================] - 144s 882ms/step - loss: 11.4570 - accuracy: 0.2571 - val_loss: 7.7125 - val_accuracy: 0.5000\n",
      "Epoch 17/25\n",
      "163/163 [==============================] - 110s 674ms/step - loss: 11.4575 - accuracy: 0.2571 - val_loss: 7.7125 - val_accuracy: 0.5000\n",
      "Epoch 18/25\n",
      "163/163 [==============================] - 110s 674ms/step - loss: 11.4569 - accuracy: 0.2571 - val_loss: 7.7125 - val_accuracy: 0.5000\n",
      "Epoch 19/25\n",
      "163/163 [==============================] - 112s 685ms/step - loss: 11.4546 - accuracy: 0.2571 - val_loss: 7.7125 - val_accuracy: 0.5000\n",
      "Epoch 20/25\n",
      "163/163 [==============================] - 113s 696ms/step - loss: 11.4593 - accuracy: 0.2571 - val_loss: 7.7125 - val_accuracy: 0.5000\n",
      "Epoch 21/25\n",
      "163/163 [==============================] - 113s 694ms/step - loss: 11.4544 - accuracy: 0.2571 - val_loss: 7.7125 - val_accuracy: 0.5000\n",
      "Epoch 22/25\n",
      "163/163 [==============================] - 112s 689ms/step - loss: 11.4593 - accuracy: 0.2571 - val_loss: 7.7125 - val_accuracy: 0.5000\n",
      "Epoch 23/25\n",
      "163/163 [==============================] - 112s 688ms/step - loss: 11.4593 - accuracy: 0.2571 - val_loss: 7.7125 - val_accuracy: 0.5000\n",
      "Epoch 24/25\n",
      "163/163 [==============================] - 113s 691ms/step - loss: 11.4549 - accuracy: 0.2571 - val_loss: 7.7125 - val_accuracy: 0.5000\n",
      "Epoch 25/25\n",
      "163/163 [==============================] - 115s 704ms/step - loss: 11.4545 - accuracy: 0.2571 - val_loss: 7.7125 - val_accuracy: 0.5000\n"
     ]
    }
   ],
   "source": [
    "history2 = model.fit(\n",
    "    training_set, \n",
    "    steps_per_epoch = 163,\n",
    "    epochs = 25,\n",
    "    validation_data = validation_set,\n",
    "    class_weight={0:2.8 , 1:1}) # <--------------------------"
   ]
  },
  {
   "cell_type": "code",
   "execution_count": 55,
   "metadata": {
    "ExecuteTime": {
     "end_time": "2023-01-18T21:03:37.944929Z",
     "start_time": "2023-01-18T21:03:37.925427Z"
    }
   },
   "outputs": [],
   "source": [
    "# history3 = model.fit(\n",
    "#     training_set, \n",
    "#     steps_per_epoch = 163,\n",
    "#     epochs = 5,\n",
    "#     validation_data = validation_set,\n",
    "#     class_weight={0:2.8 , 1:1}) # <--------------------------"
   ]
  },
  {
   "cell_type": "code",
   "execution_count": 56,
   "metadata": {
    "ExecuteTime": {
     "end_time": "2023-01-18T21:03:37.960436Z",
     "start_time": "2023-01-18T21:03:37.947931Z"
    }
   },
   "outputs": [
    {
     "data": {
      "text/plain": [
       "{'validation_data': None,\n",
       " 'model': <tensorflow.python.keras.engine.functional.Functional at 0x1a05ec95130>,\n",
       " '_chief_worker_only': None,\n",
       " '_supports_tf_logs': False,\n",
       " 'history': {'loss': [1.6527283191680908,\n",
       "   0.9522579908370972,\n",
       "   0.8101078271865845,\n",
       "   9.220335006713867,\n",
       "   8.9830322265625,\n",
       "   3.8619484901428223,\n",
       "   3.1452431678771973,\n",
       "   1.8511667251586914,\n",
       "   1.4894170761108398,\n",
       "   1.5480194091796875,\n",
       "   1.2202093601226807,\n",
       "   2.4828555583953857,\n",
       "   11.459290504455566,\n",
       "   11.459295272827148,\n",
       "   11.459291458129883,\n",
       "   11.456966400146484,\n",
       "   11.457531929016113,\n",
       "   11.456927299499512,\n",
       "   11.45457649230957,\n",
       "   11.459293365478516,\n",
       "   11.454421043395996,\n",
       "   11.459294319152832,\n",
       "   11.459290504455566,\n",
       "   11.454924583435059,\n",
       "   11.45449161529541],\n",
       "  'accuracy': [0.6476227045059204,\n",
       "   0.7302530407905579,\n",
       "   0.8046395778656006,\n",
       "   0.3611963093280792,\n",
       "   0.33569785952568054,\n",
       "   0.6863496899604797,\n",
       "   0.8032975196838379,\n",
       "   0.8280291557312012,\n",
       "   0.8328220844268799,\n",
       "   0.8447085618972778,\n",
       "   0.858512282371521,\n",
       "   0.7430981397628784,\n",
       "   0.25709354877471924,\n",
       "   0.25709354877471924,\n",
       "   0.25709354877471924,\n",
       "   0.25709354877471924,\n",
       "   0.25709354877471924,\n",
       "   0.25709354877471924,\n",
       "   0.25709354877471924,\n",
       "   0.25709354877471924,\n",
       "   0.25709354877471924,\n",
       "   0.25709354877471924,\n",
       "   0.25709354877471924,\n",
       "   0.25709354877471924,\n",
       "   0.25709354877471924],\n",
       "  'val_loss': [0.4670150876045227,\n",
       "   1.2753067016601562,\n",
       "   1.3430759906768799,\n",
       "   7.7124738693237305,\n",
       "   4.027467250823975,\n",
       "   3.3208625316619873,\n",
       "   0.26362159848213196,\n",
       "   0.2481117993593216,\n",
       "   0.25804460048675537,\n",
       "   1.0719324350357056,\n",
       "   0.2259095460176468,\n",
       "   7.712474346160889,\n",
       "   7.7124738693237305,\n",
       "   7.7124738693237305,\n",
       "   7.7124738693237305,\n",
       "   7.7124738693237305,\n",
       "   7.7124738693237305,\n",
       "   7.712474346160889,\n",
       "   7.712474346160889,\n",
       "   7.7124738693237305,\n",
       "   7.712474346160889,\n",
       "   7.712474346160889,\n",
       "   7.7124738693237305,\n",
       "   7.712474346160889,\n",
       "   7.712474346160889],\n",
       "  'val_accuracy': [0.75,\n",
       "   0.75,\n",
       "   0.8125,\n",
       "   0.5,\n",
       "   0.625,\n",
       "   0.5,\n",
       "   0.8125,\n",
       "   0.8125,\n",
       "   0.8125,\n",
       "   0.875,\n",
       "   0.875,\n",
       "   0.5,\n",
       "   0.5,\n",
       "   0.5,\n",
       "   0.5,\n",
       "   0.5,\n",
       "   0.5,\n",
       "   0.5,\n",
       "   0.5,\n",
       "   0.5,\n",
       "   0.5,\n",
       "   0.5,\n",
       "   0.5,\n",
       "   0.5,\n",
       "   0.5]},\n",
       " 'params': {'verbose': 1, 'epochs': 25, 'steps': 163},\n",
       " 'epoch': [0,\n",
       "  1,\n",
       "  2,\n",
       "  3,\n",
       "  4,\n",
       "  5,\n",
       "  6,\n",
       "  7,\n",
       "  8,\n",
       "  9,\n",
       "  10,\n",
       "  11,\n",
       "  12,\n",
       "  13,\n",
       "  14,\n",
       "  15,\n",
       "  16,\n",
       "  17,\n",
       "  18,\n",
       "  19,\n",
       "  20,\n",
       "  21,\n",
       "  22,\n",
       "  23,\n",
       "  24]}"
      ]
     },
     "execution_count": 56,
     "metadata": {},
     "output_type": "execute_result"
    }
   ],
   "source": [
    "history2.__dict__"
   ]
  },
  {
   "cell_type": "code",
   "execution_count": 57,
   "metadata": {
    "ExecuteTime": {
     "end_time": "2023-01-18T21:03:37.975929Z",
     "start_time": "2023-01-18T21:03:37.964930Z"
    }
   },
   "outputs": [],
   "source": [
    "# history3.__dict__"
   ]
  },
  {
   "cell_type": "code",
   "execution_count": 58,
   "metadata": {
    "ExecuteTime": {
     "end_time": "2023-01-18T21:03:38.347937Z",
     "start_time": "2023-01-18T21:03:37.979433Z"
    }
   },
   "outputs": [
    {
     "data": {
      "image/png": "[encoded data removed]",
      "text/plain": [
       "<Figure size 432x288 with 1 Axes>"
      ]
     },
     "metadata": {
      "needs_background": "light"
     },
     "output_type": "display_data"
    }
   ],
   "source": [
    "# Accuracy \n",
    "plt.plot(history2.history['accuracy'])\n",
    "plt.plot(history2.history['val_accuracy'])\n",
    "plt.title('Model Accuracy')\n",
    "plt.ylabel('Accuracy')\n",
    "plt.xlabel('Epoch')\n",
    "plt.legend(['Training set', 'Validation set'], loc='upper left')\n",
    "plt.show()"
   ]
  },
  {
   "cell_type": "code",
   "execution_count": 59,
   "metadata": {
    "ExecuteTime": {
     "end_time": "2023-01-18T21:03:38.363429Z",
     "start_time": "2023-01-18T21:03:38.350926Z"
    }
   },
   "outputs": [],
   "source": [
    "############################################################################"
   ]
  },
  {
   "cell_type": "code",
   "execution_count": 60,
   "metadata": {
    "ExecuteTime": {
     "end_time": "2023-01-18T21:03:38.952429Z",
     "start_time": "2023-01-18T21:03:38.366426Z"
    }
   },
   "outputs": [],
   "source": [
    "transfer_model = keras.applications.VGG16(\n",
    "    weights='imagenet',  # Load weights pre-trained on ImageNet.\n",
    "    input_shape=(150, 150, 3),\n",
    "    include_top=False)  # Do not include the ImageNet classifier at the top."
   ]
  },
  {
   "cell_type": "code",
   "execution_count": 61,
   "metadata": {
    "ExecuteTime": {
     "end_time": "2023-01-18T21:03:38.983426Z",
     "start_time": "2023-01-18T21:03:38.955929Z"
    }
   },
   "outputs": [
    {
     "name": "stdout",
     "output_type": "stream",
     "text": [
      "Model: \"vgg16\"\n",
      "_________________________________________________________________\n",
      "Layer (type)                 Output Shape              Param #   \n",
      "=================================================================\n",
      "input_3 (InputLayer)         [(None, 150, 150, 3)]     0         \n",
      "_________________________________________________________________\n",
      "block1_conv1 (Conv2D)        (None, 150, 150, 64)      1792      \n",
      "_________________________________________________________________\n",
      "block1_conv2 (Conv2D)        (None, 150, 150, 64)      36928     \n",
      "_________________________________________________________________\n",
      "block1_pool (MaxPooling2D)   (None, 75, 75, 64)        0         \n",
      "_________________________________________________________________\n",
      "block2_conv1 (Conv2D)        (None, 75, 75, 128)       73856     \n",
      "_________________________________________________________________\n",
      "block2_conv2 (Conv2D)        (None, 75, 75, 128)       147584    \n",
      "_________________________________________________________________\n",
      "block2_pool (MaxPooling2D)   (None, 37, 37, 128)       0         \n",
      "_________________________________________________________________\n",
      "block3_conv1 (Conv2D)        (None, 37, 37, 256)       295168    \n",
      "_________________________________________________________________\n",
      "block3_conv2 (Conv2D)        (None, 37, 37, 256)       590080    \n",
      "_________________________________________________________________\n",
      "block3_conv3 (Conv2D)        (None, 37, 37, 256)       590080    \n",
      "_________________________________________________________________\n",
      "block3_pool (MaxPooling2D)   (None, 18, 18, 256)       0         \n",
      "_________________________________________________________________\n",
      "block4_conv1 (Conv2D)        (None, 18, 18, 512)       1180160   \n",
      "_________________________________________________________________\n",
      "block4_conv2 (Conv2D)        (None, 18, 18, 512)       2359808   \n",
      "_________________________________________________________________\n",
      "block4_conv3 (Conv2D)        (None, 18, 18, 512)       2359808   \n",
      "_________________________________________________________________\n",
      "block4_pool (MaxPooling2D)   (None, 9, 9, 512)         0         \n",
      "_________________________________________________________________\n",
      "block5_conv1 (Conv2D)        (None, 9, 9, 512)         2359808   \n",
      "_________________________________________________________________\n",
      "block5_conv2 (Conv2D)        (None, 9, 9, 512)         2359808   \n",
      "_________________________________________________________________\n",
      "block5_conv3 (Conv2D)        (None, 9, 9, 512)         2359808   \n",
      "_________________________________________________________________\n",
      "block5_pool (MaxPooling2D)   (None, 4, 4, 512)         0         \n",
      "=================================================================\n",
      "Total params: 14,714,688\n",
      "Trainable params: 14,714,688\n",
      "Non-trainable params: 0\n",
      "_________________________________________________________________\n"
     ]
    }
   ],
   "source": [
    "transfer_model.summary()"
   ]
  },
  {
   "cell_type": "code",
   "execution_count": 62,
   "metadata": {
    "ExecuteTime": {
     "end_time": "2023-01-18T21:03:38.998932Z",
     "start_time": "2023-01-18T21:03:38.989431Z"
    }
   },
   "outputs": [],
   "source": [
    "transfer_model.trainable = False"
   ]
  },
  {
   "cell_type": "code",
   "execution_count": 63,
   "metadata": {
    "ExecuteTime": {
     "end_time": "2023-01-18T21:03:39.122929Z",
     "start_time": "2023-01-18T21:03:39.003432Z"
    }
   },
   "outputs": [],
   "source": [
    "inputs = keras.Input(shape=(150, 150, 3))\n",
    "#  transfer_model is running in inference mode by passing `training=False`. \n",
    "x = transfer_model(inputs, training=False)\n",
    "# Convert features of shape `transfer_model.output_shape[1:]` to vectors\n",
    "x = keras.layers.GlobalAveragePooling2D()(x)\n",
    "# A Dense classifier with a single unit (binary classification)\n",
    "outputs = keras.layers.Dense(1)(x)\n",
    "model = keras.Model(inputs, outputs)"
   ]
  },
  {
   "cell_type": "code",
   "execution_count": 64,
   "metadata": {
    "ExecuteTime": {
     "end_time": "2023-01-18T21:03:39.153929Z",
     "start_time": "2023-01-18T21:03:39.126429Z"
    }
   },
   "outputs": [],
   "source": [
    "# Compile the model\n",
    "model.compile(\n",
    "    optimizer = 'adam',\n",
    "    loss = 'binary_crossentropy',\n",
    "    metrics = ['accuracy'])"
   ]
  },
  {
   "cell_type": "code",
   "execution_count": 65,
   "metadata": {
    "ExecuteTime": {
     "end_time": "2023-01-18T21:14:44.072300Z",
     "start_time": "2023-01-18T21:03:39.157429Z"
    }
   },
   "outputs": [
    {
     "name": "stdout",
     "output_type": "stream",
     "text": [
      "Epoch 1/5\n",
      "163/163 [==============================] - 140s 857ms/step - loss: 1.2364 - accuracy: 0.6252 - val_loss: 0.5504 - val_accuracy: 0.6875\n",
      "Epoch 2/5\n",
      "163/163 [==============================] - 134s 821ms/step - loss: 0.8655 - accuracy: 0.7076 - val_loss: 0.4267 - val_accuracy: 0.8125\n",
      "Epoch 3/5\n",
      "163/163 [==============================] - 127s 780ms/step - loss: 0.7639 - accuracy: 0.7759 - val_loss: 0.3854 - val_accuracy: 0.8750\n",
      "Epoch 4/5\n",
      "163/163 [==============================] - 128s 786ms/step - loss: 0.7134 - accuracy: 0.8023 - val_loss: 0.3477 - val_accuracy: 0.8750\n",
      "Epoch 5/5\n",
      "163/163 [==============================] - 128s 786ms/step - loss: 0.7084 - accuracy: 0.8192 - val_loss: 0.3352 - val_accuracy: 0.9375\n"
     ]
    }
   ],
   "source": [
    "history3 = model.fit(\n",
    "    training_set, \n",
    "    steps_per_epoch = 163,\n",
    "    epochs = 5,\n",
    "    validation_data = validation_set,\n",
    "    class_weight={0:2.8 , 1:1}) # <--------------------------"
   ]
  },
  {
   "cell_type": "code",
   "execution_count": 66,
   "metadata": {
    "ExecuteTime": {
     "end_time": "2023-01-18T21:25:38.342357Z",
     "start_time": "2023-01-18T21:14:44.075302Z"
    }
   },
   "outputs": [
    {
     "name": "stdout",
     "output_type": "stream",
     "text": [
      "Epoch 1/5\n",
      "163/163 [==============================] - 132s 811ms/step - loss: 0.6674 - accuracy: 0.8221 - val_loss: 0.3122 - val_accuracy: 0.9375\n",
      "Epoch 2/5\n",
      "163/163 [==============================] - 128s 785ms/step - loss: 0.6056 - accuracy: 0.8359 - val_loss: 0.2925 - val_accuracy: 1.0000\n",
      "Epoch 3/5\n",
      "163/163 [==============================] - 128s 788ms/step - loss: 0.5926 - accuracy: 0.8541 - val_loss: 0.2870 - val_accuracy: 1.0000\n",
      "Epoch 4/5\n",
      "163/163 [==============================] - 129s 794ms/step - loss: 0.5824 - accuracy: 0.8489 - val_loss: 0.2765 - val_accuracy: 1.0000\n",
      "Epoch 5/5\n",
      "163/163 [==============================] - 130s 795ms/step - loss: 0.5721 - accuracy: 0.8512 - val_loss: 0.2598 - val_accuracy: 1.0000\n"
     ]
    }
   ],
   "source": [
    "history3 = model.fit(\n",
    "    training_set, \n",
    "    steps_per_epoch = 163,\n",
    "    epochs = 5,\n",
    "    validation_data = validation_set,\n",
    "    class_weight={0:2.8 , 1:1}) # <--------------------------"
   ]
  },
  {
   "cell_type": "code",
   "execution_count": 67,
   "metadata": {
    "ExecuteTime": {
     "end_time": "2023-01-18T21:25:38.357852Z",
     "start_time": "2023-01-18T21:25:38.345352Z"
    }
   },
   "outputs": [
    {
     "data": {
      "text/plain": [
       "{'validation_data': None,\n",
       " 'model': <tensorflow.python.keras.engine.functional.Functional at 0x1a0623bc700>,\n",
       " '_chief_worker_only': None,\n",
       " '_supports_tf_logs': False,\n",
       " 'history': {'loss': [0.6673979759216309,\n",
       "   0.605588972568512,\n",
       "   0.592643678188324,\n",
       "   0.5823740363121033,\n",
       "   0.5721076726913452],\n",
       "  'accuracy': [0.8220859169960022,\n",
       "   0.8358895778656006,\n",
       "   0.8541027903556824,\n",
       "   0.8489263653755188,\n",
       "   0.8512269854545593],\n",
       "  'val_loss': [0.31223273277282715,\n",
       "   0.29248303174972534,\n",
       "   0.2869812250137329,\n",
       "   0.276509165763855,\n",
       "   0.25981372594833374],\n",
       "  'val_accuracy': [0.9375, 1.0, 1.0, 1.0, 1.0]},\n",
       " 'params': {'verbose': 1, 'epochs': 5, 'steps': 163},\n",
       " 'epoch': [0, 1, 2, 3, 4]}"
      ]
     },
     "execution_count": 67,
     "metadata": {},
     "output_type": "execute_result"
    }
   ],
   "source": [
    "history3.__dict__"
   ]
  },
  {
   "cell_type": "code",
   "execution_count": 68,
   "metadata": {
    "ExecuteTime": {
     "end_time": "2023-01-18T21:25:38.373352Z",
     "start_time": "2023-01-18T21:25:38.360355Z"
    }
   },
   "outputs": [],
   "source": [
    "##############################\n",
    "# Testing"
   ]
  },
  {
   "cell_type": "code",
   "execution_count": null,
   "metadata": {},
   "outputs": [],
   "source": []
  },
  {
   "cell_type": "markdown",
   "metadata": {},
   "source": [
    "### VGG16"
   ]
  },
  {
   "cell_type": "code",
   "execution_count": 2,
   "metadata": {
    "ExecuteTime": {
     "end_time": "2023-01-19T17:31:32.207181Z",
     "start_time": "2023-01-19T17:31:31.276535Z"
    }
   },
   "outputs": [],
   "source": [
    "# import keras\n",
    "\n",
    "transfer_model_vgg16 = keras.applications.VGG16(\n",
    "    weights='imagenet',  # Load weights pre-trained on ImageNet.\n",
    "    input_shape=(150, 150, 3),\n",
    "    include_top=False)  # Do not include the ImageNet classifier at the top."
   ]
  },
  {
   "cell_type": "code",
   "execution_count": 3,
   "metadata": {
    "ExecuteTime": {
     "end_time": "2023-01-19T17:31:32.470681Z",
     "start_time": "2023-01-19T17:31:32.451685Z"
    }
   },
   "outputs": [
    {
     "name": "stdout",
     "output_type": "stream",
     "text": [
      "Model: \"vgg16\"\n",
      "_________________________________________________________________\n",
      "Layer (type)                 Output Shape              Param #   \n",
      "=================================================================\n",
      "input_1 (InputLayer)         [(None, 150, 150, 3)]     0         \n",
      "_________________________________________________________________\n",
      "block1_conv1 (Conv2D)        (None, 150, 150, 64)      1792      \n",
      "_________________________________________________________________\n",
      "block1_conv2 (Conv2D)        (None, 150, 150, 64)      36928     \n",
      "_________________________________________________________________\n",
      "block1_pool (MaxPooling2D)   (None, 75, 75, 64)        0         \n",
      "_________________________________________________________________\n",
      "block2_conv1 (Conv2D)        (None, 75, 75, 128)       73856     \n",
      "_________________________________________________________________\n",
      "block2_conv2 (Conv2D)        (None, 75, 75, 128)       147584    \n",
      "_________________________________________________________________\n",
      "block2_pool (MaxPooling2D)   (None, 37, 37, 128)       0         \n",
      "_________________________________________________________________\n",
      "block3_conv1 (Conv2D)        (None, 37, 37, 256)       295168    \n",
      "_________________________________________________________________\n",
      "block3_conv2 (Conv2D)        (None, 37, 37, 256)       590080    \n",
      "_________________________________________________________________\n",
      "block3_conv3 (Conv2D)        (None, 37, 37, 256)       590080    \n",
      "_________________________________________________________________\n",
      "block3_pool (MaxPooling2D)   (None, 18, 18, 256)       0         \n",
      "_________________________________________________________________\n",
      "block4_conv1 (Conv2D)        (None, 18, 18, 512)       1180160   \n",
      "_________________________________________________________________\n",
      "block4_conv2 (Conv2D)        (None, 18, 18, 512)       2359808   \n",
      "_________________________________________________________________\n",
      "block4_conv3 (Conv2D)        (None, 18, 18, 512)       2359808   \n",
      "_________________________________________________________________\n",
      "block4_pool (MaxPooling2D)   (None, 9, 9, 512)         0         \n",
      "_________________________________________________________________\n",
      "block5_conv1 (Conv2D)        (None, 9, 9, 512)         2359808   \n",
      "_________________________________________________________________\n",
      "block5_conv2 (Conv2D)        (None, 9, 9, 512)         2359808   \n",
      "_________________________________________________________________\n",
      "block5_conv3 (Conv2D)        (None, 9, 9, 512)         2359808   \n",
      "_________________________________________________________________\n",
      "block5_pool (MaxPooling2D)   (None, 4, 4, 512)         0         \n",
      "=================================================================\n",
      "Total params: 14,714,688\n",
      "Trainable params: 14,714,688\n",
      "Non-trainable params: 0\n",
      "_________________________________________________________________\n"
     ]
    }
   ],
   "source": [
    "transfer_model_vgg16.summary()"
   ]
  },
  {
   "cell_type": "code",
   "execution_count": 4,
   "metadata": {
    "ExecuteTime": {
     "end_time": "2023-01-19T17:31:33.788181Z",
     "start_time": "2023-01-19T17:31:33.777182Z"
    }
   },
   "outputs": [],
   "source": [
    "# Freeze the transfer model\n",
    "transfer_model_vgg16.trainable = False"
   ]
  },
  {
   "cell_type": "code",
   "execution_count": 5,
   "metadata": {
    "ExecuteTime": {
     "end_time": "2023-01-19T17:31:36.082185Z",
     "start_time": "2023-01-19T17:31:35.951183Z"
    }
   },
   "outputs": [],
   "source": [
    "# Create a new model on top of transfer model\n",
    "inputs = keras.Input(shape=(150, 150, 3))\n",
    "#  transfer_model is running in inference mode by passing `training=False`. \n",
    "x = transfer_model_vgg16(inputs, training=False)\n",
    "# Convert features of shape `transfer_model.output_shape[1:]` to vectors\n",
    "x = keras.layers.GlobalAveragePooling2D()(x)\n",
    "# A Dense classifier with a single unit (binary classification)\n",
    "outputs = keras.layers.Dense(1)(x)\n",
    "model_vgg16 = keras.Model(inputs, outputs)"
   ]
  },
  {
   "cell_type": "code",
   "execution_count": 6,
   "metadata": {
    "ExecuteTime": {
     "end_time": "2023-01-19T17:31:37.446265Z",
     "start_time": "2023-01-19T17:31:37.421765Z"
    }
   },
   "outputs": [],
   "source": [
    "# Compile the model\n",
    "model_vgg16.compile(\n",
    "    optimizer = 'adam',\n",
    "    loss = 'binary_crossentropy',\n",
    "    metrics = ['accuracy'])"
   ]
  },
  {
   "cell_type": "code",
   "execution_count": 10,
   "metadata": {
    "ExecuteTime": {
     "end_time": "2023-01-19T18:17:04.823386Z",
     "start_time": "2023-01-19T17:33:21.624853Z"
    }
   },
   "outputs": [
    {
     "name": "stdout",
     "output_type": "stream",
     "text": [
      "Epoch 1/20\n",
      "163/163 [==============================] - 200s 1s/step - loss: 1.0107 - accuracy: 0.6938 - val_loss: 0.5395 - val_accuracy: 0.8750\n",
      "Epoch 2/20\n",
      "163/163 [==============================] - 127s 781ms/step - loss: 0.6522 - accuracy: 0.8200 - val_loss: 0.4237 - val_accuracy: 0.9375\n",
      "Epoch 3/20\n",
      "163/163 [==============================] - 126s 771ms/step - loss: 0.5123 - accuracy: 0.8924 - val_loss: 0.3425 - val_accuracy: 0.9375\n",
      "Epoch 4/20\n",
      "163/163 [==============================] - 128s 785ms/step - loss: 0.6258 - accuracy: 0.8735 - val_loss: 0.3227 - val_accuracy: 0.9375\n",
      "Epoch 5/20\n",
      "163/163 [==============================] - 129s 791ms/step - loss: 0.4684 - accuracy: 0.8909 - val_loss: 0.3892 - val_accuracy: 0.9375\n",
      "Epoch 6/20\n",
      "163/163 [==============================] - 128s 783ms/step - loss: 0.4756 - accuracy: 0.8742 - val_loss: 0.3107 - val_accuracy: 0.9375\n",
      "Epoch 7/20\n",
      "163/163 [==============================] - 127s 776ms/step - loss: 0.4310 - accuracy: 0.8974 - val_loss: 0.2877 - val_accuracy: 0.9375\n",
      "Epoch 8/20\n",
      "163/163 [==============================] - 128s 783ms/step - loss: 0.4480 - accuracy: 0.8923 - val_loss: 0.2801 - val_accuracy: 0.9375\n",
      "Epoch 9/20\n",
      "163/163 [==============================] - 129s 790ms/step - loss: 0.4289 - accuracy: 0.8997 - val_loss: 0.2788 - val_accuracy: 0.9375\n",
      "Epoch 10/20\n",
      "163/163 [==============================] - 128s 785ms/step - loss: 0.4310 - accuracy: 0.9066 - val_loss: 0.2888 - val_accuracy: 0.9375\n",
      "Epoch 11/20\n",
      "163/163 [==============================] - 128s 786ms/step - loss: 0.4113 - accuracy: 0.9072 - val_loss: 0.2791 - val_accuracy: 0.9375\n",
      "Epoch 12/20\n",
      "163/163 [==============================] - 125s 770ms/step - loss: 0.4167 - accuracy: 0.8938 - val_loss: 0.2739 - val_accuracy: 0.9375\n",
      "Epoch 13/20\n",
      "163/163 [==============================] - 125s 764ms/step - loss: 0.4771 - accuracy: 0.9001 - val_loss: 0.2888 - val_accuracy: 0.9375\n",
      "Epoch 14/20\n",
      "163/163 [==============================] - 124s 760ms/step - loss: 0.4427 - accuracy: 0.9051 - val_loss: 0.2762 - val_accuracy: 0.8750\n",
      "Epoch 15/20\n",
      "163/163 [==============================] - 125s 767ms/step - loss: 0.6127 - accuracy: 0.8974 - val_loss: 0.3081 - val_accuracy: 0.9375\n",
      "Epoch 16/20\n",
      "163/163 [==============================] - 124s 758ms/step - loss: 0.4301 - accuracy: 0.9020 - val_loss: 0.3316 - val_accuracy: 0.9375\n",
      "Epoch 17/20\n",
      "163/163 [==============================] - 125s 765ms/step - loss: 0.4499 - accuracy: 0.8928 - val_loss: 0.2697 - val_accuracy: 0.9375\n",
      "Epoch 18/20\n",
      "163/163 [==============================] - 125s 766ms/step - loss: 1.6140 - accuracy: 0.8046 - val_loss: 0.2439 - val_accuracy: 0.9375\n",
      "Epoch 19/20\n",
      "163/163 [==============================] - 125s 764ms/step - loss: 0.4493 - accuracy: 0.9070 - val_loss: 0.2458 - val_accuracy: 0.9375\n",
      "Epoch 20/20\n",
      "163/163 [==============================] - 124s 762ms/step - loss: 0.4025 - accuracy: 0.9053 - val_loss: 0.2348 - val_accuracy: 0.9375\n"
     ]
    }
   ],
   "source": [
    "# fit model \n",
    "history4 = model_vgg16.fit(\n",
    "    training_set, \n",
    "    steps_per_epoch = 163,\n",
    "    epochs = 20,\n",
    "    validation_data = validation_set,\n",
    "    class_weight={0:2.8 , 1:1})  # model weight"
   ]
  },
  {
   "cell_type": "code",
   "execution_count": 17,
   "metadata": {
    "ExecuteTime": {
     "end_time": "2023-01-19T18:21:20.432152Z",
     "start_time": "2023-01-19T18:21:20.075698Z"
    }
   },
   "outputs": [
    {
     "data": {
      "image/png": "[encoded data removed]",
      "text/plain": [
       "<Figure size 432x288 with 1 Axes>"
      ]
     },
     "metadata": {
      "needs_background": "light"
     },
     "output_type": "display_data"
    }
   ],
   "source": [
    "# Accuracy \n",
    "plt.plot(history4.history['accuracy'])\n",
    "plt.plot(history4.history['val_accuracy'])\n",
    "plt.title('Model Accuracy')\n",
    "plt.ylabel('Accuracy')\n",
    "plt.xlabel('Epoch')\n",
    "plt.legend(['Training set', 'Validation set'], loc='upper left')\n",
    "plt.show()"
   ]
  },
  {
   "cell_type": "code",
   "execution_count": null,
   "metadata": {},
   "outputs": [],
   "source": [
    "#################################\n",
    "#################################\n",
    "#################################\n",
    "#################################\n",
    "#################################\n",
    "# testing weights"
   ]
  },
  {
   "cell_type": "code",
   "execution_count": 4,
   "metadata": {
    "ExecuteTime": {
     "end_time": "2023-01-19T23:27:36.107509Z",
     "start_time": "2023-01-19T23:27:35.354934Z"
    }
   },
   "outputs": [],
   "source": [
    "# import keras\n",
    "\n",
    "transfer_model_vgg16 = keras.applications.VGG16(\n",
    "    weights='imagenet',  # Load weights pre-trained on ImageNet.\n",
    "    input_shape=(150, 150, 3),\n",
    "    include_top=False)  # Do not include the ImageNet classifier at the top."
   ]
  },
  {
   "cell_type": "code",
   "execution_count": 6,
   "metadata": {
    "ExecuteTime": {
     "end_time": "2023-01-19T23:27:39.347765Z",
     "start_time": "2023-01-19T23:27:39.310270Z"
    }
   },
   "outputs": [
    {
     "name": "stdout",
     "output_type": "stream",
     "text": [
      "Model: \"vgg16\"\n",
      "_________________________________________________________________\n",
      "Layer (type)                 Output Shape              Param #   \n",
      "=================================================================\n",
      "input_1 (InputLayer)         [(None, 150, 150, 3)]     0         \n",
      "_________________________________________________________________\n",
      "block1_conv1 (Conv2D)        (None, 150, 150, 64)      1792      \n",
      "_________________________________________________________________\n",
      "block1_conv2 (Conv2D)        (None, 150, 150, 64)      36928     \n",
      "_________________________________________________________________\n",
      "block1_pool (MaxPooling2D)   (None, 75, 75, 64)        0         \n",
      "_________________________________________________________________\n",
      "block2_conv1 (Conv2D)        (None, 75, 75, 128)       73856     \n",
      "_________________________________________________________________\n",
      "block2_conv2 (Conv2D)        (None, 75, 75, 128)       147584    \n",
      "_________________________________________________________________\n",
      "block2_pool (MaxPooling2D)   (None, 37, 37, 128)       0         \n",
      "_________________________________________________________________\n",
      "block3_conv1 (Conv2D)        (None, 37, 37, 256)       295168    \n",
      "_________________________________________________________________\n",
      "block3_conv2 (Conv2D)        (None, 37, 37, 256)       590080    \n",
      "_________________________________________________________________\n",
      "block3_conv3 (Conv2D)        (None, 37, 37, 256)       590080    \n",
      "_________________________________________________________________\n",
      "block3_pool (MaxPooling2D)   (None, 18, 18, 256)       0         \n",
      "_________________________________________________________________\n",
      "block4_conv1 (Conv2D)        (None, 18, 18, 512)       1180160   \n",
      "_________________________________________________________________\n",
      "block4_conv2 (Conv2D)        (None, 18, 18, 512)       2359808   \n",
      "_________________________________________________________________\n",
      "block4_conv3 (Conv2D)        (None, 18, 18, 512)       2359808   \n",
      "_________________________________________________________________\n",
      "block4_pool (MaxPooling2D)   (None, 9, 9, 512)         0         \n",
      "_________________________________________________________________\n",
      "block5_conv1 (Conv2D)        (None, 9, 9, 512)         2359808   \n",
      "_________________________________________________________________\n",
      "block5_conv2 (Conv2D)        (None, 9, 9, 512)         2359808   \n",
      "_________________________________________________________________\n",
      "block5_conv3 (Conv2D)        (None, 9, 9, 512)         2359808   \n",
      "_________________________________________________________________\n",
      "block5_pool (MaxPooling2D)   (None, 4, 4, 512)         0         \n",
      "=================================================================\n",
      "Total params: 14,714,688\n",
      "Trainable params: 14,714,688\n",
      "Non-trainable params: 0\n",
      "_________________________________________________________________\n"
     ]
    }
   ],
   "source": [
    "transfer_model_vgg16.summary()"
   ]
  },
  {
   "cell_type": "code",
   "execution_count": 7,
   "metadata": {
    "ExecuteTime": {
     "end_time": "2023-01-19T23:27:40.569439Z",
     "start_time": "2023-01-19T23:27:40.550938Z"
    }
   },
   "outputs": [],
   "source": [
    "# Freeze the transfer model\n",
    "transfer_model_vgg16.trainable = False"
   ]
  },
  {
   "cell_type": "code",
   "execution_count": 8,
   "metadata": {
    "ExecuteTime": {
     "end_time": "2023-01-19T23:27:41.835671Z",
     "start_time": "2023-01-19T23:27:41.711171Z"
    }
   },
   "outputs": [],
   "source": [
    "# Create a new model on top of transfer model\n",
    "inputs = keras.Input(shape=(150, 150, 3))\n",
    "#  transfer_model is running in inference mode by passing `training=False`. \n",
    "x = transfer_model_vgg16(inputs, training=False)\n",
    "# Convert features of shape `transfer_model.output_shape[1:]` to vectors\n",
    "x = keras.layers.GlobalAveragePooling2D()(x)\n",
    "# A Dense classifier with a single unit (binary classification)\n",
    "outputs = keras.layers.Dense(1)(x)\n",
    "model_vgg16 = keras.Model(inputs, outputs)"
   ]
  },
  {
   "cell_type": "code",
   "execution_count": 9,
   "metadata": {
    "ExecuteTime": {
     "end_time": "2023-01-19T23:27:42.561648Z",
     "start_time": "2023-01-19T23:27:42.542148Z"
    }
   },
   "outputs": [],
   "source": [
    "# Compile the model\n",
    "model_vgg16.compile(\n",
    "    optimizer = 'adam',\n",
    "    loss = 'binary_crossentropy',\n",
    "    metrics = ['accuracy'])"
   ]
  },
  {
   "cell_type": "code",
   "execution_count": 10,
   "metadata": {
    "ExecuteTime": {
     "end_time": "2023-01-20T00:00:16.994557Z",
     "start_time": "2023-01-19T23:27:45.084666Z"
    }
   },
   "outputs": [
    {
     "name": "stdout",
     "output_type": "stream",
     "text": [
      "Epoch 1/15\n",
      "163/163 [==============================] - 131s 802ms/step - loss: 57.2966 - accuracy: 0.2571 - val_loss: 7.7125 - val_accuracy: 0.5000\n",
      "Epoch 2/15\n",
      "163/163 [==============================] - 128s 784ms/step - loss: 57.2966 - accuracy: 0.2571 - val_loss: 7.7125 - val_accuracy: 0.5000\n",
      "Epoch 3/15\n",
      "163/163 [==============================] - 130s 797ms/step - loss: 57.2966 - accuracy: 0.2571 - val_loss: 7.7125 - val_accuracy: 0.5000\n",
      "Epoch 4/15\n",
      "163/163 [==============================] - 129s 792ms/step - loss: 57.2966 - accuracy: 0.2571 - val_loss: 7.7125 - val_accuracy: 0.5000\n",
      "Epoch 5/15\n",
      "163/163 [==============================] - 129s 793ms/step - loss: 57.2966 - accuracy: 0.2571 - val_loss: 7.7125 - val_accuracy: 0.5000\n",
      "Epoch 6/15\n",
      "163/163 [==============================] - 129s 793ms/step - loss: 57.2966 - accuracy: 0.2571 - val_loss: 7.7125 - val_accuracy: 0.5000\n",
      "Epoch 7/15\n",
      "163/163 [==============================] - 130s 800ms/step - loss: 57.2966 - accuracy: 0.2571 - val_loss: 7.7125 - val_accuracy: 0.5000\n",
      "Epoch 8/15\n",
      "163/163 [==============================] - 129s 794ms/step - loss: 57.2966 - accuracy: 0.2571 - val_loss: 7.7125 - val_accuracy: 0.5000\n",
      "Epoch 9/15\n",
      "163/163 [==============================] - 130s 797ms/step - loss: 57.2966 - accuracy: 0.2571 - val_loss: 7.7125 - val_accuracy: 0.5000\n",
      "Epoch 10/15\n",
      "163/163 [==============================] - 132s 809ms/step - loss: 57.2966 - accuracy: 0.2571 - val_loss: 7.7125 - val_accuracy: 0.5000\n",
      "Epoch 11/15\n",
      "163/163 [==============================] - 129s 793ms/step - loss: 57.2966 - accuracy: 0.2571 - val_loss: 7.7125 - val_accuracy: 0.5000\n",
      "Epoch 12/15\n",
      "163/163 [==============================] - 128s 783ms/step - loss: 57.2966 - accuracy: 0.2571 - val_loss: 7.7125 - val_accuracy: 0.5000\n",
      "Epoch 13/15\n",
      "163/163 [==============================] - 126s 773ms/step - loss: 57.2966 - accuracy: 0.2571 - val_loss: 7.7125 - val_accuracy: 0.5000\n",
      "Epoch 14/15\n",
      "163/163 [==============================] - 126s 774ms/step - loss: 57.2966 - accuracy: 0.2571 - val_loss: 7.7125 - val_accuracy: 0.5000\n",
      "Epoch 15/15\n",
      "163/163 [==============================] - 126s 772ms/step - loss: 57.2966 - accuracy: 0.2571 - val_loss: 7.7125 - val_accuracy: 0.5000\n"
     ]
    }
   ],
   "source": [
    "# fit model \n",
    "history4 = model_vgg16.fit(\n",
    "    training_set, \n",
    "    steps_per_epoch = 163,\n",
    "    epochs = 15,\n",
    "    validation_data = validation_set,\n",
    "    class_weight={0:1 , 1:5})  # model weight testing"
   ]
  },
  {
   "cell_type": "code",
   "execution_count": null,
   "metadata": {},
   "outputs": [],
   "source": []
  },
  {
   "cell_type": "code",
   "execution_count": null,
   "metadata": {},
   "outputs": [],
   "source": []
  },
  {
   "cell_type": "code",
   "execution_count": null,
   "metadata": {},
   "outputs": [],
   "source": []
  },
  {
   "cell_type": "code",
   "execution_count": null,
   "metadata": {},
   "outputs": [],
   "source": [
    "# testing weights\n",
    "#################################"
   ]
  },
  {
   "cell_type": "code",
   "execution_count": 78,
   "metadata": {
    "ExecuteTime": {
     "end_time": "2023-01-18T22:12:57.246080Z",
     "start_time": "2023-01-18T22:12:57.234077Z"
    }
   },
   "outputs": [],
   "source": [
    "# history5 = model_vgg16.fit(\n",
    "#     training_set, \n",
    "#     steps_per_epoch = 163,\n",
    "#     epochs = 50,\n",
    "#     validation_data = validation_set,\n",
    "#     class_weight={0:2.8 , 1:1}) # <--------------------------"
   ]
  },
  {
   "cell_type": "code",
   "execution_count": 79,
   "metadata": {
    "ExecuteTime": {
     "end_time": "2023-01-18T22:12:57.261574Z",
     "start_time": "2023-01-18T22:12:57.249574Z"
    }
   },
   "outputs": [],
   "source": [
    "# # Accuracy \n",
    "# plt.plot(history5.history['accuracy'])\n",
    "# plt.plot(history5.history['val_accuracy'])\n",
    "# plt.title('Model Accuracy')\n",
    "# plt.ylabel('Accuracy')\n",
    "# plt.xlabel('Epoch')\n",
    "# plt.legend(['Training set', 'Validation set'], loc='upper left')\n",
    "# plt.show()"
   ]
  },
  {
   "cell_type": "code",
   "execution_count": 80,
   "metadata": {
    "ExecuteTime": {
     "end_time": "2023-01-18T22:12:57.277076Z",
     "start_time": "2023-01-18T22:12:57.264074Z"
    }
   },
   "outputs": [],
   "source": [
    "# # Accuracy \n",
    "# plt.plot(history5.history['accuracy'])\n",
    "# plt.title('Model Accuracy')\n",
    "# plt.ylabel('Accuracy')\n",
    "# plt.xlabel('Epoch')\n",
    "# plt.legend(['Training set'], loc='upper left')\n",
    "# plt.show()"
   ]
  },
  {
   "cell_type": "markdown",
   "metadata": {},
   "source": [
    "#### Fine Tuning"
   ]
  },
  {
   "cell_type": "code",
   "execution_count": 16,
   "metadata": {
    "ExecuteTime": {
     "end_time": "2023-01-19T18:20:06.032989Z",
     "start_time": "2023-01-19T18:20:05.608561Z"
    }
   },
   "outputs": [
    {
     "data": {
      "image/png": "[encoded data removed]",
      "text/plain": [
       "<Figure size 432x288 with 1 Axes>"
      ]
     },
     "metadata": {
      "needs_background": "light"
     },
     "output_type": "display_data"
    }
   ],
   "source": [
    "# Accuracy \n",
    "plt.plot(history4.history['accuracy'])\n",
    "plt.plot(history4.history['val_accuracy'])\n",
    "plt.title('Model Accuracy')\n",
    "plt.ylabel('Accuracy')\n",
    "plt.xlabel('Epoch')\n",
    "plt.legend(['Training set', 'Validation set'], loc='upper left')\n",
    "plt.show()"
   ]
  },
  {
   "cell_type": "code",
   "execution_count": 82,
   "metadata": {
    "ExecuteTime": {
     "end_time": "2023-01-18T22:24:18.067374Z",
     "start_time": "2023-01-18T22:12:57.626587Z"
    }
   },
   "outputs": [
    {
     "name": "stdout",
     "output_type": "stream",
     "text": [
      "Epoch 1/2\n",
      "163/163 [==============================] - 336s 2s/step - loss: 0.1616 - binary_accuracy: 0.9323 - val_loss: 0.2475 - val_binary_accuracy: 0.8750\n",
      "Epoch 2/2\n",
      "163/163 [==============================] - 336s 2s/step - loss: 0.1181 - binary_accuracy: 0.9526 - val_loss: 0.3352 - val_binary_accuracy: 0.9375\n"
     ]
    }
   ],
   "source": [
    "# Unfreeze the base model\n",
    "transfer_model_vgg16.trainable = True\n",
    "\n",
    "# It's important to recompile your model after you make any changes\n",
    "# to the `trainable` attribute of any inner layer, so that your changes\n",
    "# are take into account\n",
    "model_vgg16.compile(optimizer=keras.optimizers.Adam(1e-5), # Very low learning rate\n",
    "              loss=keras.losses.BinaryCrossentropy(from_logits=True),\n",
    "              metrics=[keras.metrics.BinaryAccuracy()])\n",
    "\n",
    "# Train end-to-end. Be careful to stop before you overfit!\n",
    "history42 = model_vgg16.fit(\n",
    "    training_set, \n",
    "    epochs=2, \n",
    "    validation_data=validation_set)\n"
   ]
  },
  {
   "cell_type": "code",
   "execution_count": 83,
   "metadata": {
    "ExecuteTime": {
     "end_time": "2023-01-18T22:24:18.082876Z",
     "start_time": "2023-01-18T22:24:18.070877Z"
    }
   },
   "outputs": [],
   "source": [
    "# # Unfreeze the base model\n",
    "# transfer_model_vgg16.trainable = True\n",
    "\n",
    "# # It's important to recompile your model after you make any changes\n",
    "# # to the `trainable` attribute of any inner layer, so that your changes\n",
    "# # are take into account\n",
    "# model_vgg16.compile(optimizer=keras.optimizers.Adam(1e-5), # Very low learning rate\n",
    "#               loss=keras.losses.BinaryCrossentropy(from_logits=True),\n",
    "#               metrics=[keras.metrics.BinaryAccuracy()])\n",
    "\n",
    "# # Train end-to-end. Be careful to stop before you overfit!\n",
    "# history42 = model_vgg16.fit(\n",
    "#     training_set, \n",
    "#     epochs=15, \n",
    "#     validation_data=validation_set)\n"
   ]
  },
  {
   "cell_type": "code",
   "execution_count": 84,
   "metadata": {
    "ExecuteTime": {
     "end_time": "2023-01-18T22:24:18.098376Z",
     "start_time": "2023-01-18T22:24:18.085876Z"
    }
   },
   "outputs": [
    {
     "data": {
      "text/plain": [
       "tensorflow.python.keras.engine.functional.Functional"
      ]
     },
     "execution_count": 84,
     "metadata": {},
     "output_type": "execute_result"
    }
   ],
   "source": [
    "type(model_vgg16)"
   ]
  },
  {
   "cell_type": "code",
   "execution_count": null,
   "metadata": {},
   "outputs": [],
   "source": []
  },
  {
   "cell_type": "markdown",
   "metadata": {},
   "source": [
    "#######################\n",
    "#### temp"
   ]
  },
  {
   "cell_type": "code",
   "execution_count": 85,
   "metadata": {
    "ExecuteTime": {
     "end_time": "2023-01-18T22:24:18.113874Z",
     "start_time": "2023-01-18T22:24:18.101376Z"
    }
   },
   "outputs": [],
   "source": [
    "# https://stackoverflow.com/questions/50825936/confusion-matrix-on-images-in-cnn-keras"
   ]
  },
  {
   "cell_type": "code",
   "execution_count": 86,
   "metadata": {
    "ExecuteTime": {
     "end_time": "2023-01-18T22:24:18.129373Z",
     "start_time": "2023-01-18T22:24:18.117377Z"
    }
   },
   "outputs": [],
   "source": [
    "# y_pred = model_vgg16.predict(test_set)"
   ]
  },
  {
   "cell_type": "code",
   "execution_count": 87,
   "metadata": {
    "ExecuteTime": {
     "end_time": "2023-01-18T22:24:18.144874Z",
     "start_time": "2023-01-18T22:24:18.131877Z"
    }
   },
   "outputs": [],
   "source": [
    "# test_set"
   ]
  },
  {
   "cell_type": "code",
   "execution_count": 88,
   "metadata": {
    "ExecuteTime": {
     "end_time": "2023-01-18T22:24:18.160373Z",
     "start_time": "2023-01-18T22:24:18.147376Z"
    }
   },
   "outputs": [],
   "source": [
    "# test_set.labels"
   ]
  },
  {
   "cell_type": "code",
   "execution_count": 89,
   "metadata": {
    "ExecuteTime": {
     "end_time": "2023-01-18T22:24:18.175874Z",
     "start_time": "2023-01-18T22:24:18.163377Z"
    }
   },
   "outputs": [],
   "source": [
    "# y_pred"
   ]
  },
  {
   "cell_type": "code",
   "execution_count": 90,
   "metadata": {
    "ExecuteTime": {
     "end_time": "2023-01-18T22:24:18.191381Z",
     "start_time": "2023-01-18T22:24:18.178874Z"
    }
   },
   "outputs": [],
   "source": [
    "# y_pred.min"
   ]
  },
  {
   "cell_type": "code",
   "execution_count": null,
   "metadata": {},
   "outputs": [],
   "source": []
  },
  {
   "cell_type": "code",
   "execution_count": 91,
   "metadata": {
    "ExecuteTime": {
     "end_time": "2023-01-18T22:24:18.206880Z",
     "start_time": "2023-01-18T22:24:18.194381Z"
    }
   },
   "outputs": [],
   "source": [
    "# from sklearn.metrics import confusion_matrix, classification_report\n",
    "\n",
    "# y_pred = model_vgg16.predict(test_set)\n",
    "# print(classification_report(test_set.labels, y_pred))"
   ]
  },
  {
   "cell_type": "code",
   "execution_count": 92,
   "metadata": {
    "ExecuteTime": {
     "end_time": "2023-01-18T22:24:18.222380Z",
     "start_time": "2023-01-18T22:24:18.209382Z"
    }
   },
   "outputs": [],
   "source": [
    "# # Training confusion matrix\n",
    "# plot_confusion_matrix(model_vgg16, X_train, y_train)"
   ]
  },
  {
   "cell_type": "code",
   "execution_count": 20,
   "metadata": {
    "ExecuteTime": {
     "end_time": "2023-01-19T18:22:55.671449Z",
     "start_time": "2023-01-19T18:22:54.657586Z"
    }
   },
   "outputs": [],
   "source": [
    "# from sklearn.metrics import confusion_matrix, classification_report\n",
    "\n",
    "# #Confution Matrix and Classification Report\n",
    "# Y_pred = model_vgg16.predict(validation_set)\n",
    "# model_vgg16.evaluate(validation_set)\n",
    "# y_pred = np.where(Y_pred>0.5, 1, 0)\n",
    "# print('Confusion Matrix')\n",
    "# print(confusion_matrix(validation_set.classes, y_pred))\n",
    "# print('Classification Report')\n",
    "# target_names = os.listdir(train_generator)\n",
    "# print(classification_report(validation_set.classes, y_pred, target_names=target_names))\n",
    "# plt.figure(figsize=(10,8))\n",
    "# plt.title('Predicted classes', size=14)\n",
    "# sns.heatmap(confusion_matrix(validation_set.classes, y_pred), annot=True, fmt = '.0f',linewidths=.5)\n",
    "# plt.show()"
   ]
  },
  {
   "cell_type": "code",
   "execution_count": null,
   "metadata": {},
   "outputs": [],
   "source": []
  },
  {
   "cell_type": "code",
   "execution_count": null,
   "metadata": {},
   "outputs": [],
   "source": []
  },
  {
   "cell_type": "code",
   "execution_count": null,
   "metadata": {},
   "outputs": [],
   "source": []
  },
  {
   "cell_type": "code",
   "execution_count": 11,
   "metadata": {
    "ExecuteTime": {
     "end_time": "2023-01-20T00:34:14.979780Z",
     "start_time": "2023-01-20T00:34:00.347767Z"
    }
   },
   "outputs": [],
   "source": [
    "#############\n",
    "# test_generator = ImageDataGenerator()\n",
    "# test_data_generator = test_generator.flow_from_directory(\n",
    "#     test_data_path, # Put your path here\n",
    "#      target_size=(img_width, img_height),\n",
    "#     batch_size=32,\n",
    "#     shuffle=False)\n",
    "\n",
    "# test_steps_per_epoch = numpy.math.ceil(test_data_generator.samples / test_data_generator.batch_size)\n",
    "\n",
    "\n",
    "predictions = model_vgg16.predict(test_set)\n",
    "# Get most likely class\n",
    "predicted_classes = np.argmax(predictions, axis=1)"
   ]
  },
  {
   "cell_type": "code",
   "execution_count": 12,
   "metadata": {
    "ExecuteTime": {
     "end_time": "2023-01-20T00:34:15.026276Z",
     "start_time": "2023-01-20T00:34:14.982777Z"
    }
   },
   "outputs": [
    {
     "data": {
      "text/plain": [
       "array([[-1.0903181 ],\n",
       "       [-0.92082036],\n",
       "       [-0.9535042 ],\n",
       "       [-0.75987196],\n",
       "       [-0.99674404],\n",
       "       [-0.7535132 ],\n",
       "       [-0.9313269 ],\n",
       "       [-0.7985356 ],\n",
       "       [-0.912753  ],\n",
       "       [-0.66669774],\n",
       "       [-1.0704474 ],\n",
       "       [-1.0365099 ],\n",
       "       [-1.3077848 ],\n",
       "       [-1.1472075 ],\n",
       "       [-1.3195467 ],\n",
       "       [-0.79795   ],\n",
       "       [-0.9348359 ],\n",
       "       [-1.1419237 ],\n",
       "       [-1.0795481 ],\n",
       "       [-1.4268328 ],\n",
       "       [-0.7979291 ],\n",
       "       [-0.63267505],\n",
       "       [-0.7249283 ],\n",
       "       [-1.008122  ],\n",
       "       [-0.94291186],\n",
       "       [-0.8940587 ],\n",
       "       [-1.2997813 ],\n",
       "       [-1.0529732 ],\n",
       "       [-1.1031752 ],\n",
       "       [-0.80672985],\n",
       "       [-0.9869578 ],\n",
       "       [-1.0091735 ],\n",
       "       [-0.8361948 ],\n",
       "       [-1.1210661 ],\n",
       "       [-0.55658996],\n",
       "       [-1.1910824 ],\n",
       "       [-0.9754633 ],\n",
       "       [-0.8210416 ],\n",
       "       [-0.9125231 ],\n",
       "       [-0.7139753 ],\n",
       "       [-0.6766801 ],\n",
       "       [-0.8187932 ],\n",
       "       [-1.1265893 ],\n",
       "       [-0.71895623],\n",
       "       [-0.81112266],\n",
       "       [-1.0669303 ],\n",
       "       [-0.9979131 ],\n",
       "       [-0.83030796],\n",
       "       [-0.89427507],\n",
       "       [-1.068671  ],\n",
       "       [-0.7808596 ],\n",
       "       [-0.91979516],\n",
       "       [-0.8257315 ],\n",
       "       [-0.7806827 ],\n",
       "       [-1.0395522 ],\n",
       "       [-0.77695155],\n",
       "       [-1.1468565 ],\n",
       "       [-1.0806725 ],\n",
       "       [-1.1284689 ],\n",
       "       [-0.9206467 ],\n",
       "       [-0.79038846],\n",
       "       [-1.043465  ],\n",
       "       [-1.0549258 ],\n",
       "       [-1.0186694 ],\n",
       "       [-0.8424363 ],\n",
       "       [-1.1195177 ],\n",
       "       [-0.9519408 ],\n",
       "       [-1.1219537 ],\n",
       "       [-0.6452345 ],\n",
       "       [-0.98953307],\n",
       "       [-1.0544643 ],\n",
       "       [-0.92963886],\n",
       "       [-0.7846503 ],\n",
       "       [-0.9797992 ],\n",
       "       [-0.9157341 ],\n",
       "       [-0.7953858 ],\n",
       "       [-1.0784566 ],\n",
       "       [-0.81449187],\n",
       "       [-1.1793778 ],\n",
       "       [-0.91314423],\n",
       "       [-0.8605922 ],\n",
       "       [-0.70428073],\n",
       "       [-1.0598079 ],\n",
       "       [-0.8238845 ],\n",
       "       [-0.89687157],\n",
       "       [-0.712978  ],\n",
       "       [-0.81210303],\n",
       "       [-0.7892499 ],\n",
       "       [-1.0524943 ],\n",
       "       [-1.0277134 ],\n",
       "       [-0.7212033 ],\n",
       "       [-0.98673797],\n",
       "       [-1.0710803 ],\n",
       "       [-0.8802077 ],\n",
       "       [-0.86925954],\n",
       "       [-0.7661017 ],\n",
       "       [-0.8795228 ],\n",
       "       [-1.3199506 ],\n",
       "       [-0.88376814],\n",
       "       [-0.84056354],\n",
       "       [-1.1447296 ],\n",
       "       [-1.2351134 ],\n",
       "       [-1.2022088 ],\n",
       "       [-0.7534671 ],\n",
       "       [-0.9359819 ],\n",
       "       [-0.6852853 ],\n",
       "       [-0.9087067 ],\n",
       "       [-0.8902216 ],\n",
       "       [-0.80690587],\n",
       "       [-0.9583814 ],\n",
       "       [-0.9701059 ],\n",
       "       [-1.0486    ],\n",
       "       [-1.1217272 ],\n",
       "       [-0.8151593 ],\n",
       "       [-0.7957715 ],\n",
       "       [-0.9971005 ],\n",
       "       [-0.8917073 ],\n",
       "       [-0.94768214],\n",
       "       [-1.1064793 ],\n",
       "       [-0.7954114 ],\n",
       "       [-0.8485528 ],\n",
       "       [-0.88964796],\n",
       "       [-0.9663389 ],\n",
       "       [-0.70868456],\n",
       "       [-0.73459625],\n",
       "       [-1.1347558 ],\n",
       "       [-1.3008779 ],\n",
       "       [-0.93300647],\n",
       "       [-0.6343499 ],\n",
       "       [-1.1797814 ],\n",
       "       [-1.0586674 ],\n",
       "       [-0.97441316],\n",
       "       [-0.9348359 ],\n",
       "       [-0.7982276 ],\n",
       "       [-1.2040489 ],\n",
       "       [-0.95452154],\n",
       "       [-0.8805686 ],\n",
       "       [-0.967683  ],\n",
       "       [-1.1517147 ],\n",
       "       [-0.58916193],\n",
       "       [-1.1280159 ],\n",
       "       [-0.75953096],\n",
       "       [-0.9443282 ],\n",
       "       [-0.780089  ],\n",
       "       [-0.65647703],\n",
       "       [-0.9651108 ],\n",
       "       [-1.132373  ],\n",
       "       [-1.0645151 ],\n",
       "       [-0.8815613 ],\n",
       "       [-0.9960824 ],\n",
       "       [-0.9267281 ],\n",
       "       [-0.7657409 ],\n",
       "       [-0.7229522 ],\n",
       "       [-0.9131342 ],\n",
       "       [-0.91861284],\n",
       "       [-0.81967187],\n",
       "       [-0.9895498 ],\n",
       "       [-0.8608591 ],\n",
       "       [-0.89804304],\n",
       "       [-0.96118724],\n",
       "       [-1.0906191 ],\n",
       "       [-0.7651969 ],\n",
       "       [-1.154747  ],\n",
       "       [-1.0502201 ],\n",
       "       [-0.95053554],\n",
       "       [-0.77005994],\n",
       "       [-0.7571925 ],\n",
       "       [-1.2288798 ],\n",
       "       [-1.1127293 ],\n",
       "       [-1.1026739 ],\n",
       "       [-1.152729  ],\n",
       "       [-0.95989394],\n",
       "       [-0.8657786 ],\n",
       "       [-1.1976147 ],\n",
       "       [-0.78449297],\n",
       "       [-1.2937498 ],\n",
       "       [-1.2048843 ],\n",
       "       [-0.80353874],\n",
       "       [-0.9263724 ],\n",
       "       [-0.7603804 ],\n",
       "       [-1.1055641 ],\n",
       "       [-1.1311426 ],\n",
       "       [-0.68329275],\n",
       "       [-0.843574  ],\n",
       "       [-1.043663  ],\n",
       "       [-0.9093092 ],\n",
       "       [-0.6783714 ],\n",
       "       [-1.2585039 ],\n",
       "       [-1.472918  ],\n",
       "       [-1.0443661 ],\n",
       "       [-1.1073872 ],\n",
       "       [-1.1282024 ],\n",
       "       [-0.971096  ],\n",
       "       [-1.360517  ],\n",
       "       [-0.92153865],\n",
       "       [-1.1860561 ],\n",
       "       [-0.74976104],\n",
       "       [-0.98185873],\n",
       "       [-0.8493676 ],\n",
       "       [-0.942453  ],\n",
       "       [-0.7181105 ],\n",
       "       [-1.0111316 ],\n",
       "       [-0.7997404 ],\n",
       "       [-1.0359786 ],\n",
       "       [-0.9568213 ],\n",
       "       [-1.0482943 ],\n",
       "       [-0.643498  ],\n",
       "       [-0.9620509 ],\n",
       "       [-0.952775  ],\n",
       "       [-0.6014902 ],\n",
       "       [-0.61872786],\n",
       "       [-1.281246  ],\n",
       "       [-0.8112435 ],\n",
       "       [-1.0320015 ],\n",
       "       [-0.9900812 ],\n",
       "       [-0.74448574],\n",
       "       [-0.8130971 ],\n",
       "       [-0.72832906],\n",
       "       [-1.0681257 ],\n",
       "       [-0.85667044],\n",
       "       [-0.85114276],\n",
       "       [-0.7158117 ],\n",
       "       [-0.99085283],\n",
       "       [-0.93396044],\n",
       "       [-0.72855616],\n",
       "       [-0.72182965],\n",
       "       [-0.8028834 ],\n",
       "       [-0.5266926 ],\n",
       "       [-0.85042226],\n",
       "       [-0.9710709 ],\n",
       "       [-1.0200734 ],\n",
       "       [-0.9622617 ],\n",
       "       [-1.0386696 ],\n",
       "       [-0.7281786 ],\n",
       "       [-1.0717946 ],\n",
       "       [-0.7793381 ],\n",
       "       [-1.0201364 ],\n",
       "       [-0.6468843 ],\n",
       "       [-1.161847  ],\n",
       "       [-1.0012257 ],\n",
       "       [-0.78314954],\n",
       "       [-0.5130292 ],\n",
       "       [-1.0014238 ],\n",
       "       [-1.1194277 ],\n",
       "       [-1.3821483 ],\n",
       "       [-1.0530266 ],\n",
       "       [-0.73506415],\n",
       "       [-0.58568984],\n",
       "       [-0.6714177 ],\n",
       "       [-0.7866287 ],\n",
       "       [-0.8613547 ],\n",
       "       [-0.9013448 ],\n",
       "       [-0.9377907 ],\n",
       "       [-0.68762445],\n",
       "       [-0.9956518 ],\n",
       "       [-0.84963465],\n",
       "       [-0.8106298 ],\n",
       "       [-0.8492437 ],\n",
       "       [-0.7496848 ],\n",
       "       [-0.8178636 ],\n",
       "       [-1.180541  ],\n",
       "       [-0.8746965 ],\n",
       "       [-0.9857415 ],\n",
       "       [-0.8914261 ],\n",
       "       [-0.8559369 ],\n",
       "       [-0.7043686 ],\n",
       "       [-1.0094587 ],\n",
       "       [-1.0277243 ],\n",
       "       [-0.9207593 ],\n",
       "       [-1.0977259 ],\n",
       "       [-0.9328283 ],\n",
       "       [-0.8833924 ],\n",
       "       [-0.706562  ],\n",
       "       [-1.0005219 ],\n",
       "       [-1.0266324 ],\n",
       "       [-0.9478743 ],\n",
       "       [-0.76818204],\n",
       "       [-0.6460633 ],\n",
       "       [-1.3199731 ],\n",
       "       [-0.7476605 ],\n",
       "       [-0.911827  ],\n",
       "       [-1.1770079 ],\n",
       "       [-1.1199207 ],\n",
       "       [-0.7988026 ],\n",
       "       [-1.053147  ],\n",
       "       [-0.9995136 ],\n",
       "       [-0.93300647],\n",
       "       [-0.9635986 ],\n",
       "       [-0.64457625],\n",
       "       [-0.8035144 ],\n",
       "       [-1.1521797 ],\n",
       "       [-1.408952  ],\n",
       "       [-0.9779335 ],\n",
       "       [-0.8154144 ],\n",
       "       [-0.6948073 ],\n",
       "       [-0.9288498 ],\n",
       "       [-1.0452025 ],\n",
       "       [-0.96507317],\n",
       "       [-1.1389203 ],\n",
       "       [-0.8304535 ],\n",
       "       [-0.80285966],\n",
       "       [-0.86310697],\n",
       "       [-1.1661797 ],\n",
       "       [-1.0629454 ],\n",
       "       [-1.18556   ],\n",
       "       [-0.8841851 ],\n",
       "       [-0.8770138 ],\n",
       "       [-0.8432202 ],\n",
       "       [-0.9756116 ],\n",
       "       [-0.8643671 ],\n",
       "       [-1.0544459 ],\n",
       "       [-1.0902967 ],\n",
       "       [-1.2039137 ],\n",
       "       [-1.0175841 ],\n",
       "       [-1.5614189 ],\n",
       "       [-0.79695094],\n",
       "       [-0.7582737 ],\n",
       "       [-0.96016735],\n",
       "       [-0.7022281 ],\n",
       "       [-0.9291979 ],\n",
       "       [-0.8903245 ],\n",
       "       [-0.4806043 ],\n",
       "       [-0.9691451 ],\n",
       "       [-1.1722318 ],\n",
       "       [-0.83558476],\n",
       "       [-1.018669  ],\n",
       "       [-0.6702886 ],\n",
       "       [-0.84074664],\n",
       "       [-0.7605466 ],\n",
       "       [-0.9770371 ],\n",
       "       [-0.8838486 ],\n",
       "       [-0.89489347],\n",
       "       [-0.7918009 ],\n",
       "       [-0.9214578 ],\n",
       "       [-1.3416655 ],\n",
       "       [-0.762526  ],\n",
       "       [-0.80906314],\n",
       "       [-0.7569759 ],\n",
       "       [-0.80040747],\n",
       "       [-0.85034716],\n",
       "       [-0.95261174],\n",
       "       [-0.8076997 ],\n",
       "       [-0.6945654 ],\n",
       "       [-0.8759713 ],\n",
       "       [-0.86029774],\n",
       "       [-0.9657018 ],\n",
       "       [-0.7312998 ],\n",
       "       [-0.83388555],\n",
       "       [-0.888072  ],\n",
       "       [-1.1144774 ],\n",
       "       [-0.7549619 ],\n",
       "       [-1.0615832 ],\n",
       "       [-1.0345328 ],\n",
       "       [-0.79801345],\n",
       "       [-1.0835298 ],\n",
       "       [-0.8065685 ],\n",
       "       [-0.8888274 ],\n",
       "       [-0.93317604],\n",
       "       [-0.977186  ],\n",
       "       [-1.0725079 ],\n",
       "       [-1.0453458 ],\n",
       "       [-0.7806819 ],\n",
       "       [-1.1610284 ],\n",
       "       [-1.0114217 ],\n",
       "       [-1.0889335 ],\n",
       "       [-1.0387567 ],\n",
       "       [-1.084712  ],\n",
       "       [-0.6982297 ],\n",
       "       [-0.88832873],\n",
       "       [-1.139197  ],\n",
       "       [-1.2420902 ],\n",
       "       [-0.69696045],\n",
       "       [-1.0343713 ],\n",
       "       [-1.1385999 ],\n",
       "       [-1.0319362 ],\n",
       "       [-0.975309  ],\n",
       "       [-0.9093536 ],\n",
       "       [-0.7631111 ],\n",
       "       [-0.87268245],\n",
       "       [-0.8883594 ],\n",
       "       [-1.0330133 ],\n",
       "       [-1.0204142 ],\n",
       "       [-0.9533711 ],\n",
       "       [-0.92644656],\n",
       "       [-0.863677  ],\n",
       "       [-1.1083488 ],\n",
       "       [-1.2336059 ],\n",
       "       [-1.0429914 ],\n",
       "       [-1.0263543 ],\n",
       "       [-0.67949575],\n",
       "       [-1.0687712 ],\n",
       "       [-0.9950708 ],\n",
       "       [-1.0979509 ],\n",
       "       [-1.0191208 ],\n",
       "       [-1.1002663 ],\n",
       "       [-0.8569031 ],\n",
       "       [-0.87518704],\n",
       "       [-0.6529366 ],\n",
       "       [-0.8190645 ],\n",
       "       [-0.818602  ],\n",
       "       [-0.76666844],\n",
       "       [-0.8324932 ],\n",
       "       [-1.0714089 ],\n",
       "       [-1.0075189 ],\n",
       "       [-0.93404484],\n",
       "       [-0.6575911 ],\n",
       "       [-1.1943029 ],\n",
       "       [-1.0752019 ],\n",
       "       [-0.96845865],\n",
       "       [-0.85906565],\n",
       "       [-1.0447673 ],\n",
       "       [-0.90626377],\n",
       "       [-0.7870679 ],\n",
       "       [-0.7524947 ],\n",
       "       [-1.014361  ],\n",
       "       [-0.9759736 ],\n",
       "       [-1.0222092 ],\n",
       "       [-0.9350773 ],\n",
       "       [-0.661946  ],\n",
       "       [-0.6850969 ],\n",
       "       [-0.9428532 ],\n",
       "       [-0.9862856 ],\n",
       "       [-0.8854145 ],\n",
       "       [-0.9878157 ],\n",
       "       [-0.92150795],\n",
       "       [-0.82139003],\n",
       "       [-0.7934588 ],\n",
       "       [-0.68809366],\n",
       "       [-0.9021483 ],\n",
       "       [-0.9380237 ],\n",
       "       [-0.965817  ],\n",
       "       [-0.7953858 ],\n",
       "       [-1.2658787 ],\n",
       "       [-0.78719866],\n",
       "       [-0.9822705 ],\n",
       "       [-0.886338  ],\n",
       "       [-0.8499665 ],\n",
       "       [-0.91380143],\n",
       "       [-0.6021793 ],\n",
       "       [-0.99735254],\n",
       "       [-1.0560977 ],\n",
       "       [-1.2104089 ],\n",
       "       [-0.8911512 ],\n",
       "       [-0.7474947 ],\n",
       "       [-1.2128156 ],\n",
       "       [-0.75050616],\n",
       "       [-0.7288543 ],\n",
       "       [-1.0380011 ],\n",
       "       [-1.0687861 ],\n",
       "       [-0.92253196],\n",
       "       [-0.9242127 ],\n",
       "       [-0.83224595],\n",
       "       [-1.1980377 ],\n",
       "       [-0.824049  ],\n",
       "       [-1.1110585 ],\n",
       "       [-1.360517  ],\n",
       "       [-1.5388004 ],\n",
       "       [-1.0807428 ],\n",
       "       [-0.82109606],\n",
       "       [-1.2241007 ],\n",
       "       [-1.1736522 ],\n",
       "       [-0.9885626 ],\n",
       "       [-0.98747575],\n",
       "       [-0.8767582 ],\n",
       "       [-0.88291115],\n",
       "       [-1.2779541 ],\n",
       "       [-0.87665975],\n",
       "       [-0.87268585],\n",
       "       [-0.9464788 ],\n",
       "       [-0.85196006],\n",
       "       [-0.81546426],\n",
       "       [-0.85667044],\n",
       "       [-0.86434746],\n",
       "       [-1.0544257 ],\n",
       "       [-0.9032775 ],\n",
       "       [-0.9800118 ],\n",
       "       [-0.9153123 ],\n",
       "       [-0.8863015 ],\n",
       "       [-0.9736341 ],\n",
       "       [-0.84312564],\n",
       "       [-1.1821557 ],\n",
       "       [-0.66222215],\n",
       "       [-1.3690128 ],\n",
       "       [-0.8857259 ],\n",
       "       [-1.1195177 ],\n",
       "       [-1.2427324 ],\n",
       "       [-0.9200841 ],\n",
       "       [-0.91196847],\n",
       "       [-1.2092752 ],\n",
       "       [-0.8309208 ],\n",
       "       [-0.99089533],\n",
       "       [-1.0691628 ],\n",
       "       [-0.8454728 ],\n",
       "       [-0.71487963],\n",
       "       [-0.7016877 ],\n",
       "       [-1.127358  ],\n",
       "       [-1.0556061 ],\n",
       "       [-0.9110218 ],\n",
       "       [-0.93106425],\n",
       "       [-1.0992675 ],\n",
       "       [-1.1239197 ],\n",
       "       [-1.1118255 ],\n",
       "       [-0.86084265],\n",
       "       [-1.0934094 ],\n",
       "       [-0.9648571 ],\n",
       "       [-0.82450676],\n",
       "       [-1.0166547 ],\n",
       "       [-0.89866304],\n",
       "       [-0.89032507],\n",
       "       [-0.41888034],\n",
       "       [-0.79963195],\n",
       "       [-0.8845896 ],\n",
       "       [-0.8148356 ],\n",
       "       [-0.96953154],\n",
       "       [-0.79493237],\n",
       "       [-0.93182766],\n",
       "       [-0.98365414],\n",
       "       [-1.1821358 ],\n",
       "       [-0.8482874 ],\n",
       "       [-0.84366554],\n",
       "       [-0.9002844 ],\n",
       "       [-0.8869945 ],\n",
       "       [-0.8294215 ],\n",
       "       [-1.1379093 ],\n",
       "       [-1.3252716 ],\n",
       "       [-0.95589995],\n",
       "       [-0.8067251 ],\n",
       "       [-1.0169318 ],\n",
       "       [-0.90452236],\n",
       "       [-0.93311024],\n",
       "       [-1.1062174 ],\n",
       "       [-0.7694511 ],\n",
       "       [-0.8233117 ],\n",
       "       [-1.0058379 ],\n",
       "       [-1.0189195 ],\n",
       "       [-0.83966255],\n",
       "       [-0.86387986],\n",
       "       [-1.0120581 ],\n",
       "       [-0.7749228 ],\n",
       "       [-0.9825785 ],\n",
       "       [-0.9751081 ],\n",
       "       [-0.8746085 ],\n",
       "       [-0.6893494 ],\n",
       "       [-0.91616136],\n",
       "       [-1.2690022 ],\n",
       "       [-1.2091603 ],\n",
       "       [-1.0008804 ],\n",
       "       [-0.994101  ],\n",
       "       [-0.83400035],\n",
       "       [-0.83564746],\n",
       "       [-0.8703548 ],\n",
       "       [-0.93191624],\n",
       "       [-1.1258737 ],\n",
       "       [-0.8973874 ],\n",
       "       [-1.1145285 ],\n",
       "       [-0.8958204 ],\n",
       "       [-1.0395615 ],\n",
       "       [-1.0615916 ],\n",
       "       [-0.91180134],\n",
       "       [-1.0456914 ],\n",
       "       [-0.8880316 ],\n",
       "       [-0.9294127 ],\n",
       "       [-0.7461518 ],\n",
       "       [-0.693582  ],\n",
       "       [-0.9562034 ],\n",
       "       [-1.1141303 ],\n",
       "       [-1.1493521 ],\n",
       "       [-1.0765437 ],\n",
       "       [-0.9463985 ],\n",
       "       [-0.713082  ],\n",
       "       [-0.5231085 ],\n",
       "       [-1.1084368 ],\n",
       "       [-0.8174194 ],\n",
       "       [-0.86089766],\n",
       "       [-1.0467182 ],\n",
       "       [-1.2626069 ],\n",
       "       [-0.87500054],\n",
       "       [-0.7241103 ],\n",
       "       [-0.97167915],\n",
       "       [-0.5013396 ],\n",
       "       [-1.1514966 ],\n",
       "       [-0.8388338 ],\n",
       "       [-1.121726  ],\n",
       "       [-0.78458023],\n",
       "       [-0.8540343 ],\n",
       "       [-1.0334929 ],\n",
       "       [-0.93339187],\n",
       "       [-0.744488  ],\n",
       "       [-0.8329896 ],\n",
       "       [-0.9399462 ],\n",
       "       [-0.79360473],\n",
       "       [-0.81434983],\n",
       "       [-1.1343384 ],\n",
       "       [-0.99063814],\n",
       "       [-0.6116015 ],\n",
       "       [-0.98144114],\n",
       "       [-1.0253274 ],\n",
       "       [-0.7254912 ],\n",
       "       [-0.63460064],\n",
       "       [-0.8650704 ],\n",
       "       [-0.9006175 ],\n",
       "       [-0.938163  ],\n",
       "       [-1.1286715 ],\n",
       "       [-0.81679606],\n",
       "       [-0.8007903 ],\n",
       "       [-1.0026972 ],\n",
       "       [-1.1732137 ],\n",
       "       [-0.96713454],\n",
       "       [-0.9275665 ],\n",
       "       [-0.8560095 ],\n",
       "       [-1.2101185 ],\n",
       "       [-0.62628627],\n",
       "       [-0.94170666],\n",
       "       [-1.0804229 ],\n",
       "       [-0.7623875 ],\n",
       "       [-0.8768407 ],\n",
       "       [-0.7605877 ],\n",
       "       [-0.86148137],\n",
       "       [-1.2236936 ],\n",
       "       [-0.81598926],\n",
       "       [-1.0032765 ],\n",
       "       [-0.8269398 ],\n",
       "       [-0.88416696],\n",
       "       [-0.91519666]], dtype=float32)"
      ]
     },
     "execution_count": 12,
     "metadata": {},
     "output_type": "execute_result"
    }
   ],
   "source": [
    "predictions"
   ]
  },
  {
   "cell_type": "code",
   "execution_count": 13,
   "metadata": {
    "ExecuteTime": {
     "end_time": "2023-01-20T00:34:15.041777Z",
     "start_time": "2023-01-20T00:34:15.029777Z"
    }
   },
   "outputs": [
    {
     "data": {
      "text/plain": [
       "0"
      ]
     },
     "execution_count": 13,
     "metadata": {},
     "output_type": "execute_result"
    }
   ],
   "source": [
    "predicted_classes.sum()"
   ]
  },
  {
   "cell_type": "code",
   "execution_count": 18,
   "metadata": {
    "ExecuteTime": {
     "end_time": "2023-01-19T18:22:49.159534Z",
     "start_time": "2023-01-19T18:22:49.151030Z"
    }
   },
   "outputs": [],
   "source": [
    "true_classes = test_set.classes\n",
    "class_labels = list(test_set.class_indices.keys())   "
   ]
  },
  {
   "cell_type": "code",
   "execution_count": 21,
   "metadata": {
    "ExecuteTime": {
     "end_time": "2023-01-19T18:23:02.102858Z",
     "start_time": "2023-01-19T18:23:02.070864Z"
    }
   },
   "outputs": [
    {
     "name": "stdout",
     "output_type": "stream",
     "text": [
      "              precision    recall  f1-score   support\n",
      "\n",
      "      NORMAL       0.38      1.00      0.55       234\n",
      "   PNEUMONIA       0.00      0.00      0.00       390\n",
      "\n",
      "    accuracy                           0.38       624\n",
      "   macro avg       0.19      0.50      0.27       624\n",
      "weighted avg       0.14      0.38      0.20       624\n",
      "\n"
     ]
    },
    {
     "name": "stderr",
     "output_type": "stream",
     "text": [
      "C:\\Users\\aiden.local\\anaconda3\\envs\\learn-env\\lib\\site-packages\\sklearn\\metrics\\_classification.py:1221: UndefinedMetricWarning: Precision and F-score are ill-defined and being set to 0.0 in labels with no predicted samples. Use `zero_division` parameter to control this behavior.\n",
      "  _warn_prf(average, modifier, msg_start, len(result))\n"
     ]
    }
   ],
   "source": [
    "report = classification_report(true_classes, predicted_classes, target_names=class_labels)\n",
    "print(report)    "
   ]
  },
  {
   "cell_type": "code",
   "execution_count": null,
   "metadata": {},
   "outputs": [],
   "source": []
  },
  {
   "cell_type": "code",
   "execution_count": 99,
   "metadata": {
    "ExecuteTime": {
     "end_time": "2023-01-18T22:24:41.779337Z",
     "start_time": "2023-01-18T22:24:41.766336Z"
    }
   },
   "outputs": [],
   "source": [
    "##########################################"
   ]
  },
  {
   "cell_type": "code",
   "execution_count": 100,
   "metadata": {
    "ExecuteTime": {
     "end_time": "2023-01-18T22:24:56.395840Z",
     "start_time": "2023-01-18T22:24:41.782839Z"
    }
   },
   "outputs": [
    {
     "name": "stdout",
     "output_type": "stream",
     "text": [
      " 20/124 [===>..........................] - ETA: 1:07 - loss: 0.4239 - accuracy: 0.8301WARNING:tensorflow:Your input ran out of data; interrupting training. Make sure that your dataset or generator can generate at least `steps_per_epoch * epochs` batches (in this case, 124 batches). You may need to use the repeat() function when building your dataset.\n",
      " 20/124 [===>..........................] - 13s 651ms/step - loss: 0.4239 - accuracy: 0.8301\n",
      "The testing accuracy is : 83.01281929016113 %\n"
     ]
    }
   ],
   "source": [
    "######################## del\n",
    "test_accu = model.evaluate(test_set, steps=124)\n",
    "print('The testing accuracy is :', test_accu[1]*100, '%')"
   ]
  },
  {
   "cell_type": "code",
   "execution_count": 101,
   "metadata": {
    "ExecuteTime": {
     "end_time": "2023-01-18T22:25:11.167181Z",
     "start_time": "2023-01-18T22:24:56.398335Z"
    }
   },
   "outputs": [
    {
     "name": "stdout",
     "output_type": "stream",
     "text": [
      "WARNING:tensorflow:From <ipython-input-101-86dde53dcd29>:2: Model.evaluate_generator (from tensorflow.python.keras.engine.training) is deprecated and will be removed in a future version.\n",
      "Instructions for updating:\n",
      "Please use Model.evaluate, which supports generators.\n",
      "WARNING:tensorflow:Your input ran out of data; interrupting training. Make sure that your dataset or generator can generate at least `steps_per_epoch * epochs` batches (in this case, 624 batches). You may need to use the repeat() function when building your dataset.\n",
      "The testing accuracy is : 83.01281929016113 %\n"
     ]
    }
   ],
   "source": [
    "######################## del\n",
    "test_accu = model.evaluate_generator(test_set, steps=624)\n",
    "print('The testing accuracy is :', test_accu[1]*100, '%')"
   ]
  },
  {
   "cell_type": "code",
   "execution_count": 102,
   "metadata": {
    "ExecuteTime": {
     "end_time": "2023-01-18T22:25:11.182683Z",
     "start_time": "2023-01-18T22:25:11.169686Z"
    }
   },
   "outputs": [],
   "source": [
    "#########################################################"
   ]
  },
  {
   "cell_type": "code",
   "execution_count": 103,
   "metadata": {
    "ExecuteTime": {
     "end_time": "2023-01-18T22:25:11.725184Z",
     "start_time": "2023-01-18T22:25:11.185684Z"
    }
   },
   "outputs": [],
   "source": [
    "transfer_model = keras.applications.VGG16(\n",
    "    weights='imagenet',  # Load weights pre-trained on ImageNet.\n",
    "    input_shape=(150, 150, 3),\n",
    "    include_top=False)  # Do not include the ImageNet classifier at the top."
   ]
  },
  {
   "cell_type": "code",
   "execution_count": 104,
   "metadata": {
    "ExecuteTime": {
     "end_time": "2023-01-18T22:25:11.865184Z",
     "start_time": "2023-01-18T22:25:11.731192Z"
    }
   },
   "outputs": [],
   "source": [
    "# Create a new model on top of transfer model\n",
    "inputs = keras.Input(shape=(150, 150, 3))\n",
    "#  transfer_model is running in inference mode by passing `training=False`. \n",
    "x = transfer_model(inputs, training=False)\n",
    "# Convert features of shape `transfer_model.output_shape[1:]` to vectors\n",
    "x = keras.layers.GlobalAveragePooling2D()(x)\n",
    "# A Dense classifier with a single unit (binary classification)\n",
    "outputs = keras.layers.Dense(1)(x)\n",
    "model = keras.Model(inputs, outputs)"
   ]
  },
  {
   "cell_type": "code",
   "execution_count": 105,
   "metadata": {
    "ExecuteTime": {
     "end_time": "2023-01-18T22:25:11.895686Z",
     "start_time": "2023-01-18T22:25:11.868185Z"
    }
   },
   "outputs": [],
   "source": [
    "# Compile the model\n",
    "model.compile(\n",
    "    optimizer = 'adam',\n",
    "    loss = 'binary_crossentropy',\n",
    "    metrics = ['accuracy'])"
   ]
  },
  {
   "cell_type": "code",
   "execution_count": 106,
   "metadata": {
    "ExecuteTime": {
     "end_time": "2023-01-19T03:07:22.878085Z",
     "start_time": "2023-01-18T22:25:11.898690Z"
    }
   },
   "outputs": [
    {
     "name": "stdout",
     "output_type": "stream",
     "text": [
      "Epoch 1/50\n",
      "163/163 [==============================] - 337s 2s/step - loss: 11.3948 - accuracy: 0.2604 - val_loss: 7.7125 - val_accuracy: 0.5000\n",
      "Epoch 2/50\n",
      "163/163 [==============================] - 335s 2s/step - loss: 11.4593 - accuracy: 0.2571 - val_loss: 7.7125 - val_accuracy: 0.5000\n",
      "Epoch 3/50\n",
      "163/163 [==============================] - 338s 2s/step - loss: 11.4593 - accuracy: 0.2571 - val_loss: 7.7125 - val_accuracy: 0.5000\n",
      "Epoch 4/50\n",
      "163/163 [==============================] - 351s 2s/step - loss: 11.4593 - accuracy: 0.2571 - val_loss: 7.7125 - val_accuracy: 0.5000\n",
      "Epoch 5/50\n",
      "163/163 [==============================] - 344s 2s/step - loss: 11.4593 - accuracy: 0.2571 - val_loss: 7.7125 - val_accuracy: 0.5000\n",
      "Epoch 6/50\n",
      "163/163 [==============================] - 338s 2s/step - loss: 11.4593 - accuracy: 0.2571 - val_loss: 7.7125 - val_accuracy: 0.5000\n",
      "Epoch 7/50\n",
      "163/163 [==============================] - 338s 2s/step - loss: 11.4593 - accuracy: 0.2571 - val_loss: 7.7125 - val_accuracy: 0.5000\n",
      "Epoch 8/50\n",
      "163/163 [==============================] - 338s 2s/step - loss: 11.4593 - accuracy: 0.2571 - val_loss: 7.7125 - val_accuracy: 0.5000\n",
      "Epoch 9/50\n",
      "163/163 [==============================] - 337s 2s/step - loss: 11.4593 - accuracy: 0.2571 - val_loss: 7.7125 - val_accuracy: 0.5000\n",
      "Epoch 10/50\n",
      "163/163 [==============================] - 339s 2s/step - loss: 11.4593 - accuracy: 0.2571 - val_loss: 7.7125 - val_accuracy: 0.5000\n",
      "Epoch 11/50\n",
      "163/163 [==============================] - 337s 2s/step - loss: 11.4593 - accuracy: 0.2571 - val_loss: 7.7125 - val_accuracy: 0.5000\n",
      "Epoch 12/50\n",
      "163/163 [==============================] - 338s 2s/step - loss: 11.4593 - accuracy: 0.2571 - val_loss: 7.7125 - val_accuracy: 0.5000\n",
      "Epoch 13/50\n",
      "163/163 [==============================] - 339s 2s/step - loss: 11.4593 - accuracy: 0.2571 - val_loss: 7.7125 - val_accuracy: 0.5000\n",
      "Epoch 14/50\n",
      "163/163 [==============================] - 338s 2s/step - loss: 11.4593 - accuracy: 0.2571 - val_loss: 7.7125 - val_accuracy: 0.5000\n",
      "Epoch 15/50\n",
      "163/163 [==============================] - 336s 2s/step - loss: 11.4593 - accuracy: 0.2571 - val_loss: 7.7125 - val_accuracy: 0.5000\n",
      "Epoch 16/50\n",
      "163/163 [==============================] - 335s 2s/step - loss: 11.4593 - accuracy: 0.2571 - val_loss: 7.7125 - val_accuracy: 0.5000\n",
      "Epoch 17/50\n",
      "163/163 [==============================] - 334s 2s/step - loss: 11.4593 - accuracy: 0.2571 - val_loss: 7.7125 - val_accuracy: 0.5000\n",
      "Epoch 18/50\n",
      "163/163 [==============================] - 335s 2s/step - loss: 11.4593 - accuracy: 0.2571 - val_loss: 7.7125 - val_accuracy: 0.5000\n",
      "Epoch 19/50\n",
      "163/163 [==============================] - 334s 2s/step - loss: 11.4593 - accuracy: 0.2571 - val_loss: 7.7125 - val_accuracy: 0.5000\n",
      "Epoch 20/50\n",
      "163/163 [==============================] - 334s 2s/step - loss: 11.4593 - accuracy: 0.2571 - val_loss: 7.7125 - val_accuracy: 0.5000\n",
      "Epoch 21/50\n",
      "163/163 [==============================] - 335s 2s/step - loss: 11.4593 - accuracy: 0.2571 - val_loss: 7.7125 - val_accuracy: 0.5000\n",
      "Epoch 22/50\n",
      "163/163 [==============================] - 334s 2s/step - loss: 11.4593 - accuracy: 0.2571 - val_loss: 7.7125 - val_accuracy: 0.5000\n",
      "Epoch 23/50\n",
      "163/163 [==============================] - 334s 2s/step - loss: 11.4593 - accuracy: 0.2571 - val_loss: 7.7125 - val_accuracy: 0.5000\n",
      "Epoch 24/50\n",
      "163/163 [==============================] - 336s 2s/step - loss: 11.4593 - accuracy: 0.2571 - val_loss: 7.7125 - val_accuracy: 0.5000\n",
      "Epoch 25/50\n",
      "163/163 [==============================] - 334s 2s/step - loss: 11.4593 - accuracy: 0.2571 - val_loss: 7.7125 - val_accuracy: 0.5000\n",
      "Epoch 26/50\n",
      "163/163 [==============================] - 334s 2s/step - loss: 11.4593 - accuracy: 0.2571 - val_loss: 7.7125 - val_accuracy: 0.5000\n",
      "Epoch 27/50\n",
      "163/163 [==============================] - 334s 2s/step - loss: 11.4593 - accuracy: 0.2571 - val_loss: 7.7125 - val_accuracy: 0.5000\n",
      "Epoch 28/50\n",
      "163/163 [==============================] - 335s 2s/step - loss: 11.4593 - accuracy: 0.2571 - val_loss: 7.7125 - val_accuracy: 0.5000\n",
      "Epoch 29/50\n",
      "163/163 [==============================] - 335s 2s/step - loss: 11.4593 - accuracy: 0.2571 - val_loss: 7.7125 - val_accuracy: 0.5000\n",
      "Epoch 30/50\n",
      "163/163 [==============================] - 335s 2s/step - loss: 11.4593 - accuracy: 0.2571 - val_loss: 7.7125 - val_accuracy: 0.5000\n",
      "Epoch 31/50\n",
      "163/163 [==============================] - 335s 2s/step - loss: 11.4593 - accuracy: 0.2571 - val_loss: 7.7125 - val_accuracy: 0.5000\n",
      "Epoch 32/50\n",
      "163/163 [==============================] - 336s 2s/step - loss: 11.4593 - accuracy: 0.2571 - val_loss: 7.7125 - val_accuracy: 0.5000\n",
      "Epoch 33/50\n",
      "163/163 [==============================] - 335s 2s/step - loss: 11.4593 - accuracy: 0.2571 - val_loss: 7.7125 - val_accuracy: 0.5000\n",
      "Epoch 34/50\n",
      "163/163 [==============================] - 335s 2s/step - loss: 11.4593 - accuracy: 0.2571 - val_loss: 7.7125 - val_accuracy: 0.5000\n",
      "Epoch 35/50\n",
      "163/163 [==============================] - 335s 2s/step - loss: 11.4593 - accuracy: 0.2571 - val_loss: 7.7125 - val_accuracy: 0.5000\n",
      "Epoch 36/50\n",
      "163/163 [==============================] - 335s 2s/step - loss: 11.4593 - accuracy: 0.2571 - val_loss: 7.7125 - val_accuracy: 0.5000\n",
      "Epoch 37/50\n",
      "163/163 [==============================] - 336s 2s/step - loss: 11.4593 - accuracy: 0.2571 - val_loss: 7.7125 - val_accuracy: 0.5000\n",
      "Epoch 38/50\n",
      "163/163 [==============================] - 333s 2s/step - loss: 11.4593 - accuracy: 0.2571 - val_loss: 7.7125 - val_accuracy: 0.5000\n",
      "Epoch 39/50\n",
      "163/163 [==============================] - 335s 2s/step - loss: 11.4593 - accuracy: 0.2571 - val_loss: 7.7125 - val_accuracy: 0.5000\n",
      "Epoch 40/50\n",
      "163/163 [==============================] - 336s 2s/step - loss: 11.4593 - accuracy: 0.2571 - val_loss: 7.7125 - val_accuracy: 0.5000\n",
      "Epoch 41/50\n",
      "163/163 [==============================] - 334s 2s/step - loss: 11.4593 - accuracy: 0.2571 - val_loss: 7.7125 - val_accuracy: 0.5000\n",
      "Epoch 42/50\n",
      "163/163 [==============================] - 335s 2s/step - loss: 11.4593 - accuracy: 0.2571 - val_loss: 7.7125 - val_accuracy: 0.5000\n",
      "Epoch 43/50\n",
      "163/163 [==============================] - 334s 2s/step - loss: 11.4593 - accuracy: 0.2571 - val_loss: 7.7125 - val_accuracy: 0.5000\n",
      "Epoch 44/50\n",
      "163/163 [==============================] - 334s 2s/step - loss: 11.4593 - accuracy: 0.2571 - val_loss: 7.7125 - val_accuracy: 0.5000\n",
      "Epoch 45/50\n",
      "163/163 [==============================] - 334s 2s/step - loss: 11.4593 - accuracy: 0.2571 - val_loss: 7.7125 - val_accuracy: 0.5000\n",
      "Epoch 46/50\n",
      "163/163 [==============================] - 334s 2s/step - loss: 11.4593 - accuracy: 0.2571 - val_loss: 7.7125 - val_accuracy: 0.5000\n",
      "Epoch 47/50\n",
      "163/163 [==============================] - 334s 2s/step - loss: 11.4593 - accuracy: 0.2571 - val_loss: 7.7125 - val_accuracy: 0.5000\n",
      "Epoch 48/50\n",
      "163/163 [==============================] - 334s 2s/step - loss: 11.4593 - accuracy: 0.2571 - val_loss: 7.7125 - val_accuracy: 0.5000\n",
      "Epoch 49/50\n",
      "163/163 [==============================] - 334s 2s/step - loss: 11.4593 - accuracy: 0.2571 - val_loss: 7.7125 - val_accuracy: 0.5000\n",
      "Epoch 50/50\n",
      "163/163 [==============================] - 335s 2s/step - loss: 11.4593 - accuracy: 0.2571 - val_loss: 7.7125 - val_accuracy: 0.5000\n"
     ]
    }
   ],
   "source": [
    "# fit model \n",
    "history4 = model.fit(\n",
    "    training_set, \n",
    "    steps_per_epoch = 163,\n",
    "    epochs = 50,\n",
    "    validation_data = validation_set,\n",
    "    class_weight={0:2.8 , 1:1}) # <--------------------------"
   ]
  },
  {
   "cell_type": "code",
   "execution_count": 107,
   "metadata": {
    "ExecuteTime": {
     "end_time": "2023-01-19T03:07:22.893582Z",
     "start_time": "2023-01-19T03:07:22.881084Z"
    }
   },
   "outputs": [],
   "source": [
    "####"
   ]
  },
  {
   "cell_type": "code",
   "execution_count": 108,
   "metadata": {
    "ExecuteTime": {
     "end_time": "2023-01-19T03:07:23.234583Z",
     "start_time": "2023-01-19T03:07:22.896583Z"
    }
   },
   "outputs": [
    {
     "data": {
      "image/png": "[encoded data removed]",
      "text/plain": [
       "<Figure size 432x288 with 1 Axes>"
      ]
     },
     "metadata": {
      "needs_background": "light"
     },
     "output_type": "display_data"
    }
   ],
   "source": [
    "# Accuracy \n",
    "plt.plot(history4.history['accuracy'])\n",
    "plt.plot(history4.history['val_accuracy'])\n",
    "plt.title('Model Accuracy')\n",
    "plt.ylabel('Accuracy')\n",
    "plt.xlabel('Epoch')\n",
    "plt.legend(['Training set', 'Validation set'], loc='upper left')\n",
    "plt.show()"
   ]
  },
  {
   "cell_type": "code",
   "execution_count": null,
   "metadata": {
    "ExecuteTime": {
     "start_time": "2023-01-18T21:29:33.645Z"
    }
   },
   "outputs": [
    {
     "name": "stdout",
     "output_type": "stream",
     "text": [
      "Epoch 1/20\n",
      "163/163 [==============================] - 335s 2s/step - loss: 8873935.0000 - binary_accuracy: 0.5203 - val_loss: 43969.8203 - val_binary_accuracy: 0.5000\n",
      "Epoch 2/20\n",
      "163/163 [==============================] - 336s 2s/step - loss: 25482.8730 - binary_accuracy: 0.6129 - val_loss: 4488.5029 - val_binary_accuracy: 0.5000\n",
      "Epoch 3/20\n",
      "163/163 [==============================] - 340s 2s/step - loss: 37852.0352 - binary_accuracy: 0.6179 - val_loss: 38989.3789 - val_binary_accuracy: 0.5000\n",
      "Epoch 4/20\n",
      "163/163 [==============================] - 334s 2s/step - loss: 42071.6836 - binary_accuracy: 0.6077 - val_loss: 89290.7188 - val_binary_accuracy: 0.5000\n",
      "Epoch 5/20\n",
      "163/163 [==============================] - 334s 2s/step - loss: 30935.6016 - binary_accuracy: 0.6131 - val_loss: 39839.0547 - val_binary_accuracy: 0.5000\n",
      "Epoch 6/20\n",
      "163/163 [==============================] - 335s 2s/step - loss: 40004.8281 - binary_accuracy: 0.6102 - val_loss: 24188.6855 - val_binary_accuracy: 0.5000\n",
      "Epoch 7/20\n",
      "163/163 [==============================] - 335s 2s/step - loss: 27369.6816 - binary_accuracy: 0.6191 - val_loss: 35494.0234 - val_binary_accuracy: 0.5000\n",
      "Epoch 8/20\n",
      "163/163 [==============================] - 335s 2s/step - loss: 24058.3223 - binary_accuracy: 0.6229 - val_loss: 47153.2773 - val_binary_accuracy: 0.5000\n",
      "Epoch 9/20\n",
      "163/163 [==============================] - 336s 2s/step - loss: 24847.4297 - binary_accuracy: 0.6123 - val_loss: 62793.6484 - val_binary_accuracy: 0.5000\n",
      "Epoch 10/20\n",
      "163/163 [==============================] - 334s 2s/step - loss: 25417.8613 - binary_accuracy: 0.6173 - val_loss: 14890.4941 - val_binary_accuracy: 0.5000\n",
      "Epoch 11/20\n",
      "163/163 [==============================] - 335s 2s/step - loss: 22345.6582 - binary_accuracy: 0.6145 - val_loss: 4966.2554 - val_binary_accuracy: 0.5000\n",
      "Epoch 12/20\n",
      "163/163 [==============================] - 336s 2s/step - loss: 17822.6484 - binary_accuracy: 0.6131 - val_loss: 3247.5806 - val_binary_accuracy: 0.5000\n",
      "Epoch 13/20\n",
      "163/163 [==============================] - 334s 2s/step - loss: 8607.0762 - binary_accuracy: 0.6139 - val_loss: 11192.1768 - val_binary_accuracy: 0.5000\n",
      "Epoch 14/20\n",
      "163/163 [==============================] - 335s 2s/step - loss: 5601.8027 - binary_accuracy: 0.6192 - val_loss: 515.7845 - val_binary_accuracy: 0.3750\n",
      "Epoch 15/20\n",
      "128/163 [======================>.......] - ETA: 1:11 - loss: 6122.0718 - binary_accuracy: 0.6160"
     ]
    }
   ],
   "source": [
    "# Unfreeze the base model\n",
    "transfer_model.trainable = True\n",
    "\n",
    "# It's important to recompile your model after you make any changes\n",
    "# to the `trainable` attribute of any inner layer, so that your changes\n",
    "# are take into account\n",
    "model.compile(optimizer=keras.optimizers.Adam(1e-5), # Very low learning rate\n",
    "              loss=keras.losses.BinaryCrossentropy(from_logits=True),\n",
    "              metrics=[keras.metrics.BinaryAccuracy()])\n",
    "\n",
    "# Train end-to-end. Be careful to stop before you overfit!\n",
    "history42 = model.fit(\n",
    "    training_set, \n",
    "    epochs=20, \n",
    "    validation_data=validation_set)\n"
   ]
  },
  {
   "cell_type": "code",
   "execution_count": null,
   "metadata": {},
   "outputs": [],
   "source": []
  },
  {
   "cell_type": "code",
   "execution_count": null,
   "metadata": {},
   "outputs": [],
   "source": []
  },
  {
   "cell_type": "code",
   "execution_count": null,
   "metadata": {},
   "outputs": [],
   "source": []
  },
  {
   "cell_type": "code",
   "execution_count": null,
   "metadata": {},
   "outputs": [],
   "source": []
  },
  {
   "cell_type": "markdown",
   "metadata": {},
   "source": [
    "### VGG19"
   ]
  },
  {
   "cell_type": "code",
   "execution_count": null,
   "metadata": {
    "ExecuteTime": {
     "start_time": "2023-01-18T21:29:33.663Z"
    }
   },
   "outputs": [],
   "source": []
  },
  {
   "cell_type": "code",
   "execution_count": 22,
   "metadata": {
    "ExecuteTime": {
     "end_time": "2023-01-19T19:53:07.354579Z",
     "start_time": "2023-01-19T19:53:06.380614Z"
    }
   },
   "outputs": [],
   "source": [
    "transfer_model_vgg19 = keras.applications.VGG19(\n",
    "    weights='imagenet',  # Load weights pre-trained on ImageNet.\n",
    "    input_shape=(150, 150, 3),\n",
    "    include_top=False)  # Do not include the ImageNet classifier at the top."
   ]
  },
  {
   "cell_type": "code",
   "execution_count": 23,
   "metadata": {
    "ExecuteTime": {
     "end_time": "2023-01-19T19:53:07.385579Z",
     "start_time": "2023-01-19T19:53:07.358587Z"
    }
   },
   "outputs": [
    {
     "name": "stdout",
     "output_type": "stream",
     "text": [
      "Model: \"vgg19\"\n",
      "_________________________________________________________________\n",
      "Layer (type)                 Output Shape              Param #   \n",
      "=================================================================\n",
      "input_3 (InputLayer)         [(None, 150, 150, 3)]     0         \n",
      "_________________________________________________________________\n",
      "block1_conv1 (Conv2D)        (None, 150, 150, 64)      1792      \n",
      "_________________________________________________________________\n",
      "block1_conv2 (Conv2D)        (None, 150, 150, 64)      36928     \n",
      "_________________________________________________________________\n",
      "block1_pool (MaxPooling2D)   (None, 75, 75, 64)        0         \n",
      "_________________________________________________________________\n",
      "block2_conv1 (Conv2D)        (None, 75, 75, 128)       73856     \n",
      "_________________________________________________________________\n",
      "block2_conv2 (Conv2D)        (None, 75, 75, 128)       147584    \n",
      "_________________________________________________________________\n",
      "block2_pool (MaxPooling2D)   (None, 37, 37, 128)       0         \n",
      "_________________________________________________________________\n",
      "block3_conv1 (Conv2D)        (None, 37, 37, 256)       295168    \n",
      "_________________________________________________________________\n",
      "block3_conv2 (Conv2D)        (None, 37, 37, 256)       590080    \n",
      "_________________________________________________________________\n",
      "block3_conv3 (Conv2D)        (None, 37, 37, 256)       590080    \n",
      "_________________________________________________________________\n",
      "block3_conv4 (Conv2D)        (None, 37, 37, 256)       590080    \n",
      "_________________________________________________________________\n",
      "block3_pool (MaxPooling2D)   (None, 18, 18, 256)       0         \n",
      "_________________________________________________________________\n",
      "block4_conv1 (Conv2D)        (None, 18, 18, 512)       1180160   \n",
      "_________________________________________________________________\n",
      "block4_conv2 (Conv2D)        (None, 18, 18, 512)       2359808   \n",
      "_________________________________________________________________\n",
      "block4_conv3 (Conv2D)        (None, 18, 18, 512)       2359808   \n",
      "_________________________________________________________________\n",
      "block4_conv4 (Conv2D)        (None, 18, 18, 512)       2359808   \n",
      "_________________________________________________________________\n",
      "block4_pool (MaxPooling2D)   (None, 9, 9, 512)         0         \n",
      "_________________________________________________________________\n",
      "block5_conv1 (Conv2D)        (None, 9, 9, 512)         2359808   \n",
      "_________________________________________________________________\n",
      "block5_conv2 (Conv2D)        (None, 9, 9, 512)         2359808   \n",
      "_________________________________________________________________\n",
      "block5_conv3 (Conv2D)        (None, 9, 9, 512)         2359808   \n",
      "_________________________________________________________________\n",
      "block5_conv4 (Conv2D)        (None, 9, 9, 512)         2359808   \n",
      "_________________________________________________________________\n",
      "block5_pool (MaxPooling2D)   (None, 4, 4, 512)         0         \n",
      "=================================================================\n",
      "Total params: 20,024,384\n",
      "Trainable params: 20,024,384\n",
      "Non-trainable params: 0\n",
      "_________________________________________________________________\n"
     ]
    }
   ],
   "source": [
    "transfer_model_vgg19.summary()"
   ]
  },
  {
   "cell_type": "code",
   "execution_count": 24,
   "metadata": {
    "ExecuteTime": {
     "end_time": "2023-01-19T19:53:07.401077Z",
     "start_time": "2023-01-19T19:53:07.389587Z"
    }
   },
   "outputs": [],
   "source": [
    "# Free the transfer model\n",
    "transfer_model_vgg19.trainable = False"
   ]
  },
  {
   "cell_type": "code",
   "execution_count": 25,
   "metadata": {
    "ExecuteTime": {
     "end_time": "2023-01-19T19:53:07.556074Z",
     "start_time": "2023-01-19T19:53:07.404077Z"
    }
   },
   "outputs": [],
   "source": [
    "# Create a new model on top of transfer model\n",
    "inputs = keras.Input(shape=(150, 150, 3))\n",
    "#  transfer_model is running in inference mode by passing `training=False`. \n",
    "x = transfer_model_vgg19(inputs, training=False)\n",
    "# Convert features of shape `transfer_model.output_shape[1:]` to vectors\n",
    "x = keras.layers.GlobalAveragePooling2D()(x)\n",
    "# A Dense classifier with a single unit (binary classification)\n",
    "outputs = keras.layers.Dense(1)(x)\n",
    "model_vgg19 = keras.Model(inputs, outputs)"
   ]
  },
  {
   "cell_type": "code",
   "execution_count": 26,
   "metadata": {
    "ExecuteTime": {
     "end_time": "2023-01-19T19:53:07.587074Z",
     "start_time": "2023-01-19T19:53:07.559578Z"
    }
   },
   "outputs": [],
   "source": [
    "# Compile the model\n",
    "model_vgg19.compile(\n",
    "    optimizer = 'adam',\n",
    "    loss = 'binary_crossentropy',\n",
    "    metrics = ['accuracy'])"
   ]
  },
  {
   "cell_type": "code",
   "execution_count": 27,
   "metadata": {
    "ExecuteTime": {
     "end_time": "2023-01-19T19:58:48.283657Z",
     "start_time": "2023-01-19T19:53:07.590576Z"
    }
   },
   "outputs": [
    {
     "name": "stdout",
     "output_type": "stream",
     "text": [
      "Epoch 1/2\n",
      "163/163 [==============================] - 197s 1s/step - loss: 0.7074 - accuracy: 0.7966 - val_loss: 0.3364 - val_accuracy: 0.8750\n",
      "Epoch 2/2\n",
      "163/163 [==============================] - 138s 846ms/step - loss: 0.5236 - accuracy: 0.8712 - val_loss: 0.3115 - val_accuracy: 0.8750\n"
     ]
    }
   ],
   "source": [
    "# fit model \n",
    "history_vgg19 = model_vgg19.fit(\n",
    "    training_set, \n",
    "    steps_per_epoch = 163,\n",
    "    epochs = 2,\n",
    "    validation_data = validation_set,\n",
    "    class_weight={0:2.8 , 1:1}) "
   ]
  },
  {
   "cell_type": "code",
   "execution_count": null,
   "metadata": {},
   "outputs": [],
   "source": []
  },
  {
   "cell_type": "code",
   "execution_count": null,
   "metadata": {},
   "outputs": [],
   "source": []
  },
  {
   "cell_type": "code",
   "execution_count": null,
   "metadata": {},
   "outputs": [],
   "source": []
  },
  {
   "cell_type": "code",
   "execution_count": null,
   "metadata": {},
   "outputs": [],
   "source": []
  },
  {
   "cell_type": "code",
   "execution_count": null,
   "metadata": {},
   "outputs": [],
   "source": []
  },
  {
   "cell_type": "code",
   "execution_count": null,
   "metadata": {},
   "outputs": [],
   "source": []
  },
  {
   "cell_type": "markdown",
   "metadata": {},
   "source": [
    "### Xception"
   ]
  },
  {
   "cell_type": "code",
   "execution_count": 28,
   "metadata": {
    "ExecuteTime": {
     "end_time": "2023-01-19T19:58:52.282381Z",
     "start_time": "2023-01-19T19:58:48.286153Z"
    }
   },
   "outputs": [],
   "source": [
    "# Transfer Model Xception\n",
    "tm_Xception = keras.applications.Xception(\n",
    "    weights='imagenet',  # Load weights pre-trained on ImageNet.\n",
    "    input_shape=(150, 150, 3),\n",
    "    include_top=False)  # Do not include the ImageNet classifier at the top."
   ]
  },
  {
   "cell_type": "code",
   "execution_count": 29,
   "metadata": {
    "ExecuteTime": {
     "end_time": "2023-01-19T19:58:52.313374Z",
     "start_time": "2023-01-19T19:58:52.287377Z"
    }
   },
   "outputs": [],
   "source": [
    "tm_Xception.trainable = False"
   ]
  },
  {
   "cell_type": "code",
   "execution_count": 30,
   "metadata": {
    "ExecuteTime": {
     "end_time": "2023-01-19T19:58:52.964359Z",
     "start_time": "2023-01-19T19:58:52.320872Z"
    }
   },
   "outputs": [],
   "source": [
    "inputs = keras.Input(shape=(150, 150, 3))\n",
    "#  transfer_model is running in inference mode by passing `training=False`. \n",
    "x = tm_Xception(inputs, training=False)\n",
    "# Convert features of shape `transfer_model.output_shape[1:]` to vectors\n",
    "x = keras.layers.GlobalAveragePooling2D()(x)\n",
    "# A Dense classifier with a single unit (binary classification)\n",
    "outputs = keras.layers.Dense(1)(x)\n",
    "model_Xception = keras.Model(inputs, outputs)"
   ]
  },
  {
   "cell_type": "code",
   "execution_count": 31,
   "metadata": {
    "ExecuteTime": {
     "end_time": "2023-01-19T19:58:52.995359Z",
     "start_time": "2023-01-19T19:58:52.968859Z"
    }
   },
   "outputs": [],
   "source": [
    "# Compile the model\n",
    "model_Xception.compile(\n",
    "    optimizer = 'adam',\n",
    "    loss = 'binary_crossentropy',\n",
    "    metrics = ['accuracy'])"
   ]
  },
  {
   "cell_type": "code",
   "execution_count": 32,
   "metadata": {
    "ExecuteTime": {
     "end_time": "2023-01-19T20:04:35.335621Z",
     "start_time": "2023-01-19T19:58:52.998858Z"
    }
   },
   "outputs": [
    {
     "name": "stdout",
     "output_type": "stream",
     "text": [
      "Epoch 1/3\n",
      "163/163 [==============================] - 112s 690ms/step - loss: 2.0810 - accuracy: 0.6398 - val_loss: 0.4150 - val_accuracy: 0.7500\n",
      "Epoch 2/3\n",
      "163/163 [==============================] - 109s 670ms/step - loss: 1.1367 - accuracy: 0.7442 - val_loss: 0.3032 - val_accuracy: 0.9375\n",
      "Epoch 3/3\n",
      "163/163 [==============================] - 110s 678ms/step - loss: 1.5894 - accuracy: 0.7786 - val_loss: 0.2769 - val_accuracy: 0.9375\n"
     ]
    }
   ],
   "source": [
    "history_Xception = model_Xception.fit(\n",
    "    training_set, \n",
    "    steps_per_epoch = 163,\n",
    "    epochs = 3,\n",
    "    validation_data = validation_set,\n",
    "    class_weight={0:2.8 , 1:1}) "
   ]
  },
  {
   "cell_type": "code",
   "execution_count": 33,
   "metadata": {
    "ExecuteTime": {
     "end_time": "2023-01-19T21:38:19.614276Z",
     "start_time": "2023-01-19T20:04:35.338120Z"
    }
   },
   "outputs": [
    {
     "name": "stdout",
     "output_type": "stream",
     "text": [
      "Epoch 1/50\n",
      "163/163 [==============================] - 109s 671ms/step - loss: 2.9028 - accuracy: 0.7362 - val_loss: 2.3191 - val_accuracy: 0.7500\n",
      "Epoch 2/50\n",
      "163/163 [==============================] - 108s 660ms/step - loss: 2.1258 - accuracy: 0.7766 - val_loss: 2.0125 - val_accuracy: 0.8125\n",
      "Epoch 3/50\n",
      "163/163 [==============================] - 109s 667ms/step - loss: 2.1937 - accuracy: 0.8313 - val_loss: 1.1427 - val_accuracy: 0.8125\n",
      "Epoch 4/50\n",
      "163/163 [==============================] - 108s 664ms/step - loss: 2.0779 - accuracy: 0.7565 - val_loss: 1.2793 - val_accuracy: 0.8125\n",
      "Epoch 5/50\n",
      "163/163 [==============================] - 109s 670ms/step - loss: 1.3367 - accuracy: 0.8217 - val_loss: 1.0551 - val_accuracy: 0.8750\n",
      "Epoch 6/50\n",
      "163/163 [==============================] - 110s 674ms/step - loss: 1.5394 - accuracy: 0.8393 - val_loss: 6.8038 - val_accuracy: 0.5000\n",
      "Epoch 7/50\n",
      "163/163 [==============================] - 110s 673ms/step - loss: 10.9085 - accuracy: 0.7423 - val_loss: 7.6246 - val_accuracy: 0.5000\n",
      "Epoch 8/50\n",
      "163/163 [==============================] - 110s 677ms/step - loss: 10.9219 - accuracy: 0.7429 - val_loss: 7.6246 - val_accuracy: 0.5000\n",
      "Epoch 9/50\n",
      "163/163 [==============================] - 110s 676ms/step - loss: 10.9313 - accuracy: 0.7427 - val_loss: 7.6246 - val_accuracy: 0.5000\n",
      "Epoch 10/50\n",
      "163/163 [==============================] - 111s 681ms/step - loss: 10.8880 - accuracy: 0.7427 - val_loss: 7.6246 - val_accuracy: 0.5000\n",
      "Epoch 11/50\n",
      "163/163 [==============================] - 111s 684ms/step - loss: 10.9133 - accuracy: 0.7431 - val_loss: 7.6246 - val_accuracy: 0.5000\n",
      "Epoch 12/50\n",
      "163/163 [==============================] - 111s 683ms/step - loss: 10.8744 - accuracy: 0.7431 - val_loss: 7.6246 - val_accuracy: 0.5000\n",
      "Epoch 13/50\n",
      "163/163 [==============================] - 112s 685ms/step - loss: 10.8095 - accuracy: 0.7423 - val_loss: 7.6246 - val_accuracy: 0.5000\n",
      "Epoch 14/50\n",
      "163/163 [==============================] - 114s 698ms/step - loss: 10.5251 - accuracy: 0.7450 - val_loss: 6.7462 - val_accuracy: 0.5000\n",
      "Epoch 15/50\n",
      "163/163 [==============================] - 113s 693ms/step - loss: 5.7578 - accuracy: 0.7820 - val_loss: 0.3375 - val_accuracy: 0.8125\n",
      "Epoch 16/50\n",
      "163/163 [==============================] - 113s 695ms/step - loss: 2.1195 - accuracy: 0.8096 - val_loss: 0.1375 - val_accuracy: 0.9375\n",
      "Epoch 17/50\n",
      "163/163 [==============================] - 113s 691ms/step - loss: 1.6349 - accuracy: 0.8485 - val_loss: 0.0858 - val_accuracy: 0.9375\n",
      "Epoch 18/50\n",
      "163/163 [==============================] - 112s 685ms/step - loss: 1.3866 - accuracy: 0.8556 - val_loss: 0.0935 - val_accuracy: 0.9375\n",
      "Epoch 19/50\n",
      "163/163 [==============================] - 110s 676ms/step - loss: 1.4141 - accuracy: 0.8459 - val_loss: 0.1108 - val_accuracy: 1.0000\n",
      "Epoch 20/50\n",
      "163/163 [==============================] - 112s 685ms/step - loss: 4.7774 - accuracy: 0.6187 - val_loss: 6.7778 - val_accuracy: 0.5625\n",
      "Epoch 21/50\n",
      "163/163 [==============================] - 113s 692ms/step - loss: 5.0086 - accuracy: 0.5755 - val_loss: 0.1622 - val_accuracy: 0.9375\n",
      "Epoch 22/50\n",
      "163/163 [==============================] - 111s 681ms/step - loss: 3.4535 - accuracy: 0.6743 - val_loss: 0.0843 - val_accuracy: 1.0000\n",
      "Epoch 23/50\n",
      "163/163 [==============================] - 112s 686ms/step - loss: 2.4665 - accuracy: 0.7791 - val_loss: 0.9923 - val_accuracy: 0.9375\n",
      "Epoch 24/50\n",
      "163/163 [==============================] - 113s 695ms/step - loss: 2.1792 - accuracy: 0.8211 - val_loss: 0.9717 - val_accuracy: 0.9375\n",
      "Epoch 25/50\n",
      "163/163 [==============================] - 113s 693ms/step - loss: 2.1946 - accuracy: 0.7542 - val_loss: 1.0146 - val_accuracy: 0.8750\n",
      "Epoch 26/50\n",
      "163/163 [==============================] - 112s 689ms/step - loss: 1.9934 - accuracy: 0.8472 - val_loss: 5.8908 - val_accuracy: 0.5625\n",
      "Epoch 27/50\n",
      "163/163 [==============================] - 114s 696ms/step - loss: 5.0913 - accuracy: 0.8276 - val_loss: 1.0133 - val_accuracy: 0.9375\n",
      "Epoch 28/50\n",
      "163/163 [==============================] - 112s 688ms/step - loss: 2.2750 - accuracy: 0.8600 - val_loss: 0.9551 - val_accuracy: 0.9375\n",
      "Epoch 29/50\n",
      "163/163 [==============================] - 113s 696ms/step - loss: 2.1133 - accuracy: 0.8549 - val_loss: 0.0858 - val_accuracy: 0.9375\n",
      "Epoch 30/50\n",
      "163/163 [==============================] - 112s 685ms/step - loss: 1.7914 - accuracy: 0.8430 - val_loss: 0.1713 - val_accuracy: 0.9375\n",
      "Epoch 31/50\n",
      "163/163 [==============================] - 111s 683ms/step - loss: 2.1994 - accuracy: 0.7918 - val_loss: 0.0902 - val_accuracy: 0.9375\n",
      "Epoch 32/50\n",
      "163/163 [==============================] - 113s 691ms/step - loss: 1.7981 - accuracy: 0.8227 - val_loss: 0.0309 - val_accuracy: 1.0000\n",
      "Epoch 33/50\n",
      "163/163 [==============================] - 112s 688ms/step - loss: 1.6799 - accuracy: 0.8648 - val_loss: 1.9105 - val_accuracy: 0.8750\n",
      "Epoch 34/50\n",
      "163/163 [==============================] - 112s 686ms/step - loss: 1.7230 - accuracy: 0.8161 - val_loss: 0.2153 - val_accuracy: 0.8750\n",
      "Epoch 35/50\n",
      "163/163 [==============================] - 113s 691ms/step - loss: 1.4054 - accuracy: 0.8489 - val_loss: 0.1134 - val_accuracy: 1.0000\n",
      "Epoch 36/50\n",
      "163/163 [==============================] - 113s 692ms/step - loss: 1.3749 - accuracy: 0.8727 - val_loss: 1.0872 - val_accuracy: 0.8750\n",
      "Epoch 37/50\n",
      "163/163 [==============================] - 113s 692ms/step - loss: 1.2232 - accuracy: 0.8846 - val_loss: 0.1476 - val_accuracy: 0.8750\n",
      "Epoch 38/50\n",
      "163/163 [==============================] - 112s 685ms/step - loss: 1.2443 - accuracy: 0.8587 - val_loss: 0.3471 - val_accuracy: 0.8750\n",
      "Epoch 39/50\n",
      "163/163 [==============================] - 113s 693ms/step - loss: 1.1383 - accuracy: 0.8715 - val_loss: 1.1166 - val_accuracy: 0.8750\n",
      "Epoch 40/50\n",
      "163/163 [==============================] - 113s 693ms/step - loss: 1.7650 - accuracy: 0.8165 - val_loss: 0.2194 - val_accuracy: 0.9375\n",
      "Epoch 41/50\n",
      "163/163 [==============================] - 111s 682ms/step - loss: 1.3668 - accuracy: 0.8418 - val_loss: 1.9479 - val_accuracy: 0.8750\n",
      "Epoch 42/50\n",
      "163/163 [==============================] - 110s 676ms/step - loss: 1.2035 - accuracy: 0.8604 - val_loss: 0.1601 - val_accuracy: 1.0000\n",
      "Epoch 43/50\n",
      "163/163 [==============================] - 112s 686ms/step - loss: 1.0939 - accuracy: 0.8754 - val_loss: 0.1823 - val_accuracy: 0.8750\n",
      "Epoch 44/50\n",
      "163/163 [==============================] - 111s 682ms/step - loss: 1.2418 - accuracy: 0.8648 - val_loss: 0.1356 - val_accuracy: 1.0000\n",
      "Epoch 45/50\n",
      "163/163 [==============================] - 111s 682ms/step - loss: 1.3632 - accuracy: 0.8846 - val_loss: 1.9729 - val_accuracy: 0.8125\n",
      "Epoch 46/50\n",
      "163/163 [==============================] - 111s 680ms/step - loss: 1.2189 - accuracy: 0.8729 - val_loss: 0.1769 - val_accuracy: 0.8750\n",
      "Epoch 47/50\n",
      "163/163 [==============================] - 112s 689ms/step - loss: 1.3875 - accuracy: 0.8725 - val_loss: 1.1927 - val_accuracy: 0.8750\n",
      "Epoch 48/50\n",
      "163/163 [==============================] - 112s 685ms/step - loss: 1.1069 - accuracy: 0.8668 - val_loss: 0.1229 - val_accuracy: 0.9375\n",
      "Epoch 49/50\n",
      "163/163 [==============================] - 112s 690ms/step - loss: 1.3489 - accuracy: 0.8577 - val_loss: 1.9651 - val_accuracy: 0.8750\n",
      "Epoch 50/50\n",
      "163/163 [==============================] - 111s 682ms/step - loss: 2.1181 - accuracy: 0.8660 - val_loss: 2.0741 - val_accuracy: 0.7500\n"
     ]
    }
   ],
   "source": [
    "history_Xception = model_Xception.fit(\n",
    "    training_set, \n",
    "    steps_per_epoch = 163,\n",
    "    epochs = 50,\n",
    "    validation_data = validation_set,\n",
    "    class_weight={0:2.8 , 1:1}) "
   ]
  },
  {
   "cell_type": "code",
   "execution_count": null,
   "metadata": {},
   "outputs": [],
   "source": []
  },
  {
   "cell_type": "code",
   "execution_count": 34,
   "metadata": {
    "ExecuteTime": {
     "end_time": "2023-01-19T21:38:19.629775Z",
     "start_time": "2023-01-19T21:38:19.616775Z"
    }
   },
   "outputs": [],
   "source": [
    "# Testing\n",
    "################################"
   ]
  },
  {
   "cell_type": "code",
   "execution_count": null,
   "metadata": {},
   "outputs": [],
   "source": []
  },
  {
   "cell_type": "code",
   "execution_count": 35,
   "metadata": {
    "ExecuteTime": {
     "end_time": "2023-01-19T21:38:19.784784Z",
     "start_time": "2023-01-19T21:38:19.632275Z"
    }
   },
   "outputs": [
    {
     "ename": "NameError",
     "evalue": "name 'history3' is not defined",
     "output_type": "error",
     "traceback": [
      "\u001b[1;31m---------------------------------------------------------------------------\u001b[0m",
      "\u001b[1;31mNameError\u001b[0m                                 Traceback (most recent call last)",
      "\u001b[1;32m<ipython-input-35-d86e79798d1b>\u001b[0m in \u001b[0;36m<module>\u001b[1;34m\u001b[0m\n\u001b[0;32m      1\u001b[0m \u001b[1;31m# Accuracy\u001b[0m\u001b[1;33m\u001b[0m\u001b[1;33m\u001b[0m\u001b[1;33m\u001b[0m\u001b[0m\n\u001b[1;32m----> 2\u001b[1;33m \u001b[0mplt\u001b[0m\u001b[1;33m.\u001b[0m\u001b[0mplot\u001b[0m\u001b[1;33m(\u001b[0m\u001b[0mhistory3\u001b[0m\u001b[1;33m.\u001b[0m\u001b[0mhistory\u001b[0m\u001b[1;33m[\u001b[0m\u001b[1;34m'accuracy'\u001b[0m\u001b[1;33m]\u001b[0m\u001b[1;33m)\u001b[0m\u001b[1;33m\u001b[0m\u001b[1;33m\u001b[0m\u001b[0m\n\u001b[0m\u001b[0;32m      3\u001b[0m \u001b[0mplt\u001b[0m\u001b[1;33m.\u001b[0m\u001b[0mplot\u001b[0m\u001b[1;33m(\u001b[0m\u001b[0mhistory3\u001b[0m\u001b[1;33m.\u001b[0m\u001b[0mhistory\u001b[0m\u001b[1;33m[\u001b[0m\u001b[1;34m'val_accuracy'\u001b[0m\u001b[1;33m]\u001b[0m\u001b[1;33m)\u001b[0m\u001b[1;33m\u001b[0m\u001b[1;33m\u001b[0m\u001b[0m\n\u001b[0;32m      4\u001b[0m \u001b[0mplt\u001b[0m\u001b[1;33m.\u001b[0m\u001b[0mtitle\u001b[0m\u001b[1;33m(\u001b[0m\u001b[1;34m'Model Accuracy'\u001b[0m\u001b[1;33m)\u001b[0m\u001b[1;33m\u001b[0m\u001b[1;33m\u001b[0m\u001b[0m\n\u001b[0;32m      5\u001b[0m \u001b[0mplt\u001b[0m\u001b[1;33m.\u001b[0m\u001b[0mylabel\u001b[0m\u001b[1;33m(\u001b[0m\u001b[1;34m'Accuracy'\u001b[0m\u001b[1;33m)\u001b[0m\u001b[1;33m\u001b[0m\u001b[1;33m\u001b[0m\u001b[0m\n",
      "\u001b[1;31mNameError\u001b[0m: name 'history3' is not defined"
     ]
    }
   ],
   "source": [
    "# # Accuracy \n",
    "# plt.plot(history3.history['accuracy'])\n",
    "# plt.plot(history3.history['val_accuracy'])\n",
    "# plt.title('Model Accuracy')\n",
    "# plt.ylabel('Accuracy')\n",
    "# plt.xlabel('Epoch')\n",
    "# plt.legend(['Training set', 'Validation set'], loc='upper left')\n",
    "# plt.show()"
   ]
  },
  {
   "cell_type": "code",
   "execution_count": null,
   "metadata": {
    "ExecuteTime": {
     "end_time": "2023-01-19T21:38:19.787777Z",
     "start_time": "2023-01-19T19:53:06.432Z"
    }
   },
   "outputs": [],
   "source": [
    "# history4 = model.fit(\n",
    "#     training_set, \n",
    "#     steps_per_epoch = 163,\n",
    "#     epochs = 25,\n",
    "#     validation_data = validation_set,\n",
    "#     class_weight={0:2.8 , 1:1}) # <--------------------------"
   ]
  },
  {
   "cell_type": "code",
   "execution_count": null,
   "metadata": {
    "ExecuteTime": {
     "end_time": "2023-01-19T21:38:19.789783Z",
     "start_time": "2023-01-19T19:53:06.437Z"
    }
   },
   "outputs": [],
   "source": [
    "# history4.__dict__"
   ]
  },
  {
   "cell_type": "code",
   "execution_count": null,
   "metadata": {
    "ExecuteTime": {
     "end_time": "2023-01-19T21:38:19.791777Z",
     "start_time": "2023-01-19T19:53:06.441Z"
    }
   },
   "outputs": [],
   "source": [
    "# # Accuracy \n",
    "# plt.plot(history4.history['accuracy'])\n",
    "# plt.plot(history4.history['val_accuracy'])\n",
    "# plt.title('Model Accuracy')\n",
    "# plt.ylabel('Accuracy')\n",
    "# plt.xlabel('Epoch')\n",
    "# plt.legend(['Training set', 'Validation set'], loc='upper left')\n",
    "# plt.show()"
   ]
  },
  {
   "cell_type": "code",
   "execution_count": null,
   "metadata": {
    "ExecuteTime": {
     "end_time": "2023-01-19T21:38:19.793279Z",
     "start_time": "2023-01-19T19:53:06.446Z"
    }
   },
   "outputs": [],
   "source": [
    "# history5 = model.fit(\n",
    "#     training_set, \n",
    "#     steps_per_epoch = 163,\n",
    "#     epochs = 25,\n",
    "#     validation_data = validation_set,\n",
    "#     batch_size = 100,\n",
    "#     class_weight={0:2.8 , 1:1}) # <--------------------------"
   ]
  },
  {
   "cell_type": "code",
   "execution_count": null,
   "metadata": {
    "ExecuteTime": {
     "end_time": "2023-01-19T21:38:19.794277Z",
     "start_time": "2023-01-19T19:53:06.451Z"
    }
   },
   "outputs": [],
   "source": [
    "# history5.__dict__"
   ]
  },
  {
   "cell_type": "code",
   "execution_count": null,
   "metadata": {
    "ExecuteTime": {
     "end_time": "2023-01-19T21:38:19.796277Z",
     "start_time": "2023-01-19T19:53:06.455Z"
    }
   },
   "outputs": [],
   "source": [
    "# # Accuracy \n",
    "# plt.plot(history4.history['accuracy'])\n",
    "# plt.plot(history4.history['val_accuracy'])\n",
    "# plt.title('Model Accuracy')\n",
    "# plt.ylabel('Accuracy')\n",
    "# plt.xlabel('Epoch')\n",
    "# plt.legend(['Training set', 'Validation set'], loc='upper left')\n",
    "# plt.show()"
   ]
  },
  {
   "cell_type": "code",
   "execution_count": null,
   "metadata": {
    "ExecuteTime": {
     "end_time": "2023-01-19T21:38:19.797278Z",
     "start_time": "2023-01-19T19:53:06.460Z"
    }
   },
   "outputs": [],
   "source": [
    "# history6 = model.fit(\n",
    "#     training_set, \n",
    "#     steps_per_epoch = 163,\n",
    "#     epochs = 125,\n",
    "#     validation_data = validation_set,\n",
    "#     batch_size = 100,\n",
    "#     class_weight={0:2.8 , 1:1}) # <--------------------------"
   ]
  },
  {
   "cell_type": "code",
   "execution_count": null,
   "metadata": {
    "ExecuteTime": {
     "end_time": "2023-01-19T21:38:19.798777Z",
     "start_time": "2023-01-19T19:53:06.465Z"
    }
   },
   "outputs": [],
   "source": [
    "# # Accuracy \n",
    "# plt.plot(history6.history['accuracy'])\n",
    "# plt.plot(history6.history['val_accuracy'])\n",
    "# plt.title('Model Accuracy')\n",
    "# plt.ylabel('Accuracy')\n",
    "# plt.xlabel('Epoch')\n",
    "# plt.legend(['Training set', 'Validation set'], loc='upper left')\n",
    "# plt.show()"
   ]
  },
  {
   "cell_type": "code",
   "execution_count": null,
   "metadata": {
    "ExecuteTime": {
     "end_time": "2023-01-19T21:38:19.800778Z",
     "start_time": "2023-01-19T19:53:06.469Z"
    }
   },
   "outputs": [],
   "source": [
    "# test_acc = model.evaluate(test_set, steps=624)\n",
    "# print('The testing accuracy is :', test_acc[1]*100, '%')"
   ]
  },
  {
   "cell_type": "code",
   "execution_count": null,
   "metadata": {
    "ExecuteTime": {
     "end_time": "2023-01-19T21:38:19.802275Z",
     "start_time": "2023-01-19T19:53:06.474Z"
    }
   },
   "outputs": [],
   "source": [
    "# history7 = model.fit(\n",
    "#     training_set, \n",
    "#     steps_per_epoch = 163,\n",
    "#     epochs = 50,\n",
    "#     validation_data = validation_set,\n",
    "#     batch_size = 50,\n",
    "#     class_weight={0:2.8 , 1:1}) # <--------------------------"
   ]
  },
  {
   "cell_type": "markdown",
   "metadata": {},
   "source": [
    "## Evaluation"
   ]
  },
  {
   "cell_type": "code",
   "execution_count": null,
   "metadata": {
    "ExecuteTime": {
     "end_time": "2023-01-19T21:38:19.804278Z",
     "start_time": "2023-01-19T19:53:06.481Z"
    }
   },
   "outputs": [],
   "source": [
    "# https://stackoverflow.com/questions/56156229/how-to-use-kfold-cross-validation-output-as-cnn-input-for-image-processing"
   ]
  },
  {
   "cell_type": "code",
   "execution_count": null,
   "metadata": {},
   "outputs": [],
   "source": [
    "test_acc = model.evaluate(test_set, steps=624)\n",
    "# print('The testing accuracy is :', test_acc[1]*100, '%')"
   ]
  },
  {
   "cell_type": "code",
   "execution_count": null,
   "metadata": {},
   "outputs": [],
   "source": []
  },
  {
   "cell_type": "markdown",
   "metadata": {},
   "source": [
    "## Conclusion"
   ]
  },
  {
   "cell_type": "markdown",
   "metadata": {},
   "source": [
    "<!-- https://pubmed.ncbi.nlm.nih.gov/18299488/ -->\n",
    "<!-- https://pubmed.ncbi.nlm.nih.gov/15759443/ -->"
   ]
  },
  {
   "cell_type": "markdown",
   "metadata": {},
   "source": [
    "Doctors also make mistakes. This model specifically likely should not be deployed but an improved model will likely be able to outperform human doctors"
   ]
  },
  {
   "cell_type": "markdown",
   "metadata": {},
   "source": [
    "## Future Work"
   ]
  },
  {
   "cell_type": "markdown",
   "metadata": {},
   "source": [
    "Notes on current solution\n",
    "- Pediatric patients. Adult chest x-ray results may vary\n",
    "- Low val dataset\n",
    "- Relatively low iterations/testing of model architecture. I could have downsampled my data to try and get more iterations \n",
    "\n",
    "\n",
    "- Based off the seriousness of the problem any prediction that is under a certain confidence level should be reviewed by a doctor before taking further actions\n",
    "\n",
    "\n",
    "Future Work\n",
    "- More Data Augmentation\n",
    "- Collect a larger dataset\n",
    "- Collect more research on the error rates of doctors for diagnosing pneumonia"
   ]
  },
  {
   "cell_type": "code",
   "execution_count": null,
   "metadata": {},
   "outputs": [],
   "source": []
  }
 ],
 "metadata": {
  "kernelspec": {
   "display_name": "Python 3",
   "language": "python",
   "name": "python3"
  },
  "language_info": {
   "codemirror_mode": {
    "name": "ipython",
    "version": 3
   },
   "file_extension": ".py",
   "mimetype": "text/x-python",
   "name": "python",
   "nbconvert_exporter": "python",
   "pygments_lexer": "ipython3",
   "version": "3.8.5"
  },
  "toc": {
   "base_numbering": 1,
   "nav_menu": {},
   "number_sections": true,
   "sideBar": true,
   "skip_h1_title": false,
   "title_cell": "Table of Contents",
   "title_sidebar": "Contents",
   "toc_cell": true,
   "toc_position": {
    "height": "calc(100% - 180px)",
    "left": "10px",
    "top": "150px",
    "width": "512px"
   },
   "toc_section_display": true,
   "toc_window_display": true
  }
 },
 "nbformat": 4,
 "nbformat_minor": 4
}
